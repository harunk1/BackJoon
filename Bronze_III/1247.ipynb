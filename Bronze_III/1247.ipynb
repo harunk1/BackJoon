{
  "nbformat": 4,
  "nbformat_minor": 0,
  "metadata": {
    "colab": {
      "provenance": [],
      "authorship_tag": "ABX9TyNV7qJeWDsI8gMANVze0IJs",
      "include_colab_link": true
    },
    "kernelspec": {
      "name": "python3",
      "display_name": "Python 3"
    },
    "language_info": {
      "name": "python"
    }
  },
  "cells": [
    {
      "cell_type": "markdown",
      "metadata": {
        "id": "view-in-github",
        "colab_type": "text"
      },
      "source": [
        "<a href=\"https://colab.research.google.com/github/harunk1/BackJoon/blob/main/Bronze_III/1247.ipynb\" target=\"_parent\"><img src=\"https://colab.research.google.com/assets/colab-badge.svg\" alt=\"Open In Colab\"/></a>"
      ]
    },
    {
      "cell_type": "markdown",
      "source": [
        "#부호"
      ],
      "metadata": {
        "id": "zqQ-facGG5rX"
      }
    },
    {
      "cell_type": "code",
      "source": [
        "from sys import stdin\n",
        "\n",
        "for _ in range(3):\n",
        "    N = int(stdin.readline())\n",
        "    li = [int(stdin.readline()) for i in range(N)]\n",
        "    if sum(li) == 0:\n",
        "        print(\"0\")\n",
        "    elif sum(li) > 0:\n",
        "        print(\"+\")\n",
        "    else:\n",
        "        print(\"-\")"
      ],
      "metadata": {
        "id": "JnRHYZtxygdO",
        "colab": {
          "base_uri": "https://localhost:8080/"
        },
        "outputId": "c3d31463-1d3d-48f0-c39e-f78fe1bc59bf"
      },
      "execution_count": 1,
      "outputs": [
        {
          "output_type": "stream",
          "name": "stdout",
          "text": [
            "3\n",
            "0\n",
            "0\n",
            "0\n",
            "0\n",
            "10\n",
            "1\n",
            "2\n",
            "4\n",
            "8\n",
            "16\n",
            "32\n",
            "64\n",
            "128\n",
            "256\n",
            "-5123\n",
            "-\n",
            "6\n",
            "9223372036854775807\n",
            "9223372036854775806\n",
            "9223372036854775805\n",
            "-9223372036854775807\n",
            "-9223372036854775806\n",
            "-9223372036854775804\n",
            "-\n"
          ]
        }
      ]
    }
  ]
}