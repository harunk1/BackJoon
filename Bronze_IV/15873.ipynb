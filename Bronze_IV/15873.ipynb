{
  "nbformat": 4,
  "nbformat_minor": 0,
  "metadata": {
    "colab": {
      "provenance": [],
      "authorship_tag": "ABX9TyP5+bW9sUFYGOEF5B/fQ9eG",
      "include_colab_link": true
    },
    "kernelspec": {
      "name": "python3",
      "display_name": "Python 3"
    },
    "language_info": {
      "name": "python"
    }
  },
  "cells": [
    {
      "cell_type": "markdown",
      "metadata": {
        "id": "view-in-github",
        "colab_type": "text"
      },
      "source": [
        "<a href=\"https://colab.research.google.com/github/harunk1/BackJoon/blob/main/Bronze_IV/15873.ipynb\" target=\"_parent\"><img src=\"https://colab.research.google.com/assets/colab-badge.svg\" alt=\"Open In Colab\"/></a>"
      ]
    },
    {
      "cell_type": "markdown",
      "source": [
        "# 공백 없는 A+B"
      ],
      "metadata": {
        "id": "zqQ-facGG5rX"
      }
    },
    {
      "cell_type": "code",
      "source": [
        "ab=list(map(int,(input())))\n",
        "if ab[-1]==0:\n",
        "  ab.pop(-1)\n",
        "  ab.pop(-1)\n",
        "  a=''.join(map(str, ab))\n",
        "  a=int(a)\n",
        "  print(a+10)\n",
        "else :\n",
        "  b=ab.pop(-1)\n",
        "  a=''.join(map(str, ab))\n",
        "  a=int(a)\n",
        "  print(a+b)"
      ],
      "metadata": {
        "colab": {
          "base_uri": "https://localhost:8080/"
        },
        "id": "6D8mBO406QSB",
        "outputId": "d9a0334d-4848-4bca-a770-6e65f606c887"
      },
      "execution_count": 57,
      "outputs": [
        {
          "output_type": "stream",
          "name": "stdout",
          "text": [
            "37\n",
            "10\n"
          ]
        }
      ]
    },
    {
      "cell_type": "markdown",
      "source": [
        "## 다른방법"
      ],
      "metadata": {
        "id": "lBE4yorkYswQ"
      }
    },
    {
      "cell_type": "code",
      "source": [
        "n = input()\n",
        "if len(n) == 4:           #1010\n",
        "    print(20)\n",
        "elif len(n) == 2:         #ab\n",
        "    print(int(n[0]) + int(n[1]))\n",
        "else:\n",
        "    if int(n[-1]) == 0:   #a10\n",
        "        print(int(n[0]) + 10)\n",
        "    else:                 #10b\n",
        "        print(int(n[-1]) + 10)"
      ],
      "metadata": {
        "colab": {
          "base_uri": "https://localhost:8080/"
        },
        "id": "rIJB9zmLYuUQ",
        "outputId": "20176a61-a55c-4d3d-e5e1-fbc612a596ca"
      },
      "execution_count": 58,
      "outputs": [
        {
          "output_type": "stream",
          "name": "stdout",
          "text": [
            "37\n",
            "10\n"
          ]
        }
      ]
    }
  ]
}