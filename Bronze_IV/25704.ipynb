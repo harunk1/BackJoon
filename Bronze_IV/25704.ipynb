{
  "nbformat": 4,
  "nbformat_minor": 0,
  "metadata": {
    "colab": {
      "provenance": [],
      "authorship_tag": "ABX9TyPr0zj4vUfzQcdz96I287Z+",
      "include_colab_link": true
    },
    "kernelspec": {
      "name": "python3",
      "display_name": "Python 3"
    },
    "language_info": {
      "name": "python"
    }
  },
  "cells": [
    {
      "cell_type": "markdown",
      "metadata": {
        "id": "view-in-github",
        "colab_type": "text"
      },
      "source": [
        "<a href=\"https://colab.research.google.com/github/harunk1/BackJoon/blob/main/Bronze_IV/25704.ipynb\" target=\"_parent\"><img src=\"https://colab.research.google.com/assets/colab-badge.svg\" alt=\"Open In Colab\"/></a>"
      ]
    },
    {
      "cell_type": "markdown",
      "source": [
        "#출석 이벤트"
      ],
      "metadata": {
        "id": "zqQ-facGG5rX"
      }
    },
    {
      "cell_type": "code",
      "source": [
        "n=int(input())\n",
        "p=int(input())\n",
        "a=[0]\n",
        "if n>=5:\n",
        "  a.append(500)\n",
        "if n>=10:\n",
        "  a.append(p//10)\n",
        "if n>=15:\n",
        "  a.append(2000)\n",
        "if n>=20:\n",
        "  a.append(p//4)\n",
        "r=p-max(a)\n",
        "if r < 0 :\n",
        "    r = 0\n",
        "\n",
        "print(r)"
      ],
      "metadata": {
        "id": "JnRHYZtxygdO",
        "colab": {
          "base_uri": "https://localhost:8080/"
        },
        "outputId": "e0eca17d-ab2a-4aa5-9e4d-22d11004ab7f"
      },
      "execution_count": 30,
      "outputs": [
        {
          "output_type": "stream",
          "name": "stdout",
          "text": [
            "12\n",
            "50000\n",
            "45000\n"
          ]
        }
      ]
    }
  ]
}