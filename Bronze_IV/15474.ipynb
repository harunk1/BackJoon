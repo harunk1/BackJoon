{
  "nbformat": 4,
  "nbformat_minor": 0,
  "metadata": {
    "colab": {
      "provenance": [],
      "authorship_tag": "ABX9TyNFDK7DeHcZqjLlovTJ39Zl",
      "include_colab_link": true
    },
    "kernelspec": {
      "name": "python3",
      "display_name": "Python 3"
    },
    "language_info": {
      "name": "python"
    }
  },
  "cells": [
    {
      "cell_type": "markdown",
      "metadata": {
        "id": "view-in-github",
        "colab_type": "text"
      },
      "source": [
        "<a href=\"https://colab.research.google.com/github/harunk1/BackJoon/blob/main/Bronze_IV/15474.ipynb\" target=\"_parent\"><img src=\"https://colab.research.google.com/assets/colab-badge.svg\" alt=\"Open In Colab\"/></a>"
      ]
    },
    {
      "cell_type": "markdown",
      "source": [
        "#鉛筆 (Pencils)"
      ],
      "metadata": {
        "id": "zqQ-facGG5rX"
      }
    },
    {
      "cell_type": "code",
      "source": [
        "n,a,b,c,d=map(int,input().split())\n",
        "if n%a==0:\n",
        "  A=n//a\n",
        "else:\n",
        "  A=n//a+1\n",
        "if n%c==0:\n",
        "  C=n//c\n",
        "else:\n",
        "  C=n//c+1\n",
        "m=[A*b,C*d]\n",
        "print(min(m))"
      ],
      "metadata": {
        "id": "JnRHYZtxygdO",
        "colab": {
          "base_uri": "https://localhost:8080/"
        },
        "outputId": "bef3bbc2-b98d-435d-cdd3-3f89a4b1786c"
      },
      "execution_count": 15,
      "outputs": [
        {
          "output_type": "stream",
          "name": "stdout",
          "text": [
            "10 3 100 5 180\n",
            "360\n"
          ]
        }
      ]
    },
    {
      "cell_type": "markdown",
      "source": [
        "## 다른방법"
      ],
      "metadata": {
        "id": "NmBlymYDzV5g"
      }
    },
    {
      "cell_type": "code",
      "source": [
        "a,b,c,d,e=map(int,input().split())\n",
        "f=((a+b-1)//b)*c\n",
        "g=((a+d-1)//d)*e\n",
        "print(min(f,g))"
      ],
      "metadata": {
        "colab": {
          "base_uri": "https://localhost:8080/"
        },
        "id": "Gfe16LhgxrS4",
        "outputId": "1c4b461e-a51f-4b13-d595-797c789d2ea0"
      },
      "execution_count": 17,
      "outputs": [
        {
          "output_type": "stream",
          "name": "stdout",
          "text": [
            "10 3 100 5 180\n",
            "360\n"
          ]
        }
      ]
    }
  ]
}