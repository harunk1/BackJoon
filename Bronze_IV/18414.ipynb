{
  "nbformat": 4,
  "nbformat_minor": 0,
  "metadata": {
    "colab": {
      "provenance": [],
      "authorship_tag": "ABX9TyPY0G/d7OqDdnW9hy80vWzC",
      "include_colab_link": true
    },
    "kernelspec": {
      "name": "python3",
      "display_name": "Python 3"
    },
    "language_info": {
      "name": "python"
    }
  },
  "cells": [
    {
      "cell_type": "markdown",
      "metadata": {
        "id": "view-in-github",
        "colab_type": "text"
      },
      "source": [
        "<a href=\"https://colab.research.google.com/github/harunk1/BackJoon/blob/main/Bronze_IV/18414.ipynb\" target=\"_parent\"><img src=\"https://colab.research.google.com/assets/colab-badge.svg\" alt=\"Open In Colab\"/></a>"
      ]
    },
    {
      "cell_type": "markdown",
      "source": [
        "# X에 가장 가까운 값 (The Nearest Value)"
      ],
      "metadata": {
        "id": "zqQ-facGG5rX"
      }
    },
    {
      "cell_type": "code",
      "source": [
        "x,l,r=map(int,input().split())\n",
        "a=[]\n",
        "b=[]\n",
        "for i in range(l,r+1,1):\n",
        "  a.append(abs((x-i)))\n",
        "  b.append(i)\n",
        "c=a.index(min(a))\n",
        "print(b[c])"
      ],
      "metadata": {
        "colab": {
          "base_uri": "https://localhost:8080/"
        },
        "id": "pM6o8hiMwnAS",
        "outputId": "5b28bf92-998f-49e1-9b47-1a2beadda6f1"
      },
      "execution_count": 8,
      "outputs": [
        {
          "output_type": "stream",
          "name": "stdout",
          "text": [
            "8 10 10\n",
            "10\n"
          ]
        }
      ]
    }
  ]
}