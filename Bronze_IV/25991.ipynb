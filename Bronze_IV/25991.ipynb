{
  "nbformat": 4,
  "nbformat_minor": 0,
  "metadata": {
    "colab": {
      "provenance": [],
      "authorship_tag": "ABX9TyMr04aOU1yzA+HTKGIlNuR2",
      "include_colab_link": true
    },
    "kernelspec": {
      "name": "python3",
      "display_name": "Python 3"
    },
    "language_info": {
      "name": "python"
    }
  },
  "cells": [
    {
      "cell_type": "markdown",
      "metadata": {
        "id": "view-in-github",
        "colab_type": "text"
      },
      "source": [
        "<a href=\"https://colab.research.google.com/github/harunk1/BackJoon/blob/main/Bronze_IV/25991.ipynb\" target=\"_parent\"><img src=\"https://colab.research.google.com/assets/colab-badge.svg\" alt=\"Open In Colab\"/></a>"
      ]
    },
    {
      "cell_type": "markdown",
      "source": [
        "#Lots of Liquid"
      ],
      "metadata": {
        "id": "zqQ-facGG5rX"
      }
    },
    {
      "cell_type": "code",
      "source": [
        "n=int(input())\n",
        "a=[*map(float,input().split())]\n",
        "for i in range(n):\n",
        "  a[i]=a[i]**3\n",
        "print(pow(sum(a), 1/3))"
      ],
      "metadata": {
        "id": "JnRHYZtxygdO",
        "colab": {
          "base_uri": "https://localhost:8080/"
        },
        "outputId": "3210d149-3f16-4979-d985-b2878242c674"
      },
      "execution_count": 4,
      "outputs": [
        {
          "output_type": "stream",
          "name": "stdout",
          "text": [
            "3\n",
            "21 28 35\n",
            "41.99999999999999\n"
          ]
        }
      ]
    }
  ]
}