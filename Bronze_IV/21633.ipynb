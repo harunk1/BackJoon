{
  "nbformat": 4,
  "nbformat_minor": 0,
  "metadata": {
    "colab": {
      "provenance": [],
      "authorship_tag": "ABX9TyO87y5owpmdPFl1mSby+ThR",
      "include_colab_link": true
    },
    "kernelspec": {
      "name": "python3",
      "display_name": "Python 3"
    },
    "language_info": {
      "name": "python"
    }
  },
  "cells": [
    {
      "cell_type": "markdown",
      "metadata": {
        "id": "view-in-github",
        "colab_type": "text"
      },
      "source": [
        "<a href=\"https://colab.research.google.com/github/harunk1/BackJoon/blob/main/Bronze_IV/21633.ipynb\" target=\"_parent\"><img src=\"https://colab.research.google.com/assets/colab-badge.svg\" alt=\"Open In Colab\"/></a>"
      ]
    },
    {
      "cell_type": "markdown",
      "source": [
        "#Bank Transfer"
      ],
      "metadata": {
        "id": "zqQ-facGG5rX"
      }
    },
    {
      "cell_type": "code",
      "source": [
        "k=int(input())\n",
        "t=k*0.01+25\n",
        "if 100>=t:\n",
        "  print(100)\n",
        "elif t>=2000:\n",
        "  print(2000)\n",
        "else:\n",
        "  print(f\"{t:.2f}\")"
      ],
      "metadata": {
        "id": "JnRHYZtxygdO",
        "colab": {
          "base_uri": "https://localhost:8080/"
        },
        "outputId": "d1f63d39-7ae5-4a6e-a58b-947993ec431e"
      },
      "execution_count": 7,
      "outputs": [
        {
          "output_type": "stream",
          "name": "stdout",
          "text": [
            "20210\n",
            "227.10\n"
          ]
        }
      ]
    }
  ]
}