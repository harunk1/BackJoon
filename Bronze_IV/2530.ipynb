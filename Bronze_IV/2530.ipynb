{
  "nbformat": 4,
  "nbformat_minor": 0,
  "metadata": {
    "colab": {
      "provenance": [],
      "authorship_tag": "ABX9TyNYpAMmqZ2fb4pnllb4Ok71",
      "include_colab_link": true
    },
    "kernelspec": {
      "name": "python3",
      "display_name": "Python 3"
    },
    "language_info": {
      "name": "python"
    }
  },
  "cells": [
    {
      "cell_type": "markdown",
      "metadata": {
        "id": "view-in-github",
        "colab_type": "text"
      },
      "source": [
        "<a href=\"https://colab.research.google.com/github/harunk1/BackJoon/blob/main/Bronze_IV/2530.ipynb\" target=\"_parent\"><img src=\"https://colab.research.google.com/assets/colab-badge.svg\" alt=\"Open In Colab\"/></a>"
      ]
    },
    {
      "cell_type": "markdown",
      "source": [
        "# 인공지능 시계"
      ],
      "metadata": {
        "id": "zqQ-facGG5rX"
      }
    },
    {
      "cell_type": "code",
      "source": [
        "H, M, S = map(int, input().split())\n",
        "D = int(input())\n",
        "\n",
        "S += D % 60\n",
        "D = D // 60\n",
        "if S >= 60:\n",
        "    S -= 60\n",
        "    M += 1\n",
        "\n",
        "M += D % 60\n",
        "D = D // 60\n",
        "if M >= 60:\n",
        "    M -= 60\n",
        "    H += 1\n",
        "\n",
        "H += D % 24\n",
        "if H >= 24:\n",
        "    H -= 24\n",
        "\n",
        "print(H,M,S)"
      ],
      "metadata": {
        "colab": {
          "base_uri": "https://localhost:8080/"
        },
        "id": "QJisj3uremhy",
        "outputId": "b3b76047-d311-4eb9-8ed4-c62b9ad0da50"
      },
      "execution_count": 13,
      "outputs": [
        {
          "output_type": "stream",
          "name": "stdout",
          "text": [
            "14 30 0\n",
            "200\n",
            "200\n",
            "3\n",
            "0\n",
            "0\n",
            "14 33 20\n"
          ]
        }
      ]
    }
  ]
}