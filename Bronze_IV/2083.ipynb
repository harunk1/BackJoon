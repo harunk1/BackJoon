{
  "nbformat": 4,
  "nbformat_minor": 0,
  "metadata": {
    "colab": {
      "provenance": [],
      "authorship_tag": "ABX9TyNeVR5QPsshqKwr2jfe8JK1",
      "include_colab_link": true
    },
    "kernelspec": {
      "name": "python3",
      "display_name": "Python 3"
    },
    "language_info": {
      "name": "python"
    }
  },
  "cells": [
    {
      "cell_type": "markdown",
      "metadata": {
        "id": "view-in-github",
        "colab_type": "text"
      },
      "source": [
        "<a href=\"https://colab.research.google.com/github/harunk1/BackJoon/blob/main/Bronze_IV/2083.ipynb\" target=\"_parent\"><img src=\"https://colab.research.google.com/assets/colab-badge.svg\" alt=\"Open In Colab\"/></a>"
      ]
    },
    {
      "cell_type": "markdown",
      "source": [
        "# 럭비 클럽"
      ],
      "metadata": {
        "id": "zqQ-facGG5rX"
      }
    },
    {
      "cell_type": "code",
      "source": [
        "while 1:\n",
        "  c=0\n",
        "  ad=input()\n",
        "  if \"# 0 0\"==ad:\n",
        "    break\n",
        "  else :\n",
        "    s=ad.split()\n",
        "    if int(s[1])>17 or int(s[2])>=80:\n",
        "      print(s[0],'Senior')\n",
        "    else:\n",
        "      print(s[0],'Junior')"
      ],
      "metadata": {
        "colab": {
          "base_uri": "https://localhost:8080/"
        },
        "id": "FOQeOaLmG44q",
        "outputId": "9d87ce1d-a4d2-4f9d-d885-939ef9cef562"
      },
      "execution_count": 15,
      "outputs": [
        {
          "name": "stdout",
          "output_type": "stream",
          "text": [
            "Joe 16 34\n",
            "Joe Junior\n",
            "Bill 18 65\n",
            "Bill Senior\n",
            "Billy 17 65\n",
            "Billy Junior\n",
            "Sam 17 85\n",
            "Sam Senior\n",
            "# 0 0\n"
          ]
        }
      ]
    }
  ]
}