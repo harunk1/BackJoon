{
  "nbformat": 4,
  "nbformat_minor": 0,
  "metadata": {
    "colab": {
      "provenance": [],
      "authorship_tag": "ABX9TyND42CD8Bb5py3HeMJoiDwz",
      "include_colab_link": true
    },
    "kernelspec": {
      "name": "python3",
      "display_name": "Python 3"
    },
    "language_info": {
      "name": "python"
    }
  },
  "cells": [
    {
      "cell_type": "markdown",
      "metadata": {
        "id": "view-in-github",
        "colab_type": "text"
      },
      "source": [
        "<a href=\"https://colab.research.google.com/github/harunk1/BackJoon/blob/main/Bronze_IV/20839.ipynb\" target=\"_parent\"><img src=\"https://colab.research.google.com/assets/colab-badge.svg\" alt=\"Open In Colab\"/></a>"
      ]
    },
    {
      "cell_type": "markdown",
      "source": [
        "#Betygsättning"
      ],
      "metadata": {
        "id": "zqQ-facGG5rX"
      }
    },
    {
      "cell_type": "code",
      "source": [
        "a,c,e=map(int,input().split())\n",
        "A,C,E=map(int,input().split())\n",
        "y=c/2\n",
        "x=a/2\n",
        "if a==A and c==C and e==E:\n",
        "  print(\"A\")\n",
        "elif A>=x and c==C and e==E:\n",
        "  print(\"B\")\n",
        "elif c==C and e==E :\n",
        "  print(\"C\")\n",
        "elif e==E and C>=y:\n",
        "  print(\"D\")\n",
        "elif e==E:\n",
        "  print(\"E\")\n"
      ],
      "metadata": {
        "id": "JnRHYZtxygdO",
        "colab": {
          "base_uri": "https://localhost:8080/"
        },
        "outputId": "7e7f7954-c788-42eb-cdd8-2b3a47cd5f97"
      },
      "execution_count": 4,
      "outputs": [
        {
          "output_type": "stream",
          "name": "stdout",
          "text": [
            "10 10 10\n",
            "9 10 10\n",
            "B\n"
          ]
        }
      ]
    }
  ]
}