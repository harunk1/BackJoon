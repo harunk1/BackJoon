{
  "nbformat": 4,
  "nbformat_minor": 0,
  "metadata": {
    "colab": {
      "provenance": [],
      "authorship_tag": "ABX9TyPiBvCuPwt87v+Nbp56JIRZ",
      "include_colab_link": true
    },
    "kernelspec": {
      "name": "python3",
      "display_name": "Python 3"
    },
    "language_info": {
      "name": "python"
    }
  },
  "cells": [
    {
      "cell_type": "markdown",
      "metadata": {
        "id": "view-in-github",
        "colab_type": "text"
      },
      "source": [
        "<a href=\"https://colab.research.google.com/github/harunk1/BackJoon/blob/main/Bronze_IV/5357.ipynb\" target=\"_parent\"><img src=\"https://colab.research.google.com/assets/colab-badge.svg\" alt=\"Open In Colab\"/></a>"
      ]
    },
    {
      "cell_type": "markdown",
      "source": [
        "# Dedupe"
      ],
      "metadata": {
        "id": "zqQ-facGG5rX"
      }
    },
    {
      "cell_type": "code",
      "source": [
        "n=int(input())\n",
        "for _ in range(n):\n",
        "  c=0\n",
        "  z=input()\n",
        "  a=[z[0]]\n",
        "  for i in range(len(z)):\n",
        "    if z[i]!=a[c]:\n",
        "      a.append(z[i])\n",
        "      c+=1\n",
        "  result = ''.join(map(str, a))\n",
        "  print(result)"
      ],
      "metadata": {
        "colab": {
          "base_uri": "https://localhost:8080/"
        },
        "id": "QJisj3uremhy",
        "outputId": "df8a53af-3d4c-4549-8a26-25dc0ee758f3"
      },
      "execution_count": 34,
      "outputs": [
        {
          "output_type": "stream",
          "name": "stdout",
          "text": [
            "3\n",
            "ABBBBAACC\n",
            "ABAC\n",
            "AAAAA\n",
            "A\n",
            "ABC\n",
            "ABC\n"
          ]
        }
      ]
    },
    {
      "cell_type": "markdown",
      "source": [
        "## 다른 방법\n",
        "\n"
      ],
      "metadata": {
        "id": "nx1404pY8G0_"
      }
    },
    {
      "cell_type": "code",
      "source": [
        "for _ in range(int(input())) :\n",
        "    prev = ''\n",
        "    s = input()\n",
        "    for i in range(len(s)) :\n",
        "        if prev != s[i] :\n",
        "            print(s[i], end = \"\")\n",
        "            prev = s[i]\n",
        "    print()"
      ],
      "metadata": {
        "colab": {
          "base_uri": "https://localhost:8080/"
        },
        "id": "ZjT5jbrL8HEO",
        "outputId": "75bf9323-81ee-409a-c02e-3cf9c796e026"
      },
      "execution_count": 35,
      "outputs": [
        {
          "output_type": "stream",
          "name": "stdout",
          "text": [
            "3\n",
            "ABBBBAACC\n",
            "ABAC\n",
            "AAAAA\n",
            "A\n",
            "ABC\n",
            "ABC\n"
          ]
        }
      ]
    }
  ]
}