{
  "nbformat": 4,
  "nbformat_minor": 0,
  "metadata": {
    "colab": {
      "provenance": [],
      "authorship_tag": "ABX9TyO5Neifjjkc6Zf41K38AqFW",
      "include_colab_link": true
    },
    "kernelspec": {
      "name": "python3",
      "display_name": "Python 3"
    },
    "language_info": {
      "name": "python"
    }
  },
  "cells": [
    {
      "cell_type": "markdown",
      "metadata": {
        "id": "view-in-github",
        "colab_type": "text"
      },
      "source": [
        "<a href=\"https://colab.research.google.com/github/harunk1/BackJoon/blob/main/Bronze_IV/15025.ipynb\" target=\"_parent\"><img src=\"https://colab.research.google.com/assets/colab-badge.svg\" alt=\"Open In Colab\"/></a>"
      ]
    },
    {
      "cell_type": "markdown",
      "source": [
        "# Judging Moose"
      ],
      "metadata": {
        "id": "zqQ-facGG5rX"
      }
    },
    {
      "cell_type": "code",
      "source": [
        "l,r=map(int,input().split())\n",
        "if l==0 and r==0:\n",
        "  print(\"Not a moose\")\n",
        "elif l>r:\n",
        "  print(\"Odd\",l*2)\n",
        "elif l<r:\n",
        "  print(\"Odd\",r*2)\n",
        "elif l==r:\n",
        "  print(\"Even\",l+r)"
      ],
      "metadata": {
        "colab": {
          "base_uri": "https://localhost:8080/"
        },
        "id": "6D8mBO406QSB",
        "outputId": "a34bda61-2b7d-49b1-890e-aeefe84b7d5c"
      },
      "execution_count": 7,
      "outputs": [
        {
          "output_type": "stream",
          "name": "stdout",
          "text": [
            "3 3\n",
            "Even 6\n"
          ]
        }
      ]
    }
  ]
}