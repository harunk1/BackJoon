{
  "nbformat": 4,
  "nbformat_minor": 0,
  "metadata": {
    "colab": {
      "provenance": [],
      "authorship_tag": "ABX9TyPALxNKjF2kNoOFA8sQyoq1",
      "include_colab_link": true
    },
    "kernelspec": {
      "name": "python3",
      "display_name": "Python 3"
    },
    "language_info": {
      "name": "python"
    }
  },
  "cells": [
    {
      "cell_type": "markdown",
      "metadata": {
        "id": "view-in-github",
        "colab_type": "text"
      },
      "source": [
        "<a href=\"https://colab.research.google.com/github/harunk1/BackJoon/blob/main/Bronze_IV/20232.ipynb\" target=\"_parent\"><img src=\"https://colab.research.google.com/assets/colab-badge.svg\" alt=\"Open In Colab\"/></a>"
      ]
    },
    {
      "cell_type": "markdown",
      "source": [
        "# Archivist"
      ],
      "metadata": {
        "id": "zqQ-facGG5rX"
      }
    },
    {
      "cell_type": "code",
      "source": [
        "y=int(input())\n",
        "\n",
        "Archivist={1995: 'ITMO',\n",
        "1996: 'SPbSU',\n",
        "1997: 'SPbSU',\n",
        "1998: 'ITMO',\n",
        "1999: 'ITMO',\n",
        "2000: 'SPbSU',\n",
        "2001: 'ITMO',\n",
        "2002: 'ITMO',\n",
        "2003: 'ITMO',\n",
        "2004: 'ITMO',\n",
        "2005: 'ITMO',\n",
        "2006: 'PetrSU, ITMO',\n",
        "2007: 'SPbSU',\n",
        "2008: 'SPbSU',\n",
        "2009: 'ITMO',\n",
        "2010: 'ITMO',\n",
        "2011: 'ITMO',\n",
        "2012: 'ITMO',\n",
        "2013: 'SPbSU',\n",
        "2014: 'ITMO',\n",
        "2015: 'ITMO',\n",
        "2016: 'ITMO',\n",
        "2017: 'ITMO',\n",
        "2018: 'SPbSU',\n",
        "2019: 'ITMO'}\n",
        "\n",
        "print(Archivist[y])"
      ],
      "metadata": {
        "id": "JnRHYZtxygdO",
        "colab": {
          "base_uri": "https://localhost:8080/"
        },
        "outputId": "41a711c1-16b5-4524-e31d-55a398ed0010"
      },
      "execution_count": 3,
      "outputs": [
        {
          "output_type": "stream",
          "name": "stdout",
          "text": [
            "2019\n",
            "ITMO\n"
          ]
        }
      ]
    }
  ]
}