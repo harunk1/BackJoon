{
  "nbformat": 4,
  "nbformat_minor": 0,
  "metadata": {
    "colab": {
      "provenance": [],
      "authorship_tag": "ABX9TyNqV40gf1Lv4mXiQkVi/8B5",
      "include_colab_link": true
    },
    "kernelspec": {
      "name": "python3",
      "display_name": "Python 3"
    },
    "language_info": {
      "name": "python"
    }
  },
  "cells": [
    {
      "cell_type": "markdown",
      "metadata": {
        "id": "view-in-github",
        "colab_type": "text"
      },
      "source": [
        "<a href=\"https://colab.research.google.com/github/harunk1/BackJoon/blob/main/Bronze_IV/5358.ipynb\" target=\"_parent\"><img src=\"https://colab.research.google.com/assets/colab-badge.svg\" alt=\"Open In Colab\"/></a>"
      ]
    },
    {
      "cell_type": "markdown",
      "source": [
        "# Football Team"
      ],
      "metadata": {
        "id": "zqQ-facGG5rX"
      }
    },
    {
      "cell_type": "code",
      "source": [
        "try:\n",
        "    while True :\n",
        "        name = input()\n",
        "        for i in range(len(name)) :\n",
        "            if name[i] == 'e' : print(\"i\", end = \"\")\n",
        "            elif name[i] == 'i' : print(\"e\", end = \"\")\n",
        "            elif name[i] == 'E' : print(\"I\", end = \"\")\n",
        "            elif name[i] == 'I' : print(\"E\", end = \"\")\n",
        "            else : print(name[i], end = \"\")\n",
        "        print()\n",
        "except:\n",
        "    exit(0)"
      ],
      "metadata": {
        "colab": {
          "base_uri": "https://localhost:8080/"
        },
        "id": "QJisj3uremhy",
        "outputId": "43d01a4e-09e9-4416-a369-f611a2154f90"
      },
      "execution_count": 17,
      "outputs": [
        {
          "output_type": "stream",
          "name": "stdout",
          "text": [
            "Alan Pagi \n",
            "Alan Page \n",
            "0\n",
            "0\n",
            "\n",
            "\n",
            "exit\n",
            "ixet\n"
          ]
        }
      ]
    }
  ]
}