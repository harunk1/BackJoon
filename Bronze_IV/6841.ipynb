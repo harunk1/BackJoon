{
  "nbformat": 4,
  "nbformat_minor": 0,
  "metadata": {
    "colab": {
      "provenance": [],
      "authorship_tag": "ABX9TyN2MfwmMX2OFl80RnXZ7Pgp",
      "include_colab_link": true
    },
    "kernelspec": {
      "name": "python3",
      "display_name": "Python 3"
    },
    "language_info": {
      "name": "python"
    }
  },
  "cells": [
    {
      "cell_type": "markdown",
      "metadata": {
        "id": "view-in-github",
        "colab_type": "text"
      },
      "source": [
        "<a href=\"https://colab.research.google.com/github/harunk1/BackJoon/blob/main/Bronze_IV/6841.ipynb\" target=\"_parent\"><img src=\"https://colab.research.google.com/assets/colab-badge.svg\" alt=\"Open In Colab\"/></a>"
      ]
    },
    {
      "cell_type": "markdown",
      "source": [
        "# I Speak TXTMSG"
      ],
      "metadata": {
        "id": "zqQ-facGG5rX"
      }
    },
    {
      "cell_type": "code",
      "source": [
        "msg = {\n",
        "    \"CU\": \"see you\",\n",
        "    \":-)\": \"I’m happy\",\n",
        "    \":-()\": \"I’m unhappy\",\n",
        "    \";-)\": \"wink\",\n",
        "    \":-P\": \"stick out my tongue\",\n",
        "    \"(~.~)\": \"sleepy\",\n",
        "    \"TA\": \"totally awesome\",\n",
        "    \"CCC\": \"Canadian Computing Competition\",\n",
        "    \"CUZ\": \"because\",\n",
        "    \"TY\": \"thank-you\",\n",
        "    \"YW\": \"you’re welcome\",\n",
        "    \"TTYL\": \"talk to you later\"\n",
        "}\n",
        "while True:\n",
        "  m=input()\n",
        "  if m in msg:\n",
        "    print(msg[m])\n",
        "  elif m not in msg:\n",
        "    print(m)\n",
        "  if m==\"TTYL\":\n",
        "    break"
      ],
      "metadata": {
        "colab": {
          "base_uri": "https://localhost:8080/"
        },
        "id": "LdCHgbSRiyNr",
        "outputId": "d37c148a-dcb2-4fcd-fc6a-3204a34c3210"
      },
      "execution_count": 5,
      "outputs": [
        {
          "output_type": "stream",
          "name": "stdout",
          "text": [
            "TTYL\n",
            "talk to you later\n"
          ]
        }
      ]
    }
  ]
}