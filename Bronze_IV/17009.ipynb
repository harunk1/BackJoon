{
  "nbformat": 4,
  "nbformat_minor": 0,
  "metadata": {
    "colab": {
      "provenance": [],
      "authorship_tag": "ABX9TyNswlk6LGwSeMhR65gLpx8z",
      "include_colab_link": true
    },
    "kernelspec": {
      "name": "python3",
      "display_name": "Python 3"
    },
    "language_info": {
      "name": "python"
    }
  },
  "cells": [
    {
      "cell_type": "markdown",
      "metadata": {
        "id": "view-in-github",
        "colab_type": "text"
      },
      "source": [
        "<a href=\"https://colab.research.google.com/github/harunk1/BackJoon/blob/main/Bronze_IV/17009.ipynb\" target=\"_parent\"><img src=\"https://colab.research.google.com/assets/colab-badge.svg\" alt=\"Open In Colab\"/></a>"
      ]
    },
    {
      "cell_type": "markdown",
      "source": [
        "#Winning Score"
      ],
      "metadata": {
        "id": "zqQ-facGG5rX"
      }
    },
    {
      "cell_type": "code",
      "source": [
        "a=[]\n",
        "b=[]\n",
        "for _ in range(3):\n",
        "  a.append(int(input()))\n",
        "for _ in range(3):\n",
        "  b.append(int(input()))\n",
        "A=a[0]*3+a[1]*2+a[2]*1\n",
        "B=b[0]*3+b[1]*2+b[2]*1\n",
        "if A>B:\n",
        "  print(\"A\")\n",
        "elif A<B:\n",
        "  print(\"B\")\n",
        "elif A==B:\n",
        "  print(\"T\")"
      ],
      "metadata": {
        "id": "JnRHYZtxygdO",
        "colab": {
          "base_uri": "https://localhost:8080/"
        },
        "outputId": "d470b3be-0629-4a4a-c03d-d9acbfc6253c"
      },
      "execution_count": 1,
      "outputs": [
        {
          "output_type": "stream",
          "name": "stdout",
          "text": [
            "10\n",
            "3\n",
            "7\n",
            "8\n",
            "9\n",
            "6\n",
            "B\n"
          ]
        }
      ]
    }
  ]
}