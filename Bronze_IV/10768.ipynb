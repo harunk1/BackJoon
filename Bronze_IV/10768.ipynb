{
  "nbformat": 4,
  "nbformat_minor": 0,
  "metadata": {
    "colab": {
      "provenance": [],
      "authorship_tag": "ABX9TyN2Kb5REw8SD7RHH+aGSt0E",
      "include_colab_link": true
    },
    "kernelspec": {
      "name": "python3",
      "display_name": "Python 3"
    },
    "language_info": {
      "name": "python"
    }
  },
  "cells": [
    {
      "cell_type": "markdown",
      "metadata": {
        "id": "view-in-github",
        "colab_type": "text"
      },
      "source": [
        "<a href=\"https://colab.research.google.com/github/harunk1/BackJoon/blob/main/Bronze_IV/10768.ipynb\" target=\"_parent\"><img src=\"https://colab.research.google.com/assets/colab-badge.svg\" alt=\"Open In Colab\"/></a>"
      ]
    },
    {
      "cell_type": "markdown",
      "source": [
        "# 특별한 날"
      ],
      "metadata": {
        "id": "zqQ-facGG5rX"
      }
    },
    {
      "cell_type": "code",
      "source": [
        "n=int(input())\n",
        "m=int(input())\n",
        "\n",
        "if n==2 and m>18 :\n",
        "  print(\"After\")\n",
        "elif n==2 and m<18:\n",
        "  print(\"Before\")\n",
        "elif n==2 and m==18:\n",
        "  print(\"Special\")\n",
        "elif n>2 :\n",
        "  print(\"After\")\n",
        "elif n<2:\n",
        "  print(\"Before\")"
      ],
      "metadata": {
        "colab": {
          "base_uri": "https://localhost:8080/"
        },
        "id": "QJisj3uremhy",
        "outputId": "7ca0814a-1424-4f12-9ad7-502c0bd77fee"
      },
      "execution_count": 8,
      "outputs": [
        {
          "name": "stdout",
          "output_type": "stream",
          "text": [
            "3\n",
            "15\n"
          ]
        }
      ]
    },
    {
      "cell_type": "markdown",
      "source": [
        "## 다른 방법"
      ],
      "metadata": {
        "id": "4BxtNbQt0ikR"
      }
    },
    {
      "cell_type": "code",
      "source": [
        "n,m = int(input()),int(input())\n",
        "if n > 2:\n",
        "    print('After')\n",
        "elif n < 2:\n",
        "    print('Before')\n",
        "elif n == 2:\n",
        "    if m > 18:\n",
        "        print('After')\n",
        "    elif m < 18:\n",
        "        print('Before')\n",
        "    else:\n",
        "        print('Special')"
      ],
      "metadata": {
        "colab": {
          "base_uri": "https://localhost:8080/"
        },
        "id": "oKipggeA0D8r",
        "outputId": "7ae1a67e-0cce-4ca1-dcc6-afb68d1e6f2e"
      },
      "execution_count": 9,
      "outputs": [
        {
          "output_type": "stream",
          "name": "stdout",
          "text": [
            "3\n",
            "15\n",
            "After\n"
          ]
        }
      ]
    }
  ]
}