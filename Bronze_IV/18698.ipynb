{
  "nbformat": 4,
  "nbformat_minor": 0,
  "metadata": {
    "colab": {
      "provenance": [],
      "authorship_tag": "ABX9TyPSb5+2Z62RJ9kefX2Vd+yO",
      "include_colab_link": true
    },
    "kernelspec": {
      "name": "python3",
      "display_name": "Python 3"
    },
    "language_info": {
      "name": "python"
    }
  },
  "cells": [
    {
      "cell_type": "markdown",
      "metadata": {
        "id": "view-in-github",
        "colab_type": "text"
      },
      "source": [
        "<a href=\"https://colab.research.google.com/github/harunk1/BackJoon/blob/main/Bronze_IV/18698.ipynb\" target=\"_parent\"><img src=\"https://colab.research.google.com/assets/colab-badge.svg\" alt=\"Open In Colab\"/></a>"
      ]
    },
    {
      "cell_type": "markdown",
      "source": [
        "# The Walking Adam"
      ],
      "metadata": {
        "id": "zqQ-facGG5rX"
      }
    },
    {
      "cell_type": "code",
      "source": [
        "t=int(input())\n",
        "for _ in range(t):\n",
        "  walking=input()\n",
        "  a=0\n",
        "  for i in range(len(walking)):\n",
        "    if walking[i]==\"U\":\n",
        "       a+=1\n",
        "    elif walking[i]==\"D\":\n",
        "      break\n",
        "  print(a)"
      ],
      "metadata": {
        "colab": {
          "base_uri": "https://localhost:8080/"
        },
        "id": "pM6o8hiMwnAS",
        "outputId": "4714b2a4-8406-4efa-e1d5-dfc3d8562518"
      },
      "execution_count": 1,
      "outputs": [
        {
          "output_type": "stream",
          "name": "stdout",
          "text": [
            "3\n",
            "UUUDU\n",
            "3\n",
            "DDD\n",
            "0\n",
            "UU\n",
            "2\n"
          ]
        }
      ]
    }
  ]
}