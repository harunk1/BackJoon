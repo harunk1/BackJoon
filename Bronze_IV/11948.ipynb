{
  "nbformat": 4,
  "nbformat_minor": 0,
  "metadata": {
    "colab": {
      "provenance": [],
      "authorship_tag": "ABX9TyPz+st5mn9f+zmdQaoUGKl5",
      "include_colab_link": true
    },
    "kernelspec": {
      "name": "python3",
      "display_name": "Python 3"
    },
    "language_info": {
      "name": "python"
    }
  },
  "cells": [
    {
      "cell_type": "markdown",
      "metadata": {
        "id": "view-in-github",
        "colab_type": "text"
      },
      "source": [
        "<a href=\"https://colab.research.google.com/github/harunk1/BackJoon/blob/main/Bronze_IV/11948.ipynb\" target=\"_parent\"><img src=\"https://colab.research.google.com/assets/colab-badge.svg\" alt=\"Open In Colab\"/></a>"
      ]
    },
    {
      "cell_type": "markdown",
      "source": [
        "# 과목선택"
      ],
      "metadata": {
        "id": "zqQ-facGG5rX"
      }
    },
    {
      "cell_type": "code",
      "source": [
        "abcd=[]\n",
        "ef=[]\n",
        "for _ in range(4):\n",
        "  abcd.append(int(input()))\n",
        "for _ in range(2):\n",
        "  ef.append(int(input()))\n",
        "abcd.remove(min(abcd))\n",
        "ef.remove(min(ef))\n",
        "print(sum(abcd+ef))\n"
      ],
      "metadata": {
        "colab": {
          "base_uri": "https://localhost:8080/"
        },
        "id": "QJisj3uremhy",
        "outputId": "3e8752f8-7ed7-4b32-b315-11cbbf2beb0f"
      },
      "execution_count": 9,
      "outputs": [
        {
          "output_type": "stream",
          "name": "stdout",
          "text": [
            "100\n",
            "34\n",
            "76\n",
            "42\n",
            "10\n",
            "0\n",
            "228\n"
          ]
        }
      ]
    }
  ]
}