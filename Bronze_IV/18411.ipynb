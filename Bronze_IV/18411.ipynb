{
  "nbformat": 4,
  "nbformat_minor": 0,
  "metadata": {
    "colab": {
      "provenance": [],
      "authorship_tag": "ABX9TyNF5bOr/lQ4GAbwtSRzhOr5",
      "include_colab_link": true
    },
    "kernelspec": {
      "name": "python3",
      "display_name": "Python 3"
    },
    "language_info": {
      "name": "python"
    }
  },
  "cells": [
    {
      "cell_type": "markdown",
      "metadata": {
        "id": "view-in-github",
        "colab_type": "text"
      },
      "source": [
        "<a href=\"https://colab.research.google.com/github/harunk1/BackJoon/blob/main/Bronze_IV/18411.ipynb\" target=\"_parent\"><img src=\"https://colab.research.google.com/assets/colab-badge.svg\" alt=\"Open In Colab\"/></a>"
      ]
    },
    {
      "cell_type": "markdown",
      "source": [
        "#試験 (Exam)"
      ],
      "metadata": {
        "id": "zqQ-facGG5rX"
      }
    },
    {
      "cell_type": "code",
      "source": [
        "jol=list(map(int,input().split()))\n",
        "a=jol.pop(jol.index(max(jol)))\n",
        "b=jol.pop(jol.index(max(jol)))\n",
        "print(a+b)"
      ],
      "metadata": {
        "id": "JnRHYZtxygdO",
        "colab": {
          "base_uri": "https://localhost:8080/"
        },
        "outputId": "29c34432-cb21-474a-b9ef-deacd21e00e0"
      },
      "execution_count": 4,
      "outputs": [
        {
          "output_type": "stream",
          "name": "stdout",
          "text": [
            "70 80 90\n",
            "170\n"
          ]
        }
      ]
    }
  ]
}