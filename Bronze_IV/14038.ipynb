{
  "nbformat": 4,
  "nbformat_minor": 0,
  "metadata": {
    "colab": {
      "provenance": [],
      "authorship_tag": "ABX9TyOekMIuVoE27VgrPf6Rocp/",
      "include_colab_link": true
    },
    "kernelspec": {
      "name": "python3",
      "display_name": "Python 3"
    },
    "language_info": {
      "name": "python"
    }
  },
  "cells": [
    {
      "cell_type": "markdown",
      "metadata": {
        "id": "view-in-github",
        "colab_type": "text"
      },
      "source": [
        "<a href=\"https://colab.research.google.com/github/harunk1/BackJoon/blob/main/Bronze_IV/14038.ipynb\" target=\"_parent\"><img src=\"https://colab.research.google.com/assets/colab-badge.svg\" alt=\"Open In Colab\"/></a>"
      ]
    },
    {
      "cell_type": "markdown",
      "source": [
        "# Tournament Selection"
      ],
      "metadata": {
        "id": "zqQ-facGG5rX"
      }
    },
    {
      "cell_type": "code",
      "source": [
        "w=0\n",
        "for _ in range(6):\n",
        "  n=input()\n",
        "  if n==\"W\":\n",
        "    w+=1\n",
        "if 5<=w<=6:\n",
        "  print(1)\n",
        "elif 3<=w<=4:\n",
        "  print(2)\n",
        "elif 1<=w<=2:\n",
        "  print(3)\n",
        "elif w<1:\n",
        "  print(-1)"
      ],
      "metadata": {
        "colab": {
          "base_uri": "https://localhost:8080/"
        },
        "id": "pM6o8hiMwnAS",
        "outputId": "adf87f64-1038-4c9b-b4cd-68510882aaa8"
      },
      "execution_count": 3,
      "outputs": [
        {
          "output_type": "stream",
          "name": "stdout",
          "text": [
            "L\n",
            "L\n",
            "L\n",
            "L\n",
            "L\n",
            "L\n",
            "-1\n"
          ]
        }
      ]
    }
  ]
}