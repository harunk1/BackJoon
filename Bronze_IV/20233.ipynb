{
  "nbformat": 4,
  "nbformat_minor": 0,
  "metadata": {
    "colab": {
      "provenance": [],
      "authorship_tag": "ABX9TyOe7Y76H5fmdjQZ2Ue8ERf+",
      "include_colab_link": true
    },
    "kernelspec": {
      "name": "python3",
      "display_name": "Python 3"
    },
    "language_info": {
      "name": "python"
    }
  },
  "cells": [
    {
      "cell_type": "markdown",
      "metadata": {
        "id": "view-in-github",
        "colab_type": "text"
      },
      "source": [
        "<a href=\"https://colab.research.google.com/github/harunk1/BackJoon/blob/main/Bronze_IV/20233.ipynb\" target=\"_parent\"><img src=\"https://colab.research.google.com/assets/colab-badge.svg\" alt=\"Open In Colab\"/></a>"
      ]
    },
    {
      "cell_type": "markdown",
      "source": [
        "# Bicycle"
      ],
      "metadata": {
        "id": "zqQ-facGG5rX"
      }
    },
    {
      "cell_type": "code",
      "source": [
        "a=int(input())\n",
        "x=int(input())\n",
        "b=int(input())\n",
        "y=int(input())\n",
        "t=int(input())\n",
        "A = a\n",
        "if t > 30:\n",
        "    A += (t-30)*x*21\n",
        "\n",
        "B = b\n",
        "if t > 45:\n",
        "    B += (t-45)*y*21\n",
        "\n",
        "print(A, B)"
      ],
      "metadata": {
        "id": "JnRHYZtxygdO",
        "colab": {
          "base_uri": "https://localhost:8080/"
        },
        "outputId": "b154faa3-885f-4619-8a82-7d74d0b50796"
      },
      "execution_count": 4,
      "outputs": [
        {
          "output_type": "stream",
          "name": "stdout",
          "text": [
            "10\n",
            "1\n",
            "20\n",
            "5\n",
            "50\n",
            "430 545\n"
          ]
        }
      ]
    }
  ]
}