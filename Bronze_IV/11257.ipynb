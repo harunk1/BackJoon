{
  "nbformat": 4,
  "nbformat_minor": 0,
  "metadata": {
    "colab": {
      "provenance": [],
      "authorship_tag": "ABX9TyOdnab5BDLDRN5y5jay6Z5p",
      "include_colab_link": true
    },
    "kernelspec": {
      "name": "python3",
      "display_name": "Python 3"
    },
    "language_info": {
      "name": "python"
    }
  },
  "cells": [
    {
      "cell_type": "markdown",
      "metadata": {
        "id": "view-in-github",
        "colab_type": "text"
      },
      "source": [
        "<a href=\"https://colab.research.google.com/github/harunk1/BackJoon/blob/main/Bronze_IV/11257.ipynb\" target=\"_parent\"><img src=\"https://colab.research.google.com/assets/colab-badge.svg\" alt=\"Open In Colab\"/></a>"
      ]
    },
    {
      "cell_type": "markdown",
      "source": [
        "# IT Passport Examination"
      ],
      "metadata": {
        "id": "zqQ-facGG5rX"
      }
    },
    {
      "cell_type": "code",
      "source": [
        "n=int(input())\n",
        "for i in range(n):\n",
        "  a,b,c,d=map(int, input().split())\n",
        "  Sum=b+c+d\n",
        "  if b>=(0.3*35) and c>=(0.3*25) and d>=(0.3*40) and Sum>=55 :\n",
        "    print(a,Sum,\"PASS\")\n",
        "  else :\n",
        "    print(a,Sum,\"FAIL\")"
      ],
      "metadata": {
        "colab": {
          "base_uri": "https://localhost:8080/"
        },
        "id": "6D8mBO406QSB",
        "outputId": "092deb52-2946-418d-bfd7-da138ffcae6a"
      },
      "execution_count": 3,
      "outputs": [
        {
          "output_type": "stream",
          "name": "stdout",
          "text": [
            "5\n",
            "12345601 10 20 30\n",
            "12345601 60 FAIL\n",
            "12345610 15 15 25\n",
            "12345610 55 PASS\n",
            "12345615 15 15 30\n",
            "12345615 60 PASS\n",
            "12345620 15 7 33\n",
            "12345620 55 FAIL\n",
            "12345432 11 12 35\n",
            "12345432 58 PASS\n"
          ]
        }
      ]
    }
  ]
}