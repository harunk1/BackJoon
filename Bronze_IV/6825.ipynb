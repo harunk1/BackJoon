{
  "nbformat": 4,
  "nbformat_minor": 0,
  "metadata": {
    "colab": {
      "provenance": [],
      "authorship_tag": "ABX9TyMy8w7AJYXsGnX3NU3MnhHC",
      "include_colab_link": true
    },
    "kernelspec": {
      "name": "python3",
      "display_name": "Python 3"
    },
    "language_info": {
      "name": "python"
    }
  },
  "cells": [
    {
      "cell_type": "markdown",
      "metadata": {
        "id": "view-in-github",
        "colab_type": "text"
      },
      "source": [
        "<a href=\"https://colab.research.google.com/github/harunk1/BackJoon/blob/main/Bronze_IV/6825.ipynb\" target=\"_parent\"><img src=\"https://colab.research.google.com/assets/colab-badge.svg\" alt=\"Open In Colab\"/></a>"
      ]
    },
    {
      "cell_type": "markdown",
      "source": [
        "# Body Mass Index"
      ],
      "metadata": {
        "id": "zqQ-facGG5rX"
      }
    },
    {
      "cell_type": "code",
      "source": [
        "b=float(input())\n",
        "c=float(input())\n",
        "bmi=b/(c*c)\n",
        "if bmi>=25:\n",
        "  print(\"Overweight\")\n",
        "elif 18.5<=bmi<25:\n",
        "  print(\"Normal weight\")\n",
        "elif 18.5>bmi:\n",
        "  print(\"Underweight\")"
      ],
      "metadata": {
        "colab": {
          "base_uri": "https://localhost:8080/"
        },
        "id": "pM6o8hiMwnAS",
        "outputId": "a1c1068d-fe04-49f5-c20f-deacddef1c9f"
      },
      "execution_count": 5,
      "outputs": [
        {
          "output_type": "stream",
          "name": "stdout",
          "text": [
            "69\n",
            "1.73\n",
            "Normal weight\n"
          ]
        }
      ]
    }
  ]
}