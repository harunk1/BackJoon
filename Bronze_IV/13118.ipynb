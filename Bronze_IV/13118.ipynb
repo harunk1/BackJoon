{
  "nbformat": 4,
  "nbformat_minor": 0,
  "metadata": {
    "colab": {
      "provenance": [],
      "authorship_tag": "ABX9TyNUei0cYDM3LI3YPEpBcBST",
      "include_colab_link": true
    },
    "kernelspec": {
      "name": "python3",
      "display_name": "Python 3"
    },
    "language_info": {
      "name": "python"
    }
  },
  "cells": [
    {
      "cell_type": "markdown",
      "metadata": {
        "id": "view-in-github",
        "colab_type": "text"
      },
      "source": [
        "<a href=\"https://colab.research.google.com/github/harunk1/BackJoon/blob/main/Bronze_IV/13118.ipynb\" target=\"_parent\"><img src=\"https://colab.research.google.com/assets/colab-badge.svg\" alt=\"Open In Colab\"/></a>"
      ]
    },
    {
      "cell_type": "markdown",
      "source": [
        "# 뉴턴과 사과"
      ],
      "metadata": {
        "id": "zqQ-facGG5rX"
      }
    },
    {
      "cell_type": "code",
      "source": [
        "p=list(map(int,input().split()))\n",
        "x,y,z=map(int,input().split())\n",
        "a=0\n",
        "for i in range(4):\n",
        "  if p[i]==x:\n",
        "    print(i+1)\n",
        "    a+=1\n",
        "if a==0:\n",
        "  print(0)"
      ],
      "metadata": {
        "colab": {
          "base_uri": "https://localhost:8080/"
        },
        "id": "6D8mBO406QSB",
        "outputId": "b710d6a2-1afe-4307-db8e-e18d4959ee23"
      },
      "execution_count": 5,
      "outputs": [
        {
          "output_type": "stream",
          "name": "stdout",
          "text": [
            "-5 -2 1 5\n",
            "2 4 6\n",
            "0\n"
          ]
        }
      ]
    }
  ]
}