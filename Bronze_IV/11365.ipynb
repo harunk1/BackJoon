{
  "nbformat": 4,
  "nbformat_minor": 0,
  "metadata": {
    "colab": {
      "provenance": [],
      "authorship_tag": "ABX9TyOZQOo5MikmUKKQwIp96F0P",
      "include_colab_link": true
    },
    "kernelspec": {
      "name": "python3",
      "display_name": "Python 3"
    },
    "language_info": {
      "name": "python"
    }
  },
  "cells": [
    {
      "cell_type": "markdown",
      "metadata": {
        "id": "view-in-github",
        "colab_type": "text"
      },
      "source": [
        "<a href=\"https://colab.research.google.com/github/harunk1/BackJoon/blob/main/Bronze_IV/11365.ipynb\" target=\"_parent\"><img src=\"https://colab.research.google.com/assets/colab-badge.svg\" alt=\"Open In Colab\"/></a>"
      ]
    },
    {
      "cell_type": "markdown",
      "source": [
        "# !밀비 급일"
      ],
      "metadata": {
        "id": "zqQ-facGG5rX"
      }
    },
    {
      "cell_type": "code",
      "source": [
        "while True:\n",
        "  n=input()\n",
        "  reverse=\"\"\n",
        "  if n==\"END\":\n",
        "    break\n",
        "  else:\n",
        "    for i in n:\n",
        "      reverse=i+reverse\n",
        "    print(reverse)"
      ],
      "metadata": {
        "colab": {
          "base_uri": "https://localhost:8080/"
        },
        "id": "OAsbQhpTShvK",
        "outputId": "5ae9a0cf-7f72-487f-ca41-7f0f176d8424"
      },
      "execution_count": 2,
      "outputs": [
        {
          "name": "stdout",
          "output_type": "stream",
          "text": [
            "!edoc doog a tahW\n",
            "What a good code!\n",
            "noitacitsufbo\n",
            "obfustication\n",
            "erafraw enirambus detcirtsernu yraurbeF fo tsrif eht no nigeb ot dnetni eW\n",
            "We intend to begin on the first of February unrestricted submarine warfare\n",
            "lla sees rodroM fo drol eht ,ssertrof sih nihtiw delaecnoC\n",
            "Concealed within his fortress, the lord of Mordor sees all\n",
            "END\n"
          ]
        }
      ]
    }
  ]
}