{
  "nbformat": 4,
  "nbformat_minor": 0,
  "metadata": {
    "colab": {
      "provenance": [],
      "authorship_tag": "ABX9TyO1rg9upZhguNppe//cM/U8",
      "include_colab_link": true
    },
    "kernelspec": {
      "name": "python3",
      "display_name": "Python 3"
    },
    "language_info": {
      "name": "python"
    }
  },
  "cells": [
    {
      "cell_type": "markdown",
      "metadata": {
        "id": "view-in-github",
        "colab_type": "text"
      },
      "source": [
        "<a href=\"https://colab.research.google.com/github/harunk1/BackJoon/blob/main/Bronze_IV/1264.ipynb\" target=\"_parent\"><img src=\"https://colab.research.google.com/assets/colab-badge.svg\" alt=\"Open In Colab\"/></a>"
      ]
    },
    {
      "cell_type": "markdown",
      "source": [
        "# 모음의 개수"
      ],
      "metadata": {
        "id": "zqQ-facGG5rX"
      }
    },
    {
      "cell_type": "code",
      "source": [
        "mo=['a', 'e', 'i', 'o', 'u']\n",
        "while 1:\n",
        "  c=0\n",
        "  ad=input()\n",
        "  if \"#\"==ad:\n",
        "    break\n",
        "  else :\n",
        "    so=ad.lower()\n",
        "    for i in range(len(ad)):\n",
        "      for j in range(5):\n",
        "        if so[i]==mo[j]:\n",
        "          c+=1\n",
        "  print(c)"
      ],
      "metadata": {
        "colab": {
          "base_uri": "https://localhost:8080/"
        },
        "id": "FOQeOaLmG44q",
        "outputId": "425725a8-7c80-491c-ea79-ec6cc97a2f7f"
      },
      "execution_count": 24,
      "outputs": [
        {
          "name": "stdout",
          "output_type": "stream",
          "text": [
            "How are you today?\n",
            "7\n",
            "Quite well, thank you, how about yourself?\n",
            "14\n",
            "I live at number twenty four.\n",
            "9\n",
            "#\n"
          ]
        }
      ]
    }
  ]
}