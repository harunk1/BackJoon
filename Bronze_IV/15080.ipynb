{
  "nbformat": 4,
  "nbformat_minor": 0,
  "metadata": {
    "colab": {
      "provenance": [],
      "authorship_tag": "ABX9TyNY42sRwA8Ym6VvG6cdOoWw",
      "include_colab_link": true
    },
    "kernelspec": {
      "name": "python3",
      "display_name": "Python 3"
    },
    "language_info": {
      "name": "python"
    }
  },
  "cells": [
    {
      "cell_type": "markdown",
      "metadata": {
        "id": "view-in-github",
        "colab_type": "text"
      },
      "source": [
        "<a href=\"https://colab.research.google.com/github/harunk1/BackJoon/blob/main/Bronze_IV/15080.ipynb\" target=\"_parent\"><img src=\"https://colab.research.google.com/assets/colab-badge.svg\" alt=\"Open In Colab\"/></a>"
      ]
    },
    {
      "cell_type": "markdown",
      "source": [
        "# Every Second Counts"
      ],
      "metadata": {
        "id": "zqQ-facGG5rX"
      }
    },
    {
      "cell_type": "code",
      "source": [
        "h1,m1,s1=map(int,input().split(\":\"))\n",
        "h2,m2,s2=map(int,input().split(\":\"))\n",
        "t1 = h1*3600 + m1*60 + s1\n",
        "t2 = h2*3600 + m2*60 + s2\n",
        "if t1 > t2:\n",
        "    print(t2-t1+3600*24)\n",
        "else:\n",
        "    print(t2-t1)\n"
      ],
      "metadata": {
        "colab": {
          "base_uri": "https://localhost:8080/"
        },
        "id": "pM6o8hiMwnAS",
        "outputId": "d7407f26-95f9-4e72-de0a-6fb660e44fed"
      },
      "execution_count": 1,
      "outputs": [
        {
          "output_type": "stream",
          "name": "stdout",
          "text": [
            "10 : 0 : 0\n",
            "11 : 0 : 0\n",
            "3600\n"
          ]
        }
      ]
    }
  ]
}