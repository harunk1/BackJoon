{
  "nbformat": 4,
  "nbformat_minor": 0,
  "metadata": {
    "colab": {
      "provenance": [],
      "authorship_tag": "ABX9TyNscta0FhnLHlnSDKYWBDQQ",
      "include_colab_link": true
    },
    "kernelspec": {
      "name": "python3",
      "display_name": "Python 3"
    },
    "language_info": {
      "name": "python"
    }
  },
  "cells": [
    {
      "cell_type": "markdown",
      "metadata": {
        "id": "view-in-github",
        "colab_type": "text"
      },
      "source": [
        "<a href=\"https://colab.research.google.com/github/harunk1/BackJoon/blob/main/Bronze_IV/18691.ipynb\" target=\"_parent\"><img src=\"https://colab.research.google.com/assets/colab-badge.svg\" alt=\"Open In Colab\"/></a>"
      ]
    },
    {
      "cell_type": "markdown",
      "source": [
        "# Pokemon Buddy"
      ],
      "metadata": {
        "id": "zqQ-facGG5rX"
      }
    },
    {
      "cell_type": "code",
      "source": [
        "t=int(input())\n",
        "for i in range(t):\n",
        "  g,c,e=map(int,input().split())\n",
        "  a=e-c\n",
        "  if a<=0:\n",
        "    print(0)\n",
        "  else:\n",
        "    if g==1:\n",
        "      print(a)\n",
        "    elif g==2:\n",
        "      a=a*3\n",
        "      print(a)\n",
        "    elif g==3:\n",
        "      a=a*5\n",
        "      print(a)"
      ],
      "metadata": {
        "colab": {
          "base_uri": "https://localhost:8080/"
        },
        "id": "pM6o8hiMwnAS",
        "outputId": "3b32dcff-58c4-48cf-c016-f69f4321f891"
      },
      "execution_count": 4,
      "outputs": [
        {
          "output_type": "stream",
          "name": "stdout",
          "text": [
            "2\n",
            "1 15 51\n",
            "36\n",
            "1 18 21\n",
            "3\n"
          ]
        }
      ]
    }
  ]
}