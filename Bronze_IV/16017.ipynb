{
  "nbformat": 4,
  "nbformat_minor": 0,
  "metadata": {
    "colab": {
      "provenance": [],
      "authorship_tag": "ABX9TyNnACFP1+MAJnqfgh2l1kWK",
      "include_colab_link": true
    },
    "kernelspec": {
      "name": "python3",
      "display_name": "Python 3"
    },
    "language_info": {
      "name": "python"
    }
  },
  "cells": [
    {
      "cell_type": "markdown",
      "metadata": {
        "id": "view-in-github",
        "colab_type": "text"
      },
      "source": [
        "<a href=\"https://colab.research.google.com/github/harunk1/BackJoon/blob/main/Bronze_IV/16017.ipynb\" target=\"_parent\"><img src=\"https://colab.research.google.com/assets/colab-badge.svg\" alt=\"Open In Colab\"/></a>"
      ]
    },
    {
      "cell_type": "markdown",
      "source": [
        "# Telemarketer or not?"
      ],
      "metadata": {
        "id": "zqQ-facGG5rX"
      }
    },
    {
      "cell_type": "code",
      "source": [
        "a=int(input())\n",
        "b=int(input())\n",
        "c=int(input())\n",
        "d=int(input())\n",
        "if a==8 or a==9:\n",
        "  if d==8 or d==9:\n",
        "    if b==c:\n",
        "      print(\"ignore\")\n",
        "    else:\n",
        "      print(\"answer\")\n",
        "  else:\n",
        "    print(\"answer\")\n",
        "else:\n",
        "  print(\"answer\")"
      ],
      "metadata": {
        "colab": {
          "base_uri": "https://localhost:8080/"
        },
        "id": "pM6o8hiMwnAS",
        "outputId": "f725dd03-cbf4-4e9b-b2eb-0d1892c3819a"
      },
      "execution_count": 3,
      "outputs": [
        {
          "output_type": "stream",
          "name": "stdout",
          "text": [
            "5\n",
            "6\n",
            "6\n",
            "8\n",
            "answer\n"
          ]
        }
      ]
    },
    {
      "cell_type": "markdown",
      "source": [
        "## 다른방법"
      ],
      "metadata": {
        "id": "d2CGA6nCM1LA"
      }
    },
    {
      "cell_type": "code",
      "source": [
        "l=[int(input()) for _ in range(4)]\n",
        "if l[0] in [8,9] and l[3] in [8,9] and l[1]==l[2]:print('ignore')\n",
        "else:print('answer')"
      ],
      "metadata": {
        "colab": {
          "base_uri": "https://localhost:8080/"
        },
        "id": "nBUC4xFvMy8Y",
        "outputId": "a89ba92a-b1c7-44c9-df91-b396cfcc3cf9"
      },
      "execution_count": 4,
      "outputs": [
        {
          "output_type": "stream",
          "name": "stdout",
          "text": [
            "5\n",
            "6\n",
            "6\n",
            "8\n",
            "answer\n"
          ]
        }
      ]
    }
  ]
}