{
  "nbformat": 4,
  "nbformat_minor": 0,
  "metadata": {
    "colab": {
      "provenance": [],
      "authorship_tag": "ABX9TyOx+jFYWLwUx0OOgqme7zcQ",
      "include_colab_link": true
    },
    "kernelspec": {
      "name": "python3",
      "display_name": "Python 3"
    },
    "language_info": {
      "name": "python"
    }
  },
  "cells": [
    {
      "cell_type": "markdown",
      "metadata": {
        "id": "view-in-github",
        "colab_type": "text"
      },
      "source": [
        "<a href=\"https://colab.research.google.com/github/harunk1/BackJoon/blob/main/Bronze_IV/6763.ipynb\" target=\"_parent\"><img src=\"https://colab.research.google.com/assets/colab-badge.svg\" alt=\"Open In Colab\"/></a>"
      ]
    },
    {
      "cell_type": "markdown",
      "source": [
        "# Speed fines are not fine!"
      ],
      "metadata": {
        "id": "zqQ-facGG5rX"
      }
    },
    {
      "cell_type": "code",
      "source": [
        "a=int(input())\n",
        "b=int(input())\n",
        "c=b-a\n",
        "if c<=0:\n",
        "  print(\"Congratulations, you are within the speed limit!\")\n",
        "elif 1<=c<=20:\n",
        "  print(\"You are speeding and your fine is $100.\")\n",
        "elif 21<=c<=30:\n",
        "  print(\"You are speeding and your fine is $270.\")\n",
        "elif c>=31:\n",
        "  print(\"You are speeding and your fine is $500.\")"
      ],
      "metadata": {
        "colab": {
          "base_uri": "https://localhost:8080/"
        },
        "id": "QJisj3uremhy",
        "outputId": "f9095d23-4a18-4f4e-da19-9c26b6ac1e70"
      },
      "execution_count": 6,
      "outputs": [
        {
          "output_type": "stream",
          "name": "stdout",
          "text": [
            "100\n",
            "131\n",
            "You are speeding and your fine is $500.\n"
          ]
        }
      ]
    }
  ]
}