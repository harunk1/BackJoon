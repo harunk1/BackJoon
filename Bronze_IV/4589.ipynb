{
  "nbformat": 4,
  "nbformat_minor": 0,
  "metadata": {
    "colab": {
      "provenance": [],
      "authorship_tag": "ABX9TyMVdmpgUQn6Aa0gAdOEAPQH",
      "include_colab_link": true
    },
    "kernelspec": {
      "name": "python3",
      "display_name": "Python 3"
    },
    "language_info": {
      "name": "python"
    }
  },
  "cells": [
    {
      "cell_type": "markdown",
      "metadata": {
        "id": "view-in-github",
        "colab_type": "text"
      },
      "source": [
        "<a href=\"https://colab.research.google.com/github/harunk1/BackJoon/blob/main/Bronze_IV/4589.ipynb\" target=\"_parent\"><img src=\"https://colab.research.google.com/assets/colab-badge.svg\" alt=\"Open In Colab\"/></a>"
      ]
    },
    {
      "cell_type": "markdown",
      "source": [
        "# Gnome Sequencing"
      ],
      "metadata": {
        "id": "zqQ-facGG5rX"
      }
    },
    {
      "cell_type": "code",
      "source": [
        "n=int(input())\n",
        "print(\"Gnomes:\")\n",
        "for i in range(n):\n",
        "  z=list(map(int,input().split()))\n",
        "  if z==sorted(z,reverse=True) or z==sorted(z,reverse=False) :\n",
        "    print(\"Ordered\")\n",
        "  else:\n",
        "    print(\"Unordered\")"
      ],
      "metadata": {
        "colab": {
          "base_uri": "https://localhost:8080/"
        },
        "id": "QJisj3uremhy",
        "outputId": "525bed2c-988b-4d6b-8d79-6dcb5caa2fe3"
      },
      "execution_count": 20,
      "outputs": [
        {
          "output_type": "stream",
          "name": "stdout",
          "text": [
            "3\n",
            "Gnomes:\n",
            "40 62 77\n",
            "Ordered\n",
            "88 62 77\n",
            "Unordered\n",
            "91 33 18\n",
            "Ordered\n"
          ]
        }
      ]
    },
    {
      "cell_type": "markdown",
      "source": [
        "## 다른방법\n"
      ],
      "metadata": {
        "id": "Bb1MxhLuh62b"
      }
    },
    {
      "cell_type": "code",
      "source": [
        "def sol(nums):\n",
        "    ans =False\n",
        "    if nums==sorted(nums) or nums==sorted(nums,reverse=True) :\n",
        "        ans=True\n",
        "    return ans\n",
        "print(\"Gnomes:\")\n",
        "for i in range(int(input())):\n",
        "    nums=list(map(int,input().split()))\n",
        "    if sol(nums)== True:\n",
        "        print(\"Ordered\")\n",
        "    else :\n",
        "        print(\"Unordered\")\n"
      ],
      "metadata": {
        "id": "yjDgTVcXh5Ok"
      },
      "execution_count": null,
      "outputs": []
    }
  ]
}