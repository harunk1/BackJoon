{
  "nbformat": 4,
  "nbformat_minor": 0,
  "metadata": {
    "colab": {
      "provenance": [],
      "authorship_tag": "ABX9TyP2sejZyWZlKBSExJp6hc+U",
      "include_colab_link": true
    },
    "kernelspec": {
      "name": "python3",
      "display_name": "Python 3"
    },
    "language_info": {
      "name": "python"
    }
  },
  "cells": [
    {
      "cell_type": "markdown",
      "metadata": {
        "id": "view-in-github",
        "colab_type": "text"
      },
      "source": [
        "<a href=\"https://colab.research.google.com/github/harunk1/BackJoon/blob/main/Bronze_IV/18198.ipynb\" target=\"_parent\"><img src=\"https://colab.research.google.com/assets/colab-badge.svg\" alt=\"Open In Colab\"/></a>"
      ]
    },
    {
      "cell_type": "markdown",
      "source": [
        "# Basketball One-on-One"
      ],
      "metadata": {
        "id": "zqQ-facGG5rX"
      }
    },
    {
      "cell_type": "code",
      "source": [
        "score= input()\n",
        "a=0\n",
        "b=0\n",
        "for i in range(len(score)):\n",
        "  if score[i]==\"A\":\n",
        "    a+=int(score[i+1])\n",
        "  elif score[i]==\"B\":\n",
        "    b+=int(score[i+1])\n",
        "if a>b:\n",
        "  print(\"A\")\n",
        "elif b>a:\n",
        "  print(\"B\")"
      ],
      "metadata": {
        "id": "JnRHYZtxygdO",
        "colab": {
          "base_uri": "https://localhost:8080/"
        },
        "outputId": "64155326-4eed-4d38-bc73-ecd390c38d6b"
      },
      "execution_count": 2,
      "outputs": [
        {
          "output_type": "stream",
          "name": "stdout",
          "text": [
            "A2B1A2B2A1A2A2A2\n",
            "A\n"
          ]
        }
      ]
    }
  ]
}