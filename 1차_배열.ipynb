{
  "nbformat": 4,
  "nbformat_minor": 0,
  "metadata": {
    "colab": {
      "provenance": [],
      "authorship_tag": "ABX9TyN9vWPESlQj7BHJAUb6x4Jq",
      "include_colab_link": true
    },
    "kernelspec": {
      "name": "python3",
      "display_name": "Python 3"
    },
    "language_info": {
      "name": "python"
    }
  },
  "cells": [
    {
      "cell_type": "markdown",
      "metadata": {
        "id": "view-in-github",
        "colab_type": "text"
      },
      "source": [
        "<a href=\"https://colab.research.google.com/github/harunk1/BackJoon/blob/main/1%EC%B0%A8_%EB%B0%B0%EC%97%B4.ipynb\" target=\"_parent\"><img src=\"https://colab.research.google.com/assets/colab-badge.svg\" alt=\"Open In Colab\"/></a>"
      ]
    },
    {
      "cell_type": "markdown",
      "source": [
        "## 개수 세기"
      ],
      "metadata": {
        "id": "S--mk1hSRIrU"
      }
    },
    {
      "cell_type": "code",
      "execution_count": null,
      "metadata": {
        "colab": {
          "base_uri": "https://localhost:8080/"
        },
        "id": "Eruvnw66QVAm",
        "outputId": "52e981db-ed56-466c-d058-5c5481307053"
      },
      "outputs": [
        {
          "name": "stdout",
          "output_type": "stream",
          "text": [
            "5\n",
            "1\n",
            "2\n",
            "3\n",
            "1\n",
            "2\n"
          ]
        },
        {
          "output_type": "execute_result",
          "data": {
            "text/plain": [
              "[1, 2, 3, 1, 2]"
            ]
          },
          "metadata": {},
          "execution_count": 10
        }
      ],
      "source": [
        "T=int(input())\n",
        "i=0\n",
        "b=[]\n",
        "while T>i:\n",
        "  a=int(input())\n",
        "  b.insert(i, a)\n",
        "  i+=1\n",
        "# for i in range(0,,1):\n"
      ]
    },
    {
      "cell_type": "code",
      "source": [],
      "metadata": {
        "id": "Cnm0bG2bSOE_"
      },
      "execution_count": null,
      "outputs": []
    }
  ]
}