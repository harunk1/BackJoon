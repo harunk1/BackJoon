{
  "nbformat": 4,
  "nbformat_minor": 0,
  "metadata": {
    "colab": {
      "provenance": [],
      "authorship_tag": "ABX9TyPnPXQJ50rIXVxsMSHedcyX",
      "include_colab_link": true
    },
    "kernelspec": {
      "name": "python3",
      "display_name": "Python 3"
    },
    "language_info": {
      "name": "python"
    }
  },
  "cells": [
    {
      "cell_type": "markdown",
      "metadata": {
        "id": "view-in-github",
        "colab_type": "text"
      },
      "source": [
        "<a href=\"https://colab.research.google.com/github/harunk1/BackJoon/blob/main/1%EC%B0%A8_%EB%B0%B0%EC%97%B4.ipynb\" target=\"_parent\"><img src=\"https://colab.research.google.com/assets/colab-badge.svg\" alt=\"Open In Colab\"/></a>"
      ]
    },
    {
      "cell_type": "markdown",
      "source": [
        "## 개수 세기"
      ],
      "metadata": {
        "id": "S--mk1hSRIrU"
      }
    },
    {
      "cell_type": "code",
      "source": [
        "a = int(input())\n",
        "b = list(map(int,input().split()))\n",
        "c=int(input())\n",
        "d=0\n",
        "e=0\n",
        "for i in range(a):\n",
        "  e+=1\n",
        "  if b[i]==c:\n",
        "    d+=1\n",
        "print(d)"
      ],
      "metadata": {
        "colab": {
          "base_uri": "https://localhost:8080/"
        },
        "id": "VxhEnoxSP-8U",
        "outputId": "c484b91c-6189-4529-a8a7-3facba5d3fee"
      },
      "execution_count": null,
      "outputs": [
        {
          "output_type": "stream",
          "name": "stdout",
          "text": [
            "5\n",
            "1 2 3 1 1\n",
            "1\n",
            "3\n"
          ]
        }
      ]
    },
    {
      "cell_type": "markdown",
      "source": [
        "###다른 방법"
      ],
      "metadata": {
        "id": "ERsBpNVmWqCr"
      }
    },
    {
      "cell_type": "code",
      "source": [
        "N = int(input())\n",
        "N_list = list(map(int, input().split()))\n",
        "v = int(input())\n",
        "print(N_list.count(v))"
      ],
      "metadata": {
        "colab": {
          "base_uri": "https://localhost:8080/"
        },
        "id": "fcMRXrgfRg9l",
        "outputId": "0f356999-d7ee-4e96-c2c0-a4540683a095"
      },
      "execution_count": null,
      "outputs": [
        {
          "output_type": "stream",
          "name": "stdout",
          "text": [
            "5\n",
            "1 2 3 1 1\n",
            "1\n",
            "3\n"
          ]
        }
      ]
    },
    {
      "cell_type": "markdown",
      "source": [
        "##X보다 작은 수"
      ],
      "metadata": {
        "id": "htt7kLujXZ4W"
      }
    },
    {
      "cell_type": "code",
      "source": [
        "N,X =  map(int, input().split())\n",
        "a = list(map(int,input().split()))\n",
        "i=0\n",
        "while N>i:\n",
        "  if X>a[i]:\n",
        "    print(a[i],end=' ')\n",
        "  i+=1"
      ],
      "metadata": {
        "colab": {
          "base_uri": "https://localhost:8080/"
        },
        "id": "ts2_R5TlXeRD",
        "outputId": "8eecc259-dea3-49fe-ec34-d30143dc04a2"
      },
      "execution_count": null,
      "outputs": [
        {
          "output_type": "stream",
          "name": "stdout",
          "text": [
            "5 6\n",
            "1 2 3 4 5 6\n",
            "1 2 3 4 5 "
          ]
        }
      ]
    },
    {
      "cell_type": "markdown",
      "source": [
        "##최소 최대"
      ],
      "metadata": {
        "id": "iL7-p5-ZeMtk"
      }
    },
    {
      "cell_type": "code",
      "source": [
        "N = int(input())\n",
        "a = list(map(int,input().split()))\n",
        "print(min(a),max(a),end=' ')"
      ],
      "metadata": {
        "colab": {
          "base_uri": "https://localhost:8080/"
        },
        "id": "BE_CGgnVX5a0",
        "outputId": "5ba6d608-e36f-49c6-9439-89e794b246c0"
      },
      "execution_count": null,
      "outputs": [
        {
          "output_type": "stream",
          "name": "stdout",
          "text": [
            "5\n",
            "20 10 35 30 7\n",
            "7 35 "
          ]
        }
      ]
    },
    {
      "cell_type": "markdown",
      "source": [
        "##최댓값"
      ],
      "metadata": {
        "id": "uFKinOcDzhEr"
      }
    },
    {
      "cell_type": "code",
      "source": [
        "arry=[]\n",
        "for i in range(9):\n",
        "  n=int(input())\n",
        "  arry.insert(i,n)\n",
        "m=max(arry)\n",
        "print(m)\n",
        "for i in range(9):\n",
        "  if m==arry[i]:\n",
        "    break\n",
        "print(i+1)##index쓰면 간단함\n"
      ],
      "metadata": {
        "id": "6761rsB3YqPr",
        "colab": {
          "base_uri": "https://localhost:8080/"
        },
        "outputId": "968f5cda-c433-4b62-ae10-548ba21d806b"
      },
      "execution_count": 12,
      "outputs": [
        {
          "output_type": "stream",
          "name": "stdout",
          "text": [
            "3\n",
            "29\n",
            "38\n",
            "12\n",
            "57\n",
            "74\n",
            "40\n",
            "85\n",
            "61\n",
            "85\n",
            "8\n"
          ]
        }
      ]
    },
    {
      "cell_type": "markdown",
      "source": [
        "###다른 방법"
      ],
      "metadata": {
        "id": "athtWhZH_Gvn"
      }
    },
    {
      "cell_type": "code",
      "source": [
        "numbers = []\n",
        "for _ in range(9):\n",
        "    i = int(input())\n",
        "    numbers.append(i)\n",
        "    \n",
        "print(max(numbers))\n",
        "print(numbers.index(max(numbers))+1)"
      ],
      "metadata": {
        "id": "T1Bk01ef-Tvp",
        "colab": {
          "base_uri": "https://localhost:8080/"
        },
        "outputId": "75831ab7-e296-4b72-ad4c-13419eb5beb4"
      },
      "execution_count": 13,
      "outputs": [
        {
          "output_type": "stream",
          "name": "stdout",
          "text": [
            "3\n",
            "29\n",
            "38\n",
            "12\n",
            "57\n",
            "74\n",
            "40\n",
            "85\n",
            "61\n",
            "85\n",
            "8\n"
          ]
        }
      ]
    },
    {
      "cell_type": "code",
      "source": [
        "numbers = [int(input()) for _ in range(9)]\n",
        "\n",
        "print(max(numbers))\n",
        "print(numbers.index(max(numbers)) + 1)"
      ],
      "metadata": {
        "colab": {
          "base_uri": "https://localhost:8080/"
        },
        "id": "G7hn_meM7WUc",
        "outputId": "c3b2d43e-48f9-4566-8292-5c727125ee99"
      },
      "execution_count": 15,
      "outputs": [
        {
          "output_type": "stream",
          "name": "stdout",
          "text": [
            "3\n",
            "29\n",
            "38\n",
            "12\n",
            "57\n",
            "74\n",
            "40\n",
            "85\n",
            "61\n",
            "85\n",
            "8\n"
          ]
        }
      ]
    },
    {
      "cell_type": "markdown",
      "source": [
        "##과제 안 내신 분..?"
      ],
      "metadata": {
        "id": "5_Y8WhtrA4Kn"
      }
    },
    {
      "cell_type": "code",
      "source": [
        "st = []\n",
        "s =[]\n",
        "for i in range(30):\n",
        "  st.append(i+1)\n",
        "for _ in range(28):\n",
        "    n = int(input())\n",
        "    s.append(n)\n",
        "a = list(set(st) - set(s))\n",
        "print(min(a))\n",
        "print(max(a))"
      ],
      "metadata": {
        "colab": {
          "base_uri": "https://localhost:8080/"
        },
        "id": "1FrZ23mH7WsM",
        "outputId": "f22c76de-26a7-4e3b-ae55-19506a4c013d"
      },
      "execution_count": 35,
      "outputs": [
        {
          "output_type": "stream",
          "name": "stdout",
          "text": [
            "3\n",
            "1\n",
            "4\n",
            "5\n",
            "6\n",
            "7\n",
            "9\n",
            "10\n",
            "11\n",
            "12\n",
            "13\n",
            "14\n",
            "15\n",
            "16\n",
            "17\n",
            "18\n",
            "19\n",
            "20\n",
            "21\n",
            "22\n",
            "23\n",
            "24\n",
            "25\n",
            "26\n",
            "27\n",
            "28\n",
            "29\n",
            "30\n",
            "2\n",
            "8\n"
          ]
        }
      ]
    },
    {
      "cell_type": "markdown",
      "source": [
        "###다른 방법"
      ],
      "metadata": {
        "id": "bgruom1jPrA2"
      }
    },
    {
      "cell_type": "code",
      "source": [
        "# 1부터 30까지의 리스트를 생성 \n",
        "num = [i for i in range(1, 31)]\n",
        "\n",
        "# 입력받은 숫자를 리스트에서 제거\n",
        "for _ in range(28):\n",
        "    data = int(input())\n",
        "    num.remove(data)\n",
        "print(min(num))\n",
        "print(max(num))"
      ],
      "metadata": {
        "id": "eJBBJHXcPto-"
      },
      "execution_count": null,
      "outputs": []
    }
  ]
}