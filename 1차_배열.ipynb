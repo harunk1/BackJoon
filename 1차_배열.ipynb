{
  "nbformat": 4,
  "nbformat_minor": 0,
  "metadata": {
    "colab": {
      "provenance": [],
      "authorship_tag": "ABX9TyMlumo4hiiAV49/RlB5I7RU",
      "include_colab_link": true
    },
    "kernelspec": {
      "name": "python3",
      "display_name": "Python 3"
    },
    "language_info": {
      "name": "python"
    }
  },
  "cells": [
    {
      "cell_type": "markdown",
      "metadata": {
        "id": "view-in-github",
        "colab_type": "text"
      },
      "source": [
        "<a href=\"https://colab.research.google.com/github/harunk1/BackJoon/blob/main/1%EC%B0%A8_%EB%B0%B0%EC%97%B4.ipynb\" target=\"_parent\"><img src=\"https://colab.research.google.com/assets/colab-badge.svg\" alt=\"Open In Colab\"/></a>"
      ]
    },
    {
      "cell_type": "markdown",
      "source": [
        "## 개수 세기"
      ],
      "metadata": {
        "id": "S--mk1hSRIrU"
      }
    },
    {
      "cell_type": "code",
      "source": [
        "a = int(input())\n",
        "b = list(map(int,input().split()))\n",
        "c=int(input())\n",
        "d=0\n",
        "e=0\n",
        "for i in range(a):\n",
        "  e+=1\n",
        "  if b[i]==c:\n",
        "    d+=1\n",
        "print(d)"
      ],
      "metadata": {
        "colab": {
          "base_uri": "https://localhost:8080/"
        },
        "id": "VxhEnoxSP-8U",
        "outputId": "c484b91c-6189-4529-a8a7-3facba5d3fee"
      },
      "execution_count": null,
      "outputs": [
        {
          "output_type": "stream",
          "name": "stdout",
          "text": [
            "5\n",
            "1 2 3 1 1\n",
            "1\n",
            "3\n"
          ]
        }
      ]
    },
    {
      "cell_type": "markdown",
      "source": [
        "###다른 방법"
      ],
      "metadata": {
        "id": "ERsBpNVmWqCr"
      }
    },
    {
      "cell_type": "code",
      "source": [
        "N = int(input())\n",
        "N_list = list(map(int, input().split()))\n",
        "v = int(input())\n",
        "print(N_list.count(v))"
      ],
      "metadata": {
        "colab": {
          "base_uri": "https://localhost:8080/"
        },
        "id": "fcMRXrgfRg9l",
        "outputId": "0f356999-d7ee-4e96-c2c0-a4540683a095"
      },
      "execution_count": null,
      "outputs": [
        {
          "output_type": "stream",
          "name": "stdout",
          "text": [
            "5\n",
            "1 2 3 1 1\n",
            "1\n",
            "3\n"
          ]
        }
      ]
    },
    {
      "cell_type": "markdown",
      "source": [
        "##X보다 작은 수"
      ],
      "metadata": {
        "id": "htt7kLujXZ4W"
      }
    },
    {
      "cell_type": "code",
      "source": [
        "N,X =  map(int, input().split())\n",
        "a = list(map(int,input().split()))\n",
        "i=0\n",
        "while N>i:\n",
        "  if X>a[i]:\n",
        "    print(a[i],end=' ')\n",
        "  i+=1"
      ],
      "metadata": {
        "colab": {
          "base_uri": "https://localhost:8080/"
        },
        "id": "ts2_R5TlXeRD",
        "outputId": "8eecc259-dea3-49fe-ec34-d30143dc04a2"
      },
      "execution_count": null,
      "outputs": [
        {
          "output_type": "stream",
          "name": "stdout",
          "text": [
            "5 6\n",
            "1 2 3 4 5 6\n",
            "1 2 3 4 5 "
          ]
        }
      ]
    },
    {
      "cell_type": "markdown",
      "source": [
        "##최소 최대"
      ],
      "metadata": {
        "id": "iL7-p5-ZeMtk"
      }
    },
    {
      "cell_type": "code",
      "source": [
        "N = int(input())\n",
        "a = list(map(int,input().split()))\n",
        "print(min(a),max(a),end=' ')"
      ],
      "metadata": {
        "colab": {
          "base_uri": "https://localhost:8080/"
        },
        "id": "BE_CGgnVX5a0",
        "outputId": "5ba6d608-e36f-49c6-9439-89e794b246c0"
      },
      "execution_count": 30,
      "outputs": [
        {
          "output_type": "stream",
          "name": "stdout",
          "text": [
            "5\n",
            "20 10 35 30 7\n",
            "7 35 "
          ]
        }
      ]
    },
    {
      "cell_type": "markdown",
      "source": [
        "##최댓값"
      ],
      "metadata": {
        "id": "uFKinOcDzhEr"
      }
    },
    {
      "cell_type": "code",
      "source": [
        "m=0\n",
        "for i in range(9):\n",
        "  arry=list(map(int, input()))\n",
        "  if arry[0]>m:\n",
        "    m=arry[0]\n",
        "if arry[0]==m:  \n",
        "   print(m)\n",
        "   print(i+1)\n"
      ],
      "metadata": {
        "id": "6761rsB3YqPr",
        "colab": {
          "base_uri": "https://localhost:8080/"
        },
        "outputId": "ff68d255-c920-4dff-8e18-b362a8bab938"
      },
      "execution_count": 42,
      "outputs": [
        {
          "name": "stdout",
          "output_type": "stream",
          "text": [
            "3\n",
            "29\n",
            "38\n",
            "12\n",
            "57\n",
            "74\n",
            "40\n",
            "85\n",
            "61\n"
          ]
        }
      ]
    },
    {
      "cell_type": "code",
      "source": [],
      "metadata": {
        "id": "T1Bk01ef-Tvp"
      },
      "execution_count": null,
      "outputs": []
    }
  ]
}