{
  "nbformat": 4,
  "nbformat_minor": 0,
  "metadata": {
    "colab": {
      "provenance": [],
      "authorship_tag": "ABX9TyOW3vfNoQFLQ5j+uLD+RHZA",
      "include_colab_link": true
    },
    "kernelspec": {
      "name": "python3",
      "display_name": "Python 3"
    },
    "language_info": {
      "name": "python"
    }
  },
  "cells": [
    {
      "cell_type": "markdown",
      "metadata": {
        "id": "view-in-github",
        "colab_type": "text"
      },
      "source": [
        "<a href=\"https://colab.research.google.com/github/harunk1/BackJoon/blob/main/%EC%A1%B0%EA%B1%B4%EB%AC%B8.ipynb\" target=\"_parent\"><img src=\"https://colab.research.google.com/assets/colab-badge.svg\" alt=\"Open In Colab\"/></a>"
      ]
    },
    {
      "cell_type": "markdown",
      "source": [
        "두 수 비교하기"
      ],
      "metadata": {
        "id": "ssXFbZ-cN2hi"
      }
    },
    {
      "cell_type": "code",
      "execution_count": 8,
      "metadata": {
        "colab": {
          "base_uri": "https://localhost:8080/"
        },
        "id": "98sGVPzBNzlj",
        "outputId": "f23d55c1-c5d7-4640-b4ef-bdb981345bca"
      },
      "outputs": [
        {
          "output_type": "stream",
          "name": "stdout",
          "text": [
            "5 5\n",
            "==\n"
          ]
        }
      ],
      "source": [
        "a, b = map(int, input().split())\n",
        "if a<b:\n",
        "  print(\"<\")\n",
        "elif a>b:\n",
        "  print(\">\")\n",
        "elif a==b:\n",
        "  print(\"==\")"
      ]
    },
    {
      "cell_type": "markdown",
      "source": [
        "시험 성적"
      ],
      "metadata": {
        "id": "vd8V3gtNP51C"
      }
    },
    {
      "cell_type": "code",
      "source": [
        "a= int(input())\n",
        "if 90<=a:\n",
        "  print(\"A\")\n",
        "elif 80<=a:\n",
        "  print(\"B\")\n",
        "elif 70<=a:\n",
        "  print(\"C\")\n",
        "elif 60<=a:\n",
        "  print(\"D\")\n",
        "else :\n",
        "  print(\"F\")"
      ],
      "metadata": {
        "colab": {
          "base_uri": "https://localhost:8080/"
        },
        "id": "qeNwFD-_Oo_H",
        "outputId": "2890c34c-c371-4440-be1b-8bb2fb7ce099"
      },
      "execution_count": 28,
      "outputs": [
        {
          "output_type": "stream",
          "name": "stdout",
          "text": [
            "60\n",
            "D\n"
          ]
        }
      ]
    },
    {
      "cell_type": "code",
      "source": [],
      "metadata": {
        "id": "7rSnK69GP8hq"
      },
      "execution_count": 20,
      "outputs": []
    }
  ]
}