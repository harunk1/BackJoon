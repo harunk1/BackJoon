{
  "nbformat": 4,
  "nbformat_minor": 0,
  "metadata": {
    "colab": {
      "provenance": [],
      "authorship_tag": "ABX9TyNwHm5d0AOiYjgroOV5rkSC",
      "include_colab_link": true
    },
    "kernelspec": {
      "name": "python3",
      "display_name": "Python 3"
    },
    "language_info": {
      "name": "python"
    }
  },
  "cells": [
    {
      "cell_type": "markdown",
      "metadata": {
        "id": "view-in-github",
        "colab_type": "text"
      },
      "source": [
        "<a href=\"https://colab.research.google.com/github/harunk1/BackJoon/blob/main/%EC%A1%B0%EA%B1%B4%EB%AC%B8.ipynb\" target=\"_parent\"><img src=\"https://colab.research.google.com/assets/colab-badge.svg\" alt=\"Open In Colab\"/></a>"
      ]
    },
    {
      "cell_type": "markdown",
      "source": [
        "#두 수 비교하기"
      ],
      "metadata": {
        "id": "ssXFbZ-cN2hi"
      }
    },
    {
      "cell_type": "code",
      "execution_count": null,
      "metadata": {
        "colab": {
          "base_uri": "https://localhost:8080/"
        },
        "id": "98sGVPzBNzlj",
        "outputId": "f23d55c1-c5d7-4640-b4ef-bdb981345bca"
      },
      "outputs": [
        {
          "output_type": "stream",
          "name": "stdout",
          "text": [
            "5 5\n",
            "==\n"
          ]
        }
      ],
      "source": [
        "a, b = map(int, input().split())\n",
        "if a<b:\n",
        "  print(\"<\")\n",
        "elif a>b:\n",
        "  print(\">\")\n",
        "elif a==b:\n",
        "  print(\"==\")"
      ]
    },
    {
      "cell_type": "markdown",
      "source": [
        "#시험 성적"
      ],
      "metadata": {
        "id": "vd8V3gtNP51C"
      }
    },
    {
      "cell_type": "code",
      "source": [
        "a= int(input())\n",
        "if 90<=a:\n",
        "  print(\"A\")\n",
        "elif 80<=a:\n",
        "  print(\"B\")\n",
        "elif 70<=a:\n",
        "  print(\"C\")\n",
        "elif 60<=a:\n",
        "  print(\"D\")\n",
        "else :\n",
        "  print(\"F\")"
      ],
      "metadata": {
        "colab": {
          "base_uri": "https://localhost:8080/"
        },
        "id": "qeNwFD-_Oo_H",
        "outputId": "2890c34c-c371-4440-be1b-8bb2fb7ce099"
      },
      "execution_count": null,
      "outputs": [
        {
          "output_type": "stream",
          "name": "stdout",
          "text": [
            "60\n",
            "D\n"
          ]
        }
      ]
    },
    {
      "cell_type": "markdown",
      "source": [
        "#윤년"
      ],
      "metadata": {
        "id": "uaxfjKkkMG6Q"
      }
    },
    {
      "cell_type": "code",
      "source": [
        "a= int(input())\n",
        "f= a%4\n",
        "q= a%100\n",
        "fq= a%400\n",
        "if f==0 :\n",
        "  if q!=0 or fq==0:\n",
        "    print(\"1\")\n",
        "  else :\n",
        "    print(\"0\")\n",
        "else :\n",
        "  print(\"0\")"
      ],
      "metadata": {
        "id": "7rSnK69GP8hq",
        "colab": {
          "base_uri": "https://localhost:8080/"
        },
        "outputId": "b669b3e0-13c1-4e94-a523-86cf1f8cf969"
      },
      "execution_count": null,
      "outputs": [
        {
          "output_type": "stream",
          "name": "stdout",
          "text": [
            "2000\n",
            "1\n"
          ]
        }
      ]
    },
    {
      "cell_type": "markdown",
      "source": [
        "##쉬운 예시"
      ],
      "metadata": {
        "id": "aizNTDZQSvRm"
      }
    },
    {
      "cell_type": "markdown",
      "source": [
        "삼항 연산자로 작성한 코드"
      ],
      "metadata": {
        "id": "LOxK0mQLR2DT"
      }
    },
    {
      "cell_type": "code",
      "source": [
        "year = int(input())\n",
        "print('1') if ((year%4 == 0)and(year%100 != 0)) or (year%400 == 0) else print('0')"
      ],
      "metadata": {
        "colab": {
          "base_uri": "https://localhost:8080/"
        },
        "id": "0584ybQPM0RV",
        "outputId": "298a16fc-3a36-490f-e5f9-24900d90c7cb"
      },
      "execution_count": null,
      "outputs": [
        {
          "output_type": "stream",
          "name": "stdout",
          "text": [
            "1900\n",
            "0\n"
          ]
        }
      ]
    },
    {
      "cell_type": "markdown",
      "source": [
        "if - else 조건식"
      ],
      "metadata": {
        "id": "RayMMj0QSSZD"
      }
    },
    {
      "cell_type": "code",
      "source": [
        "year = int(input())\n",
        "if ((year%4 == 0)and(year%100 != 0)) or (year%400 == 0):\n",
        "    print('1')  # 윤년 조건식이 참인경우\n",
        "else:\n",
        "    print('0')  # 거짓인경우"
      ],
      "metadata": {
        "colab": {
          "base_uri": "https://localhost:8080/"
        },
        "id": "pwLTixpSOlkn",
        "outputId": "37a76578-9567-4494-bcef-b39007ec9049"
      },
      "execution_count": null,
      "outputs": [
        {
          "output_type": "stream",
          "name": "stdout",
          "text": [
            "2000\n",
            "1\n"
          ]
        }
      ]
    },
    {
      "cell_type": "markdown",
      "source": [
        "##사분면 고르기"
      ],
      "metadata": {
        "id": "sWpGdEnyTDT8"
      }
    },
    {
      "cell_type": "code",
      "source": [
        "a= int(input())\n",
        "b= int(input())\n",
        "if a>0 and b>0 :\n",
        "  print(\"1\")\n",
        "elif a<0 and b>0 :\n",
        "  print(\"2\")\n",
        "elif a<0 and b<0 :\n",
        "  print(\"3\")\n",
        "else :\n",
        "  print(\"4\")"
      ],
      "metadata": {
        "colab": {
          "base_uri": "https://localhost:8080/"
        },
        "id": "HhcowQ2GTTt7",
        "outputId": "74b05d1b-3a8e-4aec-8f36-df2bf35bd4d0"
      },
      "execution_count": null,
      "outputs": [
        {
          "output_type": "stream",
          "name": "stdout",
          "text": [
            "12\n",
            "5\n",
            "1\n"
          ]
        }
      ]
    },
    {
      "cell_type": "markdown",
      "source": [
        "#알람 시계"
      ],
      "metadata": {
        "id": "-0oi1pM6_Zgq"
      }
    },
    {
      "cell_type": "code",
      "source": [
        "a, b = map(int, input().split())\n",
        "if b-45>=0:\n",
        "  print(a , b-45)\n",
        "elif a==0 and b-45<0:\n",
        "  c=b-45\n",
        "  print(23 , 60+c)\n",
        "else :\n",
        "  c=b-45\n",
        "  print(a-1 , 60+c)"
      ],
      "metadata": {
        "id": "9-3uO5LG_dJj",
        "colab": {
          "base_uri": "https://localhost:8080/"
        },
        "outputId": "7adec519-fa70-4697-ef47-98c740d64fbc"
      },
      "execution_count": 23,
      "outputs": [
        {
          "output_type": "stream",
          "name": "stdout",
          "text": [
            "0 30\n",
            "23 45\n"
          ]
        }
      ]
    },
    {
      "cell_type": "markdown",
      "source": [
        "#오븐 시계"
      ],
      "metadata": {
        "id": "ZagqJFgbGDij"
      }
    },
    {
      "cell_type": "code",
      "source": [
        "##a, b= map(int, input().split())\n",
        "##c=int(input())\n",
        "a=23\n",
        "b=48\n",
        "c=80\n",
        "d=c//60\n",
        "f=c%60\n",
        "if c>=60:\n",
        "  if b+f>=60 and a<23:\n",
        "    print(a+d+1 , b+f-60)\n",
        "  elif b+f>=60 and a==23:\n",
        "    print(0+d , b+f-60)\n",
        "  else :\n",
        "    print(a+d, b+f)\n",
        "else :\n",
        "  if b+c>60 and a<23:\n",
        "    print(a+1, b+c-60)\n",
        "  elif b+c>60 and a==23:\n",
        "    print(0)\n",
        "\n"
      ],
      "metadata": {
        "colab": {
          "base_uri": "https://localhost:8080/"
        },
        "id": "mgKgdQ5mGDST",
        "outputId": "3df834b8-f442-40e7-a513-a2d5168793dc"
      },
      "execution_count": 52,
      "outputs": [
        {
          "output_type": "stream",
          "name": "stdout",
          "text": [
            "1 8\n"
          ]
        }
      ]
    },
    {
      "cell_type": "code",
      "source": [],
      "metadata": {
        "id": "hEnhxxzKGNci"
      },
      "execution_count": null,
      "outputs": []
    }
  ]
}