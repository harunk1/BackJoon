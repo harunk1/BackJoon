{
  "nbformat": 4,
  "nbformat_minor": 0,
  "metadata": {
    "colab": {
      "provenance": [],
      "authorship_tag": "ABX9TyMn6itRIiw675a5FXvgQxAS",
      "include_colab_link": true
    },
    "kernelspec": {
      "name": "python3",
      "display_name": "Python 3"
    },
    "language_info": {
      "name": "python"
    }
  },
  "cells": [
    {
      "cell_type": "markdown",
      "metadata": {
        "id": "view-in-github",
        "colab_type": "text"
      },
      "source": [
        "<a href=\"https://colab.research.google.com/github/harunk1/BackJoon/blob/main/%EB%B0%98%EB%B3%B5%EB%AC%B8.ipynb\" target=\"_parent\"><img src=\"https://colab.research.google.com/assets/colab-badge.svg\" alt=\"Open In Colab\"/></a>"
      ]
    },
    {
      "cell_type": "markdown",
      "source": [
        "##구구단"
      ],
      "metadata": {
        "id": "FeBgW5f7WRJI"
      }
    },
    {
      "cell_type": "code",
      "execution_count": null,
      "metadata": {
        "colab": {
          "base_uri": "https://localhost:8080/"
        },
        "id": "N3FeMZ9oWNaC",
        "outputId": "63569b50-0769-4f6d-837f-a65e598e6604"
      },
      "outputs": [
        {
          "output_type": "stream",
          "name": "stdout",
          "text": [
            "5\n",
            "5 * 1 = 5\n",
            "5 * 2 = 10\n",
            "5 * 3 = 15\n",
            "5 * 4 = 20\n",
            "5 * 5 = 25\n",
            "5 * 6 = 30\n",
            "5 * 7 = 35\n",
            "5 * 8 = 40\n",
            "5 * 9 = 45\n"
          ]
        }
      ],
      "source": [
        "n=int(input())\n",
        "a=0\n",
        "while a<9:\n",
        "  a+=1\n",
        "  print(n, '*', a, '=', n*a)"
      ]
    },
    {
      "cell_type": "code",
      "source": [
        "n=int(input())\n",
        "for i in range(1, 10):\n",
        "  print(n, '*', i, '=', n*i)"
      ],
      "metadata": {
        "colab": {
          "base_uri": "https://localhost:8080/"
        },
        "id": "Jk_nFtkxWtTF",
        "outputId": "ab26a911-3b9f-47a7-f5e5-308f37517d60"
      },
      "execution_count": null,
      "outputs": [
        {
          "output_type": "stream",
          "name": "stdout",
          "text": [
            "5\n",
            "5 * 1 = 5\n",
            "5 * 2 = 10\n",
            "5 * 3 = 15\n",
            "5 * 4 = 20\n",
            "5 * 5 = 25\n",
            "5 * 6 = 30\n",
            "5 * 7 = 35\n",
            "5 * 8 = 40\n",
            "5 * 9 = 45\n"
          ]
        }
      ]
    },
    {
      "cell_type": "markdown",
      "source": [
        "##A+B -3"
      ],
      "metadata": {
        "id": "UgIq8H8fbbWu"
      }
    },
    {
      "cell_type": "code",
      "source": [
        "T=int(input())\n",
        "n=0\n",
        "while T>n:\n",
        "  n+=1\n",
        "  a, b = map(int, input().split())\n",
        "  print(a+b)"
      ],
      "metadata": {
        "colab": {
          "base_uri": "https://localhost:8080/"
        },
        "id": "G7OPG6aRbfgf",
        "outputId": "86683a2e-1a6f-4dbd-ab82-12fc618ba817"
      },
      "execution_count": null,
      "outputs": [
        {
          "output_type": "stream",
          "name": "stdout",
          "text": [
            "2\n",
            "1 1\n",
            "2\n",
            "2 2\n",
            "4\n"
          ]
        }
      ]
    },
    {
      "cell_type": "markdown",
      "source": [
        "##합"
      ],
      "metadata": {
        "id": "oTb6d2D_fznG"
      }
    },
    {
      "cell_type": "code",
      "source": [
        "n=int(input())\n",
        "b=0\n",
        "for i in range(1,n+1):\n",
        "  b+=i\n",
        "print(b)\n"
      ],
      "metadata": {
        "colab": {
          "base_uri": "https://localhost:8080/"
        },
        "id": "rZ1RATt0dM3a",
        "outputId": "d0279dc3-8784-4cdd-80dd-6723a6fbac30"
      },
      "execution_count": null,
      "outputs": [
        {
          "output_type": "stream",
          "name": "stdout",
          "text": [
            "10\n",
            "55\n"
          ]
        }
      ]
    },
    {
      "cell_type": "markdown",
      "source": [
        "##영수증"
      ],
      "metadata": {
        "id": "yYvnsdhKlD1V"
      }
    },
    {
      "cell_type": "code",
      "source": [
        "X=int(input())\n",
        "N=int(input())\n",
        "n=0\n",
        "add=0\n",
        "while N>n:\n",
        "  n+=1\n",
        "  a, b = map(int, input().split())\n",
        "  add=add+a*b\n",
        "if add==X:\n",
        "  print(\"Yes\")\n",
        "else :\n",
        "  print(\"No\")"
      ],
      "metadata": {
        "id": "oqvJ7irZgVu3",
        "colab": {
          "base_uri": "https://localhost:8080/"
        },
        "outputId": "4126b5a8-2777-49d0-841e-718b84bf9e3a"
      },
      "execution_count": 3,
      "outputs": [
        {
          "output_type": "stream",
          "name": "stdout",
          "text": [
            "260000\n",
            "4\n",
            "20000 5\n",
            "30000 2\n",
            "10000 6\n",
            "5000 8\n",
            "Yes\n"
          ]
        }
      ]
    },
    {
      "cell_type": "markdown",
      "source": [
        "##빠른 A+B\n",
        "\n",
        "> 단, 코랩이나 주피터노트북에서 sys.stdin.readline()가 동작하지 않는다.\n",
        "검색해보니 스파이더도 안되는 듯 하다.\n",
        "그러나 백준에선 '맞았습니다!!'라는 결과를 얻을 수 있다.\n",
        "\n"
      ],
      "metadata": {
        "id": "qh_eUX4so9nO"
      }
    },
    {
      "cell_type": "code",
      "source": [
        "import sys\n",
        "T=int(input())\n",
        "n=0\n",
        "while T>n:\n",
        "  n+=1\n",
        "  a, b = map(int, sys.stdin.readline().split())\n",
        "  print(a+b)\n",
        "\n"
      ],
      "metadata": {
        "id": "ja7ijlXlmnVx"
      },
      "execution_count": 15,
      "outputs": []
    },
    {
      "cell_type": "markdown",
      "source": [
        "## A+B -7"
      ],
      "metadata": {
        "id": "UtOpS5VEtyKs"
      }
    },
    {
      "cell_type": "code",
      "source": [
        "T=int(input())\n",
        "n=0\n",
        "while T>n:\n",
        "  n+=1\n",
        "  a, b = map(int, input().split())\n",
        "  print(\"Case #%s: %s\"%(n, a+b ))\n",
        "  #print(f'Case #{n}: {a+b}') 다른 방법"
      ],
      "metadata": {
        "colab": {
          "base_uri": "https://localhost:8080/"
        },
        "id": "ke89gmJeqeMb",
        "outputId": "94c46d0e-42ea-4b7f-9751-a5d555ade4bb"
      },
      "execution_count": 31,
      "outputs": [
        {
          "output_type": "stream",
          "name": "stdout",
          "text": [
            "1 \n",
            "1 1\n",
            "Case #1: 2\n"
          ]
        }
      ]
    },
    {
      "cell_type": "markdown",
      "source": [
        "## A+B -8"
      ],
      "metadata": {
        "id": "4CjmYeTJwKo0"
      }
    },
    {
      "cell_type": "code",
      "source": [
        "T=int(input())\n",
        "n=0\n",
        "while T>n:\n",
        "  n+=1\n",
        "  a, b = map(int, input().split())\n",
        "  print(\"Case #%s: %s + %s = %s\"%(n,a,b,a+b ))"
      ],
      "metadata": {
        "colab": {
          "base_uri": "https://localhost:8080/"
        },
        "id": "_LEnsGagt69E",
        "outputId": "e7ac5f52-e611-4347-aae8-957c0a982a13"
      },
      "execution_count": 35,
      "outputs": [
        {
          "output_type": "stream",
          "name": "stdout",
          "text": [
            "2\n",
            "2 6\n",
            "Case #1: 2 + 6 = 8\n",
            "4 3\n",
            "Case #2: 4 + 3 = 7\n"
          ]
        }
      ]
    },
    {
      "cell_type": "markdown",
      "source": [
        "##별 찍기 -1"
      ],
      "metadata": {
        "id": "zU41gElJ381U"
      }
    },
    {
      "cell_type": "code",
      "source": [
        "T=int(input())\n",
        "n=0\n",
        "while T>n:\n",
        "  n+=1\n",
        "  print(\"*\")\n",
        "  a=0\n",
        "  while n>a:\n",
        "    a+=1\n",
        "    print(\"*\",end='')\n",
        "    "
      ],
      "metadata": {
        "colab": {
          "base_uri": "https://localhost:8080/"
        },
        "id": "-nwWOQrUwbiy",
        "outputId": "91005af4-142b-479b-a10a-3bae2fce2420"
      },
      "execution_count": 67,
      "outputs": [
        {
          "output_type": "stream",
          "name": "stdout",
          "text": [
            "5\n",
            "*\n",
            "*\n",
            "*\n",
            "**\n",
            "*\n",
            "***\n",
            "*\n",
            "****\n",
            "*\n",
            "*****\n"
          ]
        }
      ]
    },
    {
      "cell_type": "code",
      "source": [],
      "metadata": {
        "id": "HNYpjZ0zzXa7"
      },
      "execution_count": null,
      "outputs": []
    }
  ]
}