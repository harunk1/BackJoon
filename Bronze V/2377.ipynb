{
  "nbformat": 4,
  "nbformat_minor": 0,
  "metadata": {
    "colab": {
      "provenance": [],
      "authorship_tag": "ABX9TyOn6saIDdaICJlZuuFRJgPt",
      "include_colab_link": true
    },
    "kernelspec": {
      "name": "python3",
      "display_name": "Python 3"
    },
    "language_info": {
      "name": "python"
    }
  },
  "cells": [
    {
      "cell_type": "markdown",
      "metadata": {
        "id": "view-in-github",
        "colab_type": "text"
      },
      "source": [
        "<a href=\"https://colab.research.google.com/github/harunk1/BackJoon/blob/main/Bronze%20V/2377.ipynb\" target=\"_parent\"><img src=\"https://colab.research.google.com/assets/colab-badge.svg\" alt=\"Open In Colab\"/></a>"
      ]
    },
    {
      "cell_type": "markdown",
      "source": [
        "#Pottery\n",
        "##언어제한 : FreeBASIC"
      ],
      "metadata": {
        "id": "zqQ-facGG5rX"
      }
    },
    {
      "cell_type": "code",
      "source": [
        "PRINT \" _________\"\n",
        "PRINT \" \\_     _/\"\n",
        "PRINT \"   \\   /\"\n",
        "PRINT \"    | |\"\n",
        "PRINT \"   /   \\\"\n",
        "PRINT \"  /     \\\"\n",
        "PRINT \" |       |\"\n",
        "PRINT \"/---------\\\"\n",
        "PRINT \"| \\-/ \\-/ |\"\n",
        "PRINT \"\\---------/\"\n",
        "PRINT \" \\_______/\""
      ],
      "metadata": {
        "id": "n9ny3zc68uCe"
      },
      "execution_count": null,
      "outputs": []
    }
  ]
}