{
  "nbformat": 4,
  "nbformat_minor": 0,
  "metadata": {
    "colab": {
      "provenance": [],
      "authorship_tag": "ABX9TyOmRnUDsnduyxdLJjhwsBoE",
      "include_colab_link": true
    },
    "kernelspec": {
      "name": "python3",
      "display_name": "Python 3"
    },
    "language_info": {
      "name": "python"
    }
  },
  "cells": [
    {
      "cell_type": "markdown",
      "metadata": {
        "id": "view-in-github",
        "colab_type": "text"
      },
      "source": [
        "<a href=\"https://colab.research.google.com/github/harunk1/BackJoon/blob/main/Bronze%20V/2372.ipynb\" target=\"_parent\"><img src=\"https://colab.research.google.com/assets/colab-badge.svg\" alt=\"Open In Colab\"/></a>"
      ]
    },
    {
      "cell_type": "markdown",
      "source": [
        "#Livestock Count\n",
        "##언어제한 : Ada"
      ],
      "metadata": {
        "id": "zqQ-facGG5rX"
      }
    },
    {
      "cell_type": "code",
      "source": [
        "with Ada.Text_IO;\n",
        "procedure Hello is\n",
        "begin\n",
        "    Ada.Text_IO.Put_Line(\"Animal      Count\");\n",
        "    Ada.Text_IO.Put_Line(\"-----------------\");\n",
        "    Ada.Text_IO.Put_Line(\"Chickens      100\");\n",
        "    Ada.Text_IO.Put_Line(\"Clydesdales     5\");\n",
        "    Ada.Text_IO.Put_Line(\"Cows           40\");\n",
        "    Ada.Text_IO.Put_Line(\"Goats          22\");\n",
        "    Ada.Text_IO.Put_Line(\"Steers          2\");\n",
        "end Hello;"
      ],
      "metadata": {
        "id": "n9ny3zc68uCe"
      },
      "execution_count": null,
      "outputs": []
    }
  ]
}