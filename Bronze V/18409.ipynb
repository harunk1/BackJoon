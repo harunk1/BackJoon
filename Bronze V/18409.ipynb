{
  "nbformat": 4,
  "nbformat_minor": 0,
  "metadata": {
    "colab": {
      "provenance": [],
      "authorship_tag": "ABX9TyPp/mvV/Jv62olLIYRHVJ/w",
      "include_colab_link": true
    },
    "kernelspec": {
      "name": "python3",
      "display_name": "Python 3"
    },
    "language_info": {
      "name": "python"
    }
  },
  "cells": [
    {
      "cell_type": "markdown",
      "metadata": {
        "id": "view-in-github",
        "colab_type": "text"
      },
      "source": [
        "<a href=\"https://colab.research.google.com/github/harunk1/BackJoon/blob/main/Bronze%20V/18409.ipynb\" target=\"_parent\"><img src=\"https://colab.research.google.com/assets/colab-badge.svg\" alt=\"Open In Colab\"/></a>"
      ]
    },
    {
      "cell_type": "markdown",
      "source": [
        "# 母音を数える (Counting Vowels)\n",
        "## 모음을 세는"
      ],
      "metadata": {
        "id": "zqQ-facGG5rX"
      }
    },
    {
      "cell_type": "code",
      "source": [
        "n=int(input())\n",
        "s=list(input())\n",
        "mo=[\"a\",\"i\",\"u\",\"e\",\"o\"]\n",
        "su=0\n",
        "for i in range(n):\n",
        "  for a in range(5):\n",
        "    if mo[a]==s[i]:\n",
        "      su+=1\n",
        "print(su)"
      ],
      "metadata": {
        "colab": {
          "base_uri": "https://localhost:8080/"
        },
        "id": "cXRCiPHZfLFx",
        "outputId": "f276ed49-dc0f-43ee-d3f0-466496d3ba9d"
      },
      "execution_count": 9,
      "outputs": [
        {
          "output_type": "stream",
          "name": "stdout",
          "text": [
            "8\n",
            "joiyosen\n",
            "4\n"
          ]
        }
      ]
    },
    {
      "cell_type": "markdown",
      "source": [
        "## 다른방법"
      ],
      "metadata": {
        "id": "d9K6jjI2aqTq"
      }
    },
    {
      "cell_type": "code",
      "source": [
        "def counting_vowels(word):\n",
        "    vowels = [\"a\", \"e\", \"i\", \"o\", \"u\"]\n",
        "    \n",
        "    return len([char for char in list(word) if char in vowels])\n",
        "\n",
        "\n",
        "if __name__ == \"__main__\":\n",
        "    N = int(input())\n",
        "    S = input()\n",
        "    \n",
        "    print(counting_vowels(word=S))"
      ],
      "metadata": {
        "colab": {
          "base_uri": "https://localhost:8080/"
        },
        "id": "9VQlztDHaEgr",
        "outputId": "97d0f4d4-57bd-4189-b122-6703a8a80e72"
      },
      "execution_count": 10,
      "outputs": [
        {
          "output_type": "stream",
          "name": "stdout",
          "text": [
            "8\n",
            "joiyosen\n",
            "4\n"
          ]
        }
      ]
    }
  ]
}