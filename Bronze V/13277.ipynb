{
  "nbformat": 4,
  "nbformat_minor": 0,
  "metadata": {
    "colab": {
      "provenance": [],
      "authorship_tag": "ABX9TyMTe9B24TUtJ4aAmXaiIotK",
      "include_colab_link": true
    },
    "kernelspec": {
      "name": "python3",
      "display_name": "Python 3"
    },
    "language_info": {
      "name": "python"
    }
  },
  "cells": [
    {
      "cell_type": "markdown",
      "metadata": {
        "id": "view-in-github",
        "colab_type": "text"
      },
      "source": [
        "<a href=\"https://colab.research.google.com/github/harunk1/BackJoon/blob/main/Bronze%20V/13277.ipynb\" target=\"_parent\"><img src=\"https://colab.research.google.com/assets/colab-badge.svg\" alt=\"Open In Colab\"/></a>"
      ]
    },
    {
      "cell_type": "markdown",
      "source": [
        "# 큰 수 곱셈"
      ],
      "metadata": {
        "id": "zqQ-facGG5rX"
      }
    },
    {
      "cell_type": "code",
      "source": [
        "a,b=map(int, input().split())\n",
        "print(a*b)"
      ],
      "metadata": {
        "id": "mwb7GQDyV3El",
        "colab": {
          "base_uri": "https://localhost:8080/"
        },
        "outputId": "3e0815da-41fa-4965-f0fe-3673a21d9fc5"
      },
      "execution_count": 4,
      "outputs": [
        {
          "output_type": "stream",
          "name": "stdout",
          "text": [
            "893724358493284 238947328947329\n",
            "213553048277135320552236238436\n"
          ]
        }
      ]
    }
  ]
}