{
  "nbformat": 4,
  "nbformat_minor": 0,
  "metadata": {
    "colab": {
      "provenance": [],
      "authorship_tag": "ABX9TyPjbj5aQVBDwagZDzGSo8Mu",
      "include_colab_link": true
    },
    "kernelspec": {
      "name": "python3",
      "display_name": "Python 3"
    },
    "language_info": {
      "name": "python"
    }
  },
  "cells": [
    {
      "cell_type": "markdown",
      "metadata": {
        "id": "view-in-github",
        "colab_type": "text"
      },
      "source": [
        "<a href=\"https://colab.research.google.com/github/harunk1/BackJoon/blob/main/Bronze%20V/27219.ipynb\" target=\"_parent\"><img src=\"https://colab.research.google.com/assets/colab-badge.svg\" alt=\"Open In Colab\"/></a>"
      ]
    },
    {
      "cell_type": "markdown",
      "source": [
        "# Робинзон Крузо"
      ],
      "metadata": {
        "id": "zqQ-facGG5rX"
      }
    },
    {
      "cell_type": "markdown",
      "source": [
        "문제\n",
        "\n",
        "로빈슨 크루소는 무인도에서 오두막 벽을 이용해 날짜를 기념합니다.\n",
        "\n",
        "크루소는 매일 날짜를 표시하는데, 이 문제에서는 영문자 <I>로 표기합니다. 또 5일마다 기존 4개의 표시를 지우는데, 이 문제에서는 영문자 <V>로 표기합니다.\n",
        "\n",
        "n번째 날에 로빈슨 오두막 벽에는 어떤 표시가 있을까요?\n",
        "\n",
        "입력\n",
        "\n",
        "하나의 숫자 n이 주어집니다. (1 <= n <= 10000)\n",
        "\n",
        "출력\n",
        "\n",
        "n번째 날 로빈슨의 오두막에 있는 표시를 출력합니다."
      ],
      "metadata": {
        "id": "9WdoSwWy9n8W"
      }
    },
    {
      "cell_type": "code",
      "source": [
        "n=int(input())\n",
        "print(\"V\"*(n//5),\"I\"*(n%5),sep='')"
      ],
      "metadata": {
        "colab": {
          "base_uri": "https://localhost:8080/"
        },
        "id": "FOQeOaLmG44q",
        "outputId": "b6efe5e6-8ac7-41fe-9346-0bcaaab53400"
      },
      "execution_count": 10,
      "outputs": [
        {
          "output_type": "stream",
          "name": "stdout",
          "text": [
            "13\n",
            "VVIII\n"
          ]
        }
      ]
    }
  ]
}