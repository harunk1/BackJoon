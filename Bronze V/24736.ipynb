{
  "nbformat": 4,
  "nbformat_minor": 0,
  "metadata": {
    "colab": {
      "provenance": [],
      "authorship_tag": "ABX9TyNx/qg89hLcQXzUfHUn/LwU",
      "include_colab_link": true
    },
    "kernelspec": {
      "name": "python3",
      "display_name": "Python 3"
    },
    "language_info": {
      "name": "python"
    }
  },
  "cells": [
    {
      "cell_type": "markdown",
      "metadata": {
        "id": "view-in-github",
        "colab_type": "text"
      },
      "source": [
        "<a href=\"https://colab.research.google.com/github/harunk1/BackJoon/blob/main/Bronze%20V/24736.ipynb\" target=\"_parent\"><img src=\"https://colab.research.google.com/assets/colab-badge.svg\" alt=\"Open In Colab\"/></a>"
      ]
    },
    {
      "cell_type": "markdown",
      "source": [
        "# Football Scoring"
      ],
      "metadata": {
        "id": "zqQ-facGG5rX"
      }
    },
    {
      "cell_type": "code",
      "source": [
        "Ta,Fa,Sa,Pa,Ca=map(int,input().split())\n",
        "Tb,Fb,Sb,Pb,Cb=map(int,input().split())\n",
        "print(Ta*6+Fa*3+Sa*2+Pa*1+Ca*2)\n",
        "print(Tb*6+Fb*3+Sb*2+Pb*1+Cb*2)"
      ],
      "metadata": {
        "colab": {
          "base_uri": "https://localhost:8080/"
        },
        "id": "Xhsyek8GhgZC",
        "outputId": "58efb597-0c93-429e-c199-20bc74188172"
      },
      "execution_count": 4,
      "outputs": [
        {
          "output_type": "stream",
          "name": "stdout",
          "text": [
            "1 3 0 0 1\n",
            "3 1 1 1 1\n",
            "17\n",
            "26\n"
          ]
        }
      ]
    }
  ]
}