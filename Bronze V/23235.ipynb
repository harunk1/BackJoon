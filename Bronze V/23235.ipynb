{
  "nbformat": 4,
  "nbformat_minor": 0,
  "metadata": {
    "colab": {
      "provenance": [],
      "authorship_tag": "ABX9TyNwawSV5AHGBymx66ApjsS1",
      "include_colab_link": true
    },
    "kernelspec": {
      "name": "python3",
      "display_name": "Python 3"
    },
    "language_info": {
      "name": "python"
    }
  },
  "cells": [
    {
      "cell_type": "markdown",
      "metadata": {
        "id": "view-in-github",
        "colab_type": "text"
      },
      "source": [
        "<a href=\"https://colab.research.google.com/github/harunk1/BackJoon/blob/main/Bronze%20V/23235.ipynb\" target=\"_parent\"><img src=\"https://colab.research.google.com/assets/colab-badge.svg\" alt=\"Open In Colab\"/></a>"
      ]
    },
    {
      "cell_type": "markdown",
      "source": [
        "# The Fastest Sorting Algorithm In The World\n"
      ],
      "metadata": {
        "id": "zqQ-facGG5rX"
      }
    },
    {
      "cell_type": "code",
      "source": [
        "num=1\n",
        "while True :\n",
        "  a=input()\n",
        "  if a==\"0\":\n",
        "    break\n",
        "  else :\n",
        "    print(f\"Case {num}: Sorting... done!\")\n",
        "    num+=1"
      ],
      "metadata": {
        "colab": {
          "base_uri": "https://localhost:8080/"
        },
        "id": "1jdszPBBRgoJ",
        "outputId": "8d54f114-a3d9-4b1c-a6e6-46cbab24e2c4"
      },
      "execution_count": 9,
      "outputs": [
        {
          "name": "stdout",
          "output_type": "stream",
          "text": [
            "5 41 13\n",
            "Case 1: Sorting... done!\n",
            " 31 51\n",
            "Case 2: Sorting... done!\n",
            "0\n"
          ]
        }
      ]
    }
  ]
}