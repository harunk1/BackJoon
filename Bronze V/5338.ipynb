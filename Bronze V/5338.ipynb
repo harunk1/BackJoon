{
  "nbformat": 4,
  "nbformat_minor": 0,
  "metadata": {
    "colab": {
      "provenance": [],
      "authorship_tag": "ABX9TyOaOJfYqsT+badD0zTzpDza",
      "include_colab_link": true
    },
    "kernelspec": {
      "name": "python3",
      "display_name": "Python 3"
    },
    "language_info": {
      "name": "python"
    }
  },
  "cells": [
    {
      "cell_type": "markdown",
      "metadata": {
        "id": "view-in-github",
        "colab_type": "text"
      },
      "source": [
        "<a href=\"https://colab.research.google.com/github/harunk1/BackJoon/blob/main/Bronze%20V/5338.ipynb\" target=\"_parent\"><img src=\"https://colab.research.google.com/assets/colab-badge.svg\" alt=\"Open In Colab\"/></a>"
      ]
    },
    {
      "cell_type": "markdown",
      "source": [
        "#마이크로소프트 로고"
      ],
      "metadata": {
        "id": "zqQ-facGG5rX"
      }
    },
    {
      "cell_type": "code",
      "source": [
        "print(\"       _.-;;-._\")\n",
        "print(\"'-..-'|   ||   |\")\n",
        "print(\"'-..-'|_.-;;-._|\")\n",
        "print(\"'-..-'|   ||   |\")\n",
        "print(\"'-..-'|_.-''-._|\")"
      ],
      "metadata": {
        "colab": {
          "base_uri": "https://localhost:8080/"
        },
        "id": "34KUWppcfSCz",
        "outputId": "cbb86621-9d2d-4c92-cdfa-2e704738d88b"
      },
      "execution_count": 3,
      "outputs": [
        {
          "output_type": "stream",
          "name": "stdout",
          "text": [
            "       _.-;;-._\n",
            "'-..-'|   ||   |\n",
            "'-..-'|_.-;;-._|\n",
            "'-..-'|   ||   |\n",
            "'-..-'|_.-''-._|\n"
          ]
        }
      ]
    }
  ]
}