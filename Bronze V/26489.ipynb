{
  "nbformat": 4,
  "nbformat_minor": 0,
  "metadata": {
    "colab": {
      "provenance": [],
      "authorship_tag": "ABX9TyPZUIFs0g6tGSCPDVkltVPL",
      "include_colab_link": true
    },
    "kernelspec": {
      "name": "python3",
      "display_name": "Python 3"
    },
    "language_info": {
      "name": "python"
    }
  },
  "cells": [
    {
      "cell_type": "markdown",
      "metadata": {
        "id": "view-in-github",
        "colab_type": "text"
      },
      "source": [
        "<a href=\"https://colab.research.google.com/github/harunk1/BackJoon/blob/main/Bronze%20V/26489.ipynb\" target=\"_parent\"><img src=\"https://colab.research.google.com/assets/colab-badge.svg\" alt=\"Open In Colab\"/></a>"
      ]
    },
    {
      "cell_type": "markdown",
      "source": [
        "# Gum Gum for Jay Jay"
      ],
      "metadata": {
        "id": "zqQ-facGG5rX"
      }
    },
    {
      "cell_type": "code",
      "source": [
        "def gum_gum_for_jay_jay():\n",
        "    answer = 0\n",
        "    \n",
        "    while True:\n",
        "        try:\n",
        "            gum_gum = input()\n",
        "            answer += 1\n",
        "        except EOFError:\n",
        "            break\n",
        "    \n",
        "    return answer\n",
        "\n",
        "\n",
        "if __name__ == \"__main__\":\n",
        "    print(gum_gum_for_jay_jay())"
      ],
      "metadata": {
        "colab": {
          "base_uri": "https://localhost:8080/"
        },
        "id": "FOQeOaLmG44q",
        "outputId": "f38e8898-84cb-49de-ce1a-9fd3397eb066"
      },
      "execution_count": null,
      "outputs": [
        {
          "output_type": "stream",
          "name": "stdout",
          "text": [
            "11 59\n",
            "179\n"
          ]
        }
      ]
    }
  ]
}