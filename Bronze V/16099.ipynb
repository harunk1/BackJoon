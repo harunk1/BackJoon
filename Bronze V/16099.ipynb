{
  "nbformat": 4,
  "nbformat_minor": 0,
  "metadata": {
    "colab": {
      "provenance": [],
      "authorship_tag": "ABX9TyNg6gmrMNTOsg/Wlx61ejlK",
      "include_colab_link": true
    },
    "kernelspec": {
      "name": "python3",
      "display_name": "Python 3"
    },
    "language_info": {
      "name": "python"
    }
  },
  "cells": [
    {
      "cell_type": "markdown",
      "metadata": {
        "id": "view-in-github",
        "colab_type": "text"
      },
      "source": [
        "<a href=\"https://colab.research.google.com/github/harunk1/BackJoon/blob/main/Bronze%20V/16099.ipynb\" target=\"_parent\"><img src=\"https://colab.research.google.com/assets/colab-badge.svg\" alt=\"Open In Colab\"/></a>"
      ]
    },
    {
      "cell_type": "markdown",
      "source": [
        "# Larger Sport Facility (더 큰 스포츠 시설)"
      ],
      "metadata": {
        "id": "zqQ-facGG5rX"
      }
    },
    {
      "cell_type": "code",
      "source": [
        "c=int(input())\n",
        "for i in range(c):\n",
        "  l, w, le, we=map(int,input().split())\n",
        "  a=l*w\n",
        "  b=le*we\n",
        "  if a<b:\n",
        "    print(\"Eurecom\")\n",
        "  elif a==b:\n",
        "    print(\"Tie\")\n",
        "  else:\n",
        "    print(\"TelecomParisTech\")"
      ],
      "metadata": {
        "colab": {
          "base_uri": "https://localhost:8080/"
        },
        "id": "KwNvTVpfRvUb",
        "outputId": "5acc9452-b51e-4616-a8a8-9cb3627852ea"
      },
      "execution_count": 6,
      "outputs": [
        {
          "output_type": "stream",
          "name": "stdout",
          "text": [
            "2\n",
            "3 2 4 2\n",
            "Eurecom\n",
            "536874368 268792221 598 1204\n",
            "TelecomParisTech\n"
          ]
        }
      ]
    }
  ]
}