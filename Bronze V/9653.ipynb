{
  "nbformat": 4,
  "nbformat_minor": 0,
  "metadata": {
    "colab": {
      "provenance": [],
      "authorship_tag": "ABX9TyNt5NEXTdj+Be8cNyXSUzis",
      "include_colab_link": true
    },
    "kernelspec": {
      "name": "python3",
      "display_name": "Python 3"
    },
    "language_info": {
      "name": "python"
    }
  },
  "cells": [
    {
      "cell_type": "markdown",
      "metadata": {
        "id": "view-in-github",
        "colab_type": "text"
      },
      "source": [
        "<a href=\"https://colab.research.google.com/github/harunk1/BackJoon/blob/main/Bronze%20V/9653.ipynb\" target=\"_parent\"><img src=\"https://colab.research.google.com/assets/colab-badge.svg\" alt=\"Open In Colab\"/></a>"
      ]
    },
    {
      "cell_type": "markdown",
      "source": [
        "#\t스타워즈 로고"
      ],
      "metadata": {
        "id": "zqQ-facGG5rX"
      }
    },
    {
      "cell_type": "code",
      "source": [
        "print(\"    8888888888  888    88888\")\n",
        "print(\"   88     88   88 88   88  88\")\n",
        "print(\"    8888  88  88   88  88888\")\n",
        "print(\"       88 88 888888888 88   88\")\n",
        "print(\"88888888  88 88     88 88    888888\")\n",
        "print()\n",
        "print(\"88  88  88   888    88888    888888\")\n",
        "print(\"88  88  88  88 88   88  88  88\")\n",
        "print(\"88 8888 88 88   88  88888    8888\")\n",
        "print(\" 888  888 888888888 88  88      88\")\n",
        "print(\"  88  88  88     88 88   88888888\")"
      ],
      "metadata": {
        "colab": {
          "base_uri": "https://localhost:8080/"
        },
        "id": "wYH7NIl5X0wq",
        "outputId": "5f3db615-7517-42ab-80ea-db4385144570"
      },
      "execution_count": 4,
      "outputs": [
        {
          "output_type": "stream",
          "name": "stdout",
          "text": [
            "    8888888888  888    88888\n",
            "   88     88   88 88   88  88\n",
            "    8888  88  88   88  88888\n",
            "       88 88 888888888 88   88\n",
            "88888888  88 88     88 88    888888\n",
            "\n",
            "88  88  88   888    88888    888888\n",
            "88  88  88  88 88   88  88  88\n",
            "88 8888 88 88   88  88888    8888\n",
            " 888  888 888888888 88  88      88\n",
            "  88  88  88     88 88   88888888\n"
          ]
        }
      ]
    }
  ]
}