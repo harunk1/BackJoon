{
  "nbformat": 4,
  "nbformat_minor": 0,
  "metadata": {
    "colab": {
      "provenance": [],
      "authorship_tag": "ABX9TyNl13o+m0IapWA5tafAZZzn",
      "include_colab_link": true
    },
    "kernelspec": {
      "name": "python3",
      "display_name": "Python 3"
    },
    "language_info": {
      "name": "python"
    }
  },
  "cells": [
    {
      "cell_type": "markdown",
      "metadata": {
        "id": "view-in-github",
        "colab_type": "text"
      },
      "source": [
        "<a href=\"https://colab.research.google.com/github/harunk1/BackJoon/blob/main/Bronze%20V/1809.ipynb\" target=\"_parent\"><img src=\"https://colab.research.google.com/assets/colab-badge.svg\" alt=\"Open In Colab\"/></a>"
      ]
    },
    {
      "cell_type": "markdown",
      "source": [
        "#Moo\n",
        "##언어제한 : Golfscript"
      ],
      "metadata": {
        "id": "zqQ-facGG5rX"
      }
    },
    {
      "cell_type": "code",
      "source": [
        "#이것이 Golfscript 언어로 할때이다 \"\"안에 프린트할것을 추가하면 된다\n",
        "\"(___)\n",
        "(o o)____/\n",
        " @@      \\\\\n",
        "  \\\\ ____,/\n",
        "  //   //\n",
        " ^^   ^^\""
      ],
      "metadata": {
        "id": "Xq8aTWd6EsC8"
      },
      "execution_count": null,
      "outputs": []
    },
    {
      "cell_type": "code",
      "execution_count": 11,
      "metadata": {
        "colab": {
          "base_uri": "https://localhost:8080/"
        },
        "id": "gqycp7tDGQmg",
        "outputId": "59ce4cd6-4271-49b2-fcd8-658c2d85f46f"
      },
      "outputs": [
        {
          "output_type": "stream",
          "name": "stdout",
          "text": [
            "(___)\n",
            "(o o)____/\n",
            " @@      \\\n",
            "  \\ ____,/\n",
            "  //   //\n",
            " ^^   ^^\n"
          ]
        }
      ],
      "source": [
        "#이것은 파이썬으로 한것이고\n",
        "print('(___)')\n",
        "print('(o o)____/')\n",
        "print(\" @@      \\\\\")\n",
        "print('  \\ ____,/')\n",
        "print('  //   //')\n",
        "print(' ^^   ^^')"
      ]
    },
    {
      "cell_type": "code",
      "source": [],
      "metadata": {
        "id": "Ysy0qAbODq9D"
      },
      "execution_count": null,
      "outputs": []
    }
  ]
}