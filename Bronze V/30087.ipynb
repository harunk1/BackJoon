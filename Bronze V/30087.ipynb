{
  "nbformat": 4,
  "nbformat_minor": 0,
  "metadata": {
    "colab": {
      "provenance": [],
      "authorship_tag": "ABX9TyO3cw7hsgemUD8Luh5w8lp1",
      "include_colab_link": true
    },
    "kernelspec": {
      "name": "python3",
      "display_name": "Python 3"
    },
    "language_info": {
      "name": "python"
    }
  },
  "cells": [
    {
      "cell_type": "markdown",
      "metadata": {
        "id": "view-in-github",
        "colab_type": "text"
      },
      "source": [
        "<a href=\"https://colab.research.google.com/github/harunk1/BackJoon/blob/main/Bronze%20V/30087.ipynb\" target=\"_parent\"><img src=\"https://colab.research.google.com/assets/colab-badge.svg\" alt=\"Open In Colab\"/></a>"
      ]
    },
    {
      "cell_type": "markdown",
      "source": [
        "# 진흥원 세미나"
      ],
      "metadata": {
        "id": "YC0PS6efBoP4"
      }
    },
    {
      "cell_type": "code",
      "source": [
        "n=int(input())\n",
        "seminar = {\"Algorithm\":\"204\",\"DataAnalysis\":\"207\",\"ArtificialIntelligence\":\"302\",\"CyberSecurity\":\"B101\",\"Network\":\"303\",\"Startup\":\"501\",\"TestStrategy\":\"105\"}\n",
        "for _ in range(n):\n",
        "  a=input()\n",
        "  print(seminar[a])"
      ],
      "metadata": {
        "colab": {
          "base_uri": "https://localhost:8080/"
        },
        "id": "gSntba_TZcuZ",
        "outputId": "f211b7fa-2d8e-487c-dff3-f84803561964"
      },
      "execution_count": 9,
      "outputs": [
        {
          "output_type": "stream",
          "name": "stdout",
          "text": [
            "4\n",
            "Algorithm\n",
            "204\n",
            "Network\n",
            "303\n",
            "CyberSecurity\n",
            "B101\n",
            "Startup\n",
            "501\n"
          ]
        }
      ]
    }
  ]
}