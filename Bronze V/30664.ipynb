{
  "nbformat": 4,
  "nbformat_minor": 0,
  "metadata": {
    "colab": {
      "provenance": [],
      "authorship_tag": "ABX9TyNnRSnJmrX7zP9JPc6MqZzn",
      "include_colab_link": true
    },
    "kernelspec": {
      "name": "python3",
      "display_name": "Python 3"
    },
    "language_info": {
      "name": "python"
    }
  },
  "cells": [
    {
      "cell_type": "markdown",
      "metadata": {
        "id": "view-in-github",
        "colab_type": "text"
      },
      "source": [
        "<a href=\"https://colab.research.google.com/github/harunk1/BackJoon/blob/main/Bronze%20V/30664.ipynb\" target=\"_parent\"><img src=\"https://colab.research.google.com/assets/colab-badge.svg\" alt=\"Open In Colab\"/></a>"
      ]
    },
    {
      "cell_type": "markdown",
      "source": [
        "# Loteria Falha"
      ],
      "metadata": {
        "id": "YC0PS6efBoP4"
      }
    },
    {
      "cell_type": "code",
      "source": [
        "while True:\n",
        "  n=int(input())\n",
        "  if n==0:\n",
        "    break\n",
        "  if n%42==0:\n",
        "    print(\"PREMIADO\")\n",
        "  else:\n",
        "    print(\"TENTE NOVAMENTE\")"
      ],
      "metadata": {
        "colab": {
          "base_uri": "https://localhost:8080/"
        },
        "id": "gSntba_TZcuZ",
        "outputId": "3d4f7b39-ed85-40f6-e96d-e811d7336785"
      },
      "execution_count": 15,
      "outputs": [
        {
          "name": "stdout",
          "output_type": "stream",
          "text": [
            "42\n",
            "PREMIADO\n",
            "17283940536172938433\n",
            "TENTE NOVAMENTE\n",
            "17283940536172938432\n",
            "PREMIADO\n",
            "10000000000000000000\n",
            "TENTE NOVAMENTE\n",
            "0\n"
          ]
        }
      ]
    }
  ]
}