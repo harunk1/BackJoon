{
  "nbformat": 4,
  "nbformat_minor": 0,
  "metadata": {
    "colab": {
      "provenance": [],
      "authorship_tag": "ABX9TyN8IAlZdMqxIIEqMnZh+Pe3",
      "include_colab_link": true
    },
    "kernelspec": {
      "name": "python3",
      "display_name": "Python 3"
    },
    "language_info": {
      "name": "python"
    }
  },
  "cells": [
    {
      "cell_type": "markdown",
      "metadata": {
        "id": "view-in-github",
        "colab_type": "text"
      },
      "source": [
        "<a href=\"https://colab.research.google.com/github/harunk1/BackJoon/blob/main/Bronze%20V/2754.ipynb\" target=\"_parent\"><img src=\"https://colab.research.google.com/assets/colab-badge.svg\" alt=\"Open In Colab\"/></a>"
      ]
    },
    {
      "cell_type": "markdown",
      "source": [
        "#학점계산"
      ],
      "metadata": {
        "id": "zqQ-facGG5rX"
      }
    },
    {
      "cell_type": "code",
      "source": [
        "C=input()\n",
        "if C==\"A+\":\n",
        "  print(4.3)\n",
        "elif C==\"A0\":\n",
        "  print(4.0)\n",
        "elif C==\"A-\":\n",
        "  print(3.7)\n",
        "elif C==\"B+\":\n",
        "  print(3.3)\n",
        "elif C==\"B0\":\n",
        "  print(3.0)\n",
        "elif C==\"B-\":\n",
        "  print(2.7)\n",
        "elif C==\"C+\":\n",
        "  print(2.3)\n",
        "elif C==\"C0\":\n",
        "  print(2.0)\n",
        "elif C==\"C-\":\n",
        "  print(1.7)\n",
        "elif C==\"D+\":\n",
        "  print(1.3)\n",
        "elif C==\"D0\":\n",
        "  print(1.0)\n",
        "elif C==\"D-\":\n",
        "  print(0.7)\n",
        "else:\n",
        "  print(0.0)"
      ],
      "metadata": {
        "colab": {
          "base_uri": "https://localhost:8080/"
        },
        "id": "zE5UpOusNki3",
        "outputId": "2952dd63-b325-47fe-fac5-9d31f41cd09d"
      },
      "execution_count": 2,
      "outputs": [
        {
          "output_type": "stream",
          "name": "stdout",
          "text": [
            "A0\n",
            "4.0\n"
          ]
        }
      ]
    },
    {
      "cell_type": "markdown",
      "source": [
        "###다른방법"
      ],
      "metadata": {
        "id": "eBXWpZFKPFfI"
      }
    },
    {
      "cell_type": "code",
      "source": [
        "dic = {'A+':'4.3', 'A0':'4.0', 'A-':'3.7',\n",
        "       'B+':'3.3', 'B0':'3.0', 'B-':'2.7',\n",
        "       'C+':'2.3', 'C0':'2.0', 'C-':'1.7',\n",
        "       'D+':'1.3', 'D0':'1.0', 'D-':'0.7',\n",
        "       'F':'0.0'}\n",
        "grade = input()\n",
        "print(dic[grade])"
      ],
      "metadata": {
        "colab": {
          "base_uri": "https://localhost:8080/"
        },
        "id": "ug9SJ1_RO0z8",
        "outputId": "8e4b22cc-24e1-4da8-b4c3-ccaae79b8df8"
      },
      "execution_count": 3,
      "outputs": [
        {
          "output_type": "stream",
          "name": "stdout",
          "text": [
            "A0\n",
            "4.0\n"
          ]
        }
      ]
    }
  ]
}