{
  "nbformat": 4,
  "nbformat_minor": 0,
  "metadata": {
    "colab": {
      "provenance": [],
      "authorship_tag": "ABX9TyOZfTro+w6eNiloG9ttp18J",
      "include_colab_link": true
    },
    "kernelspec": {
      "name": "python3",
      "display_name": "Python 3"
    },
    "language_info": {
      "name": "python"
    }
  },
  "cells": [
    {
      "cell_type": "markdown",
      "metadata": {
        "id": "view-in-github",
        "colab_type": "text"
      },
      "source": [
        "<a href=\"https://colab.research.google.com/github/harunk1/BackJoon/blob/main/Bronze%20V/9654.ipynb\" target=\"_parent\"><img src=\"https://colab.research.google.com/assets/colab-badge.svg\" alt=\"Open In Colab\"/></a>"
      ]
    },
    {
      "cell_type": "markdown",
      "source": [
        "# 나부 함대 데이터"
      ],
      "metadata": {
        "id": "zqQ-facGG5rX"
      }
    },
    {
      "cell_type": "code",
      "source": [
        "print(\"SHIP NAME      CLASS          DEPLOYMENT IN SERVICE\")\n",
        "print(\"N2 Bomber      Heavy Fighter  Limited    21        \")\n",
        "print(\"J-Type 327     Light Combat   Unlimited  1         \")\n",
        "print(\"NX Cruiser     Medium Fighter Limited    18        \")\n",
        "print(\"N1 Starfighter Medium Fighter Unlimited  25        \")\n",
        "print(\"Royal Cruiser  Light Combat   Limited    4         \")"
      ],
      "metadata": {
        "colab": {
          "base_uri": "https://localhost:8080/"
        },
        "id": "wYH7NIl5X0wq",
        "outputId": "8930571e-75fe-420f-82e1-609aa763bac3"
      },
      "execution_count": 2,
      "outputs": [
        {
          "output_type": "stream",
          "name": "stdout",
          "text": [
            "SHIP NAME      CLASS          DEPLOYMENT IN SERVICE\n",
            "N2 Bomber      Heavy Fighter  Limited    21        \n",
            "J-Type 327     Light Combat   Unlimited  1         \n",
            "NX Cruiser     Medium Fighter Limited    18        \n",
            "N1 Starfighter Medium Fighter Unlimited  25        \n",
            "Royal Cruiser  Light Combat   Limited    4         \n"
          ]
        }
      ]
    }
  ]
}