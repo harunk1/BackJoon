{
  "nbformat": 4,
  "nbformat_minor": 0,
  "metadata": {
    "colab": {
      "provenance": [],
      "authorship_tag": "ABX9TyPbkNME1fWzr66B4SYubzbj",
      "include_colab_link": true
    },
    "kernelspec": {
      "name": "python3",
      "display_name": "Python 3"
    },
    "language_info": {
      "name": "python"
    }
  },
  "cells": [
    {
      "cell_type": "markdown",
      "metadata": {
        "id": "view-in-github",
        "colab_type": "text"
      },
      "source": [
        "<a href=\"https://colab.research.google.com/github/harunk1/BackJoon/blob/main/Bronze%20V/10170.ipynb\" target=\"_parent\"><img src=\"https://colab.research.google.com/assets/colab-badge.svg\" alt=\"Open In Colab\"/></a>"
      ]
    },
    {
      "cell_type": "markdown",
      "source": [
        "# NFC West vs North "
      ],
      "metadata": {
        "id": "zqQ-facGG5rX"
      }
    },
    {
      "cell_type": "code",
      "source": [
        "print(\"NFC West       W   L  T\")\n",
        "print(\"-----------------------\")\n",
        "print(\"Seattle        13  3  0\")\n",
        "print(\"San Francisco  12  4  0\")\n",
        "print(\"Arizona        10  6  0\")\n",
        "print(\"St. Louis      7   9  0\")\n",
        "print(\"\")\n",
        "print(\"NFC North      W   L  T\")\n",
        "print(\"-----------------------\")\n",
        "print(\"Green Bay      8   7  1\")\n",
        "print(\"Chicago        8   8  0\")\n",
        "print(\"Detroit        7   9  0\")\n",
        "print(\"Minnesota      5  10  1\")"
      ],
      "metadata": {
        "colab": {
          "base_uri": "https://localhost:8080/"
        },
        "id": "wYH7NIl5X0wq",
        "outputId": "91189055-90d7-4913-a559-cbc7e3fb5e71"
      },
      "execution_count": null,
      "outputs": [
        {
          "output_type": "stream",
          "name": "stdout",
          "text": [
            "NFC West       W   L  T\n",
            "-----------------------\n",
            "Seattle        13  3  0\n",
            "San Francisco  12  4  0\n",
            "Arizona        10  6  0\n",
            "St. Louis      7   9  0\n",
            "\n",
            "NFC North      W   L  T\n",
            "-----------------------\n",
            "Green Bay      8   7  1\n",
            "Chicago        8   8  0\n",
            "Detroit        7   9  0\n",
            "Minnesota      5  10  1\n"
          ]
        }
      ]
    }
  ]
}