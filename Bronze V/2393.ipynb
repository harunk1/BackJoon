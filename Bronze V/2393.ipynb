{
  "nbformat": 4,
  "nbformat_minor": 0,
  "metadata": {
    "colab": {
      "provenance": [],
      "authorship_tag": "ABX9TyPKU/0X1j/IaBcmNXCQS8QV",
      "include_colab_link": true
    },
    "kernelspec": {
      "name": "python3",
      "display_name": "Python 3"
    },
    "language_info": {
      "name": "python"
    }
  },
  "cells": [
    {
      "cell_type": "markdown",
      "metadata": {
        "id": "view-in-github",
        "colab_type": "text"
      },
      "source": [
        "<a href=\"https://colab.research.google.com/github/harunk1/BackJoon/blob/main/Bronze%20V/2393.ipynb\" target=\"_parent\"><img src=\"https://colab.research.google.com/assets/colab-badge.svg\" alt=\"Open In Colab\"/></a>"
      ]
    },
    {
      "cell_type": "markdown",
      "source": [
        "# Rook"
      ],
      "metadata": {
        "id": "zqQ-facGG5rX"
      }
    },
    {
      "cell_type": "code",
      "source": [
        "print(\"  ___  ___  ___\")\n",
        "print(\"  | |__| |__| |\")\n",
        "print(\"  |           |\")\n",
        "print(\"   \\_________/\")\n",
        "print(\"    \\_______/\")\n",
        "print(\"     |     |\")\n",
        "print(\"     |     |\")\n",
        "print(\"     |     |\")\n",
        "print(\"     |     |\")\n",
        "print(\"     |_____|\")\n",
        "print(\"  __/       \\__\")\n",
        "print(\" /             \\\\\")\n",
        "print(\"/_______________\\\\\")"
      ],
      "metadata": {
        "colab": {
          "base_uri": "https://localhost:8080/"
        },
        "id": "cXRCiPHZfLFx",
        "outputId": "d344e9ec-61ff-4ff3-d22f-636d3da80c71"
      },
      "execution_count": 5,
      "outputs": [
        {
          "output_type": "stream",
          "name": "stdout",
          "text": [
            "  ___  ___  ___\n",
            "  | |__| |__| |\n",
            "  |           |\n",
            "   \\_________/\n",
            "    \\_______/\n",
            "     |     |\n",
            "     |     |\n",
            "     |     |\n",
            "     |     |\n",
            "     |_____|\n",
            "  __/       \\__\n",
            " /             \\\n",
            "/_______________\\\n"
          ]
        }
      ]
    }
  ]
}