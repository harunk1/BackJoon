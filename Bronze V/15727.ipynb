{
  "nbformat": 4,
  "nbformat_minor": 0,
  "metadata": {
    "colab": {
      "provenance": [],
      "authorship_tag": "ABX9TyML1eND8llBxnM0Y/NSG6Tt",
      "include_colab_link": true
    },
    "kernelspec": {
      "name": "python3",
      "display_name": "Python 3"
    },
    "language_info": {
      "name": "python"
    }
  },
  "cells": [
    {
      "cell_type": "markdown",
      "metadata": {
        "id": "view-in-github",
        "colab_type": "text"
      },
      "source": [
        "<a href=\"https://colab.research.google.com/github/harunk1/BackJoon/blob/main/Bronze%20V/15727.ipynb\" target=\"_parent\"><img src=\"https://colab.research.google.com/assets/colab-badge.svg\" alt=\"Open In Colab\"/></a>"
      ]
    },
    {
      "cell_type": "markdown",
      "source": [
        "# 조별과제를 하려는데 조장이 사라졌다"
      ],
      "metadata": {
        "id": "zqQ-facGG5rX"
      }
    },
    {
      "cell_type": "code",
      "source": [
        "t= int(input())\n",
        "s=t//5\n",
        "if t%5!=0:\n",
        "  s+=1\n",
        "print(s)"
      ],
      "metadata": {
        "colab": {
          "base_uri": "https://localhost:8080/"
        },
        "id": "7_3S1mF-u6NR",
        "outputId": "5dff8f08-ed0b-43c8-b595-b3225264a3e1"
      },
      "execution_count": 9,
      "outputs": [
        {
          "output_type": "stream",
          "name": "stdout",
          "text": [
            "30\n",
            "6\n"
          ]
        }
      ]
    },
    {
      "cell_type": "markdown",
      "source": [
        "### 다른방법"
      ],
      "metadata": {
        "id": "b8qLoS8Iwyzy"
      }
    },
    {
      "cell_type": "code",
      "source": [
        "t= int(input())\n",
        "t-=1\n",
        "print(t//5+1)"
      ],
      "metadata": {
        "id": "aOToJ5phvyWh"
      },
      "execution_count": null,
      "outputs": []
    }
  ]
}