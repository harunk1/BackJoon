{
  "nbformat": 4,
  "nbformat_minor": 0,
  "metadata": {
    "colab": {
      "provenance": [],
      "authorship_tag": "ABX9TyOdd48lyS6VDzCPwKGqc27U",
      "include_colab_link": true
    },
    "kernelspec": {
      "name": "python3",
      "display_name": "Python 3"
    },
    "language_info": {
      "name": "python"
    }
  },
  "cells": [
    {
      "cell_type": "markdown",
      "metadata": {
        "id": "view-in-github",
        "colab_type": "text"
      },
      "source": [
        "<a href=\"https://colab.research.google.com/github/harunk1/BackJoon/blob/main/Bronze%20V/29731.ipynb\" target=\"_parent\"><img src=\"https://colab.research.google.com/assets/colab-badge.svg\" alt=\"Open In Colab\"/></a>"
      ]
    },
    {
      "cell_type": "markdown",
      "source": [
        "# 2033년 밈 투표"
      ],
      "metadata": {
        "id": "YC0PS6efBoP4"
      }
    },
    {
      "cell_type": "code",
      "source": [
        "n=int(input())\n",
        "a=[\"Never gonna give you up\",\"Never gonna let you down\",\"Never gonna run around and desert you\",\"Never gonna make you cry\",\"Never gonna say goodbye\",\"Never gonna tell a lie and hurt you\",\"Never gonna stop\"]\n",
        "c=0\n",
        "for _ in range(n):\n",
        "  b=input()\n",
        "  if b not in a:\n",
        "    c=+1\n",
        "    break\n",
        "if c>0:\n",
        "  print(\"Yes\")\n",
        "else :\n",
        "  print(\"No\")"
      ],
      "metadata": {
        "colab": {
          "base_uri": "https://localhost:8080/"
        },
        "id": "gSntba_TZcuZ",
        "outputId": "94b8279c-bda1-4c1d-f2d7-106a0a6935cb"
      },
      "execution_count": 19,
      "outputs": [
        {
          "output_type": "stream",
          "name": "stdout",
          "text": [
            "3\n",
            "Never gonna give you up\n",
            "Never gonna say goodbye\n",
            "Let you down\n",
            "Yes\n"
          ]
        }
      ]
    }
  ]
}