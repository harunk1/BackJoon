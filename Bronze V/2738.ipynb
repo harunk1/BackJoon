{
  "nbformat": 4,
  "nbformat_minor": 0,
  "metadata": {
    "colab": {
      "provenance": [],
      "authorship_tag": "ABX9TyNskXCqWDDckxLY8RpUake8",
      "include_colab_link": true
    },
    "kernelspec": {
      "name": "python3",
      "display_name": "Python 3"
    },
    "language_info": {
      "name": "python"
    }
  },
  "cells": [
    {
      "cell_type": "markdown",
      "metadata": {
        "id": "view-in-github",
        "colab_type": "text"
      },
      "source": [
        "<a href=\"https://colab.research.google.com/github/harunk1/BackJoon/blob/main/Bronze%20V/2738.ipynb\" target=\"_parent\"><img src=\"https://colab.research.google.com/assets/colab-badge.svg\" alt=\"Open In Colab\"/></a>"
      ]
    },
    {
      "cell_type": "markdown",
      "source": [
        "#행렬 덧셈"
      ],
      "metadata": {
        "id": "zqQ-facGG5rX"
      }
    },
    {
      "cell_type": "code",
      "source": [
        "N,M=map(int, input().split())\n",
        "a=[]\n",
        "b=[]\n",
        "c=[]\n",
        "for i in range(N):        \n",
        "    line = list(map(int,input().split()))\n",
        "    a.append(line)        \n",
        "for i in range(N): \n",
        "  line=[]           \n",
        "  line = list(map(int,input().split()))   \n",
        "  b.append(line)\n",
        "for i in range(N):\n",
        "  c=[]\n",
        "  for j in range(M):\n",
        "    c.append(a[i][j]+b[i][j])\n",
        "  print(*c)"
      ],
      "metadata": {
        "id": "n9ny3zc68uCe",
        "colab": {
          "base_uri": "https://localhost:8080/"
        },
        "outputId": "b7cf2025-bec2-49bb-e800-4c4c83057ab3"
      },
      "execution_count": 28,
      "outputs": [
        {
          "output_type": "stream",
          "name": "stdout",
          "text": [
            "3 3\n",
            "1 1 1\n",
            "2 2 2\n",
            "0 1 0\n",
            "3 3 3\n",
            "4 4 4\n",
            "5 5 100\n",
            "4 4 4\n",
            "6 6 6\n",
            "5 6 100\n"
          ]
        }
      ]
    }
  ]
}