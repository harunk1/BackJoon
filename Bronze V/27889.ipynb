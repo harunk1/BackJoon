{
  "nbformat": 4,
  "nbformat_minor": 0,
  "metadata": {
    "colab": {
      "provenance": [],
      "authorship_tag": "ABX9TyMaB2OKZ0EZ/e3hv608vr6l",
      "include_colab_link": true
    },
    "kernelspec": {
      "name": "python3",
      "display_name": "Python 3"
    },
    "language_info": {
      "name": "python"
    }
  },
  "cells": [
    {
      "cell_type": "markdown",
      "metadata": {
        "id": "view-in-github",
        "colab_type": "text"
      },
      "source": [
        "<a href=\"https://colab.research.google.com/github/harunk1/BackJoon/blob/main/Bronze%20V/27889.ipynb\" target=\"_parent\"><img src=\"https://colab.research.google.com/assets/colab-badge.svg\" alt=\"Open In Colab\"/></a>"
      ]
    },
    {
      "cell_type": "markdown",
      "source": [
        "# 특별한 학교 이름"
      ],
      "metadata": {
        "id": "zqQ-facGG5rX"
      }
    },
    {
      "cell_type": "code",
      "source": [
        "gec=[\"NLCS\",\"BHA\",\"KIS\",\"SJA\"]\n",
        "a=input()\n",
        "if a==gec[0]:\n",
        "  print(\"North London Collegiate School\")\n",
        "elif a==gec[1]:\n",
        "  print(\"Branksome Hall Asia\")\n",
        "elif a==gec[2]:\n",
        "  print(\"Korea International School\")\n",
        "elif a==gec[3]:\n",
        "  print(\"St. Johnsbury Academy\")"
      ],
      "metadata": {
        "colab": {
          "base_uri": "https://localhost:8080/"
        },
        "id": "FOQeOaLmG44q",
        "outputId": "f91c8c12-c356-4b67-a9d4-8a795919dd9b"
      },
      "execution_count": 9,
      "outputs": [
        {
          "output_type": "stream",
          "name": "stdout",
          "text": [
            "NLCS\n",
            "North London Collegiate School\n"
          ]
        }
      ]
    },
    {
      "cell_type": "markdown",
      "source": [
        "## 다른방법"
      ],
      "metadata": {
        "id": "0xn0NEXMb45V"
      }
    },
    {
      "cell_type": "code",
      "source": [
        "print({\"NLCS\":\"North London Collegiate School\",\"BHA\":\"Branksome Hall Asia\",\"KIS\":\"Korea International School\",\"SJA\":\"St. Johnsbury Academy\"}[input()])"
      ],
      "metadata": {
        "colab": {
          "base_uri": "https://localhost:8080/"
        },
        "id": "Y-KncglNbAvM",
        "outputId": "dc0e3d73-cdce-4f9e-dc17-2bd1f7cda795"
      },
      "execution_count": 8,
      "outputs": [
        {
          "output_type": "stream",
          "name": "stdout",
          "text": [
            "NLCS\n",
            "North London Collegiate School\n"
          ]
        }
      ]
    },
    {
      "cell_type": "code",
      "source": [
        "d = {\"NLCS\":\"North London Collegiate School\",\n",
        "\"BHA\":\"Branksome Hall Asia\",\n",
        "\"KIS\":\"Korea International School\",\n",
        "\"SJA\":\"St. Johnsbury Academy\"}\n",
        "print(d[input()])"
      ],
      "metadata": {
        "colab": {
          "base_uri": "https://localhost:8080/"
        },
        "id": "YaMEqHgJcMsa",
        "outputId": "33207589-e754-43b1-f275-d8a7add39232"
      },
      "execution_count": 10,
      "outputs": [
        {
          "output_type": "stream",
          "name": "stdout",
          "text": [
            "NLCS\n",
            "North London Collegiate School\n"
          ]
        }
      ]
    }
  ]
}