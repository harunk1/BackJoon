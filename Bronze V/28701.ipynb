{
  "nbformat": 4,
  "nbformat_minor": 0,
  "metadata": {
    "colab": {
      "provenance": [],
      "authorship_tag": "ABX9TyN7e4ENrwwL91aQeMCVNi2A",
      "include_colab_link": true
    },
    "kernelspec": {
      "name": "python3",
      "display_name": "Python 3"
    },
    "language_info": {
      "name": "python"
    }
  },
  "cells": [
    {
      "cell_type": "markdown",
      "metadata": {
        "id": "view-in-github",
        "colab_type": "text"
      },
      "source": [
        "<a href=\"https://colab.research.google.com/github/harunk1/BackJoon/blob/main/Bronze%20V/28701.ipynb\" target=\"_parent\"><img src=\"https://colab.research.google.com/assets/colab-badge.svg\" alt=\"Open In Colab\"/></a>"
      ]
    },
    {
      "cell_type": "markdown",
      "source": [
        "# 세제곱의 합"
      ],
      "metadata": {
        "id": "YC0PS6efBoP4"
      }
    },
    {
      "cell_type": "code",
      "source": [
        "N=int(input())\n",
        "a=0\n",
        "c=0\n",
        "for i in range(1,N+1):\n",
        "  a+=i\n",
        "b=a*a\n",
        "for j in range(1,N+1):\n",
        "  cl=j*j*j\n",
        "  c=c+cl\n",
        "print(a)\n",
        "print(b)\n",
        "print(c)"
      ],
      "metadata": {
        "colab": {
          "base_uri": "https://localhost:8080/"
        },
        "id": "8_JPip39ZP8d",
        "outputId": "f9fa1c50-3daf-4ca8-dc71-47eae1f8ffb3"
      },
      "execution_count": 8,
      "outputs": [
        {
          "output_type": "stream",
          "name": "stdout",
          "text": [
            "100\n",
            "5050\n",
            "25502500\n",
            "25502500\n"
          ]
        }
      ]
    },
    {
      "cell_type": "markdown",
      "source": [
        "## 꼼수"
      ],
      "metadata": {
        "id": "kIwi0FbwZ5NV"
      }
    },
    {
      "cell_type": "code",
      "execution_count": 7,
      "metadata": {
        "colab": {
          "base_uri": "https://localhost:8080/"
        },
        "id": "irDVLLb8BbUL",
        "outputId": "b8d5f68b-f7be-40b0-9a4c-838772d540a3"
      },
      "outputs": [
        {
          "output_type": "stream",
          "name": "stdout",
          "text": [
            "100\n",
            "5050\n",
            "25502500\n",
            "25502500\n"
          ]
        }
      ],
      "source": [
        "N=int(input())\n",
        "a=0\n",
        "for i in range(1,N+1):\n",
        "  a+=i\n",
        "b=a*a\n",
        "c=b\n",
        "print(a)\n",
        "print(b)\n",
        "print(c)"
      ]
    }
  ]
}