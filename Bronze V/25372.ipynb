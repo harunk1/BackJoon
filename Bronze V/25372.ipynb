{
  "nbformat": 4,
  "nbformat_minor": 0,
  "metadata": {
    "colab": {
      "provenance": [],
      "authorship_tag": "ABX9TyPpkersj822zZFRUEVVl8AB",
      "include_colab_link": true
    },
    "kernelspec": {
      "name": "python3",
      "display_name": "Python 3"
    },
    "language_info": {
      "name": "python"
    }
  },
  "cells": [
    {
      "cell_type": "markdown",
      "metadata": {
        "id": "view-in-github",
        "colab_type": "text"
      },
      "source": [
        "<a href=\"https://colab.research.google.com/github/harunk1/BackJoon/blob/main/Bronze%20V/25372.ipynb\" target=\"_parent\"><img src=\"https://colab.research.google.com/assets/colab-badge.svg\" alt=\"Open In Colab\"/></a>"
      ]
    },
    {
      "cell_type": "markdown",
      "source": [
        "# 성택이의 은밀한 비밀번호"
      ],
      "metadata": {
        "id": "zqQ-facGG5rX"
      }
    },
    {
      "cell_type": "code",
      "source": [
        "n=int(input())\n",
        "for i in range(n):\n",
        "  a=input()\n",
        "  if len(a)>=6 and len(a)<=9:\n",
        "    print(\"yes\")\n",
        "  else:\n",
        "    print(\"no\")\n"
      ],
      "metadata": {
        "colab": {
          "base_uri": "https://localhost:8080/"
        },
        "id": "xfE47SxM1FH3",
        "outputId": "6a47c643-a6a7-425f-fe8e-cc258d3e3a66"
      },
      "execution_count": 5,
      "outputs": [
        {
          "output_type": "stream",
          "name": "stdout",
          "text": [
            "3\n",
            "1245125\n",
            "yes\n",
            "asdij\n",
            "no\n",
            "120318739721\n",
            "no\n"
          ]
        }
      ]
    }
  ]
}