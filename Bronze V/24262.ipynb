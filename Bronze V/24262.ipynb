{
  "nbformat": 4,
  "nbformat_minor": 0,
  "metadata": {
    "colab": {
      "provenance": [],
      "authorship_tag": "ABX9TyPBSawFYoe2WB0dpDQd4Kf8",
      "include_colab_link": true
    },
    "kernelspec": {
      "name": "python3",
      "display_name": "Python 3"
    },
    "language_info": {
      "name": "python"
    }
  },
  "cells": [
    {
      "cell_type": "markdown",
      "metadata": {
        "id": "view-in-github",
        "colab_type": "text"
      },
      "source": [
        "<a href=\"https://colab.research.google.com/github/harunk1/BackJoon/blob/main/Bronze%20V/24262.ipynb\" target=\"_parent\"><img src=\"https://colab.research.google.com/assets/colab-badge.svg\" alt=\"Open In Colab\"/></a>"
      ]
    },
    {
      "cell_type": "markdown",
      "source": [
        "# 알고리즘 수업 - 알고리즘의 수행 시간 1\n"
      ],
      "metadata": {
        "id": "zqQ-facGG5rX"
      }
    },
    {
      "cell_type": "code",
      "source": [
        "print(1)\n",
        "print(0)"
      ],
      "metadata": {
        "colab": {
          "base_uri": "https://localhost:8080/"
        },
        "id": "Xhsyek8GhgZC",
        "outputId": "e25eb921-819f-4dfb-cb11-66e274924215"
      },
      "execution_count": 4,
      "outputs": [
        {
          "output_type": "stream",
          "name": "stdout",
          "text": [
            "1\n",
            "0\n"
          ]
        }
      ]
    },
    {
      "cell_type": "markdown",
      "source": [
        "##다른방법"
      ],
      "metadata": {
        "id": "mmRSAdxch0Ha"
      }
    },
    {
      "cell_type": "code",
      "source": [
        "print(\"\"\"1\n",
        "0\"\"\")"
      ],
      "metadata": {
        "colab": {
          "base_uri": "https://localhost:8080/"
        },
        "id": "1jdszPBBRgoJ",
        "outputId": "6f26f320-eed4-46b5-c17b-b6e51aefeb50"
      },
      "execution_count": 2,
      "outputs": [
        {
          "output_type": "stream",
          "name": "stdout",
          "text": [
            "1\n",
            "0\n"
          ]
        }
      ]
    }
  ]
}