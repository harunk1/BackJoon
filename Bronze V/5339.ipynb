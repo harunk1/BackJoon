{
  "nbformat": 4,
  "nbformat_minor": 0,
  "metadata": {
    "colab": {
      "provenance": [],
      "authorship_tag": "ABX9TyOlMtJTO79D8SA1SMhj7poQ",
      "include_colab_link": true
    },
    "kernelspec": {
      "name": "python3",
      "display_name": "Python 3"
    },
    "language_info": {
      "name": "python"
    }
  },
  "cells": [
    {
      "cell_type": "markdown",
      "metadata": {
        "id": "view-in-github",
        "colab_type": "text"
      },
      "source": [
        "<a href=\"https://colab.research.google.com/github/harunk1/BackJoon/blob/main/Bronze%20V/5339.ipynb\" target=\"_parent\"><img src=\"https://colab.research.google.com/assets/colab-badge.svg\" alt=\"Open In Colab\"/></a>"
      ]
    },
    {
      "cell_type": "markdown",
      "source": [
        "#콜센터"
      ],
      "metadata": {
        "id": "zqQ-facGG5rX"
      }
    },
    {
      "cell_type": "code",
      "source": [
        "print(\"     /~\\\\\")\n",
        "print(\"    ( oo|\")\n",
        "print(\"    _\\=/_\")\n",
        "print(\"   /  _  \\\\\")\n",
        "print(\"  //|/.\\|\\\\\\\\\")\n",
        "print(\" ||  \\ /  ||\")\n",
        "print(\"============\")\n",
        "print(\"|          |\")\n",
        "print(\"|          |\")\n",
        "print(\"|          |\")"
      ],
      "metadata": {
        "colab": {
          "base_uri": "https://localhost:8080/"
        },
        "id": "-eIjfnknc0AP",
        "outputId": "91fcb5d8-7eeb-4245-eae0-35be3aadac45"
      },
      "execution_count": 6,
      "outputs": [
        {
          "output_type": "stream",
          "name": "stdout",
          "text": [
            "     /~\\\n",
            "    ( oo|\n",
            "    _\\=/_\n",
            "   /  _  \\\n",
            "  //|/.\\|\\\\\n",
            " ||  \\ /  ||\n",
            "============\n",
            "|          |\n",
            "|          |\n",
            "|          |\n"
          ]
        }
      ]
    }
  ]
}