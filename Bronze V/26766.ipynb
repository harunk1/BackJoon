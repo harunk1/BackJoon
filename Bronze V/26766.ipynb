{
  "nbformat": 4,
  "nbformat_minor": 0,
  "metadata": {
    "colab": {
      "provenance": [],
      "authorship_tag": "ABX9TyO3N8Z7Hz4TQIjO8zXLKzwG",
      "include_colab_link": true
    },
    "kernelspec": {
      "name": "python3",
      "display_name": "Python 3"
    },
    "language_info": {
      "name": "python"
    }
  },
  "cells": [
    {
      "cell_type": "markdown",
      "metadata": {
        "id": "view-in-github",
        "colab_type": "text"
      },
      "source": [
        "<a href=\"https://colab.research.google.com/github/harunk1/BackJoon/blob/main/Bronze%20V/26766.ipynb\" target=\"_parent\"><img src=\"https://colab.research.google.com/assets/colab-badge.svg\" alt=\"Open In Colab\"/></a>"
      ]
    },
    {
      "cell_type": "markdown",
      "source": [
        "# Serca"
      ],
      "metadata": {
        "id": "zqQ-facGG5rX"
      }
    },
    {
      "cell_type": "code",
      "source": [
        "n=int(input())\n",
        "for _ in range(n):\n",
        "  print(\" @@@   @@@ \\n\" +\n",
        "                    \"@   @ @   @\\n\" +\n",
        "                    \"@    @    @\\n\" +\n",
        "                    \"@         @\\n\" +\n",
        "                    \" @       @ \\n\" +\n",
        "                    \"  @     @  \\n\" +\n",
        "                    \"   @   @   \\n\" +\n",
        "                    \"    @ @    \\n\" +\n",
        "                    \"     @     \")"
      ],
      "metadata": {
        "colab": {
          "base_uri": "https://localhost:8080/"
        },
        "id": "FOQeOaLmG44q",
        "outputId": "51bc3a06-a0c4-49a4-bef3-2f1a5672f759"
      },
      "execution_count": 16,
      "outputs": [
        {
          "output_type": "stream",
          "name": "stdout",
          "text": [
            "2\n",
            " @@@   @@@ \n",
            "@   @ @   @\n",
            "@    @    @\n",
            "@         @\n",
            " @       @ \n",
            "  @     @  \n",
            "   @   @   \n",
            "    @ @    \n",
            "     @     \n",
            " @@@   @@@ \n",
            "@   @ @   @\n",
            "@    @    @\n",
            "@         @\n",
            " @       @ \n",
            "  @     @  \n",
            "   @   @   \n",
            "    @ @    \n",
            "     @     \n"
          ]
        }
      ]
    },
    {
      "cell_type": "markdown",
      "source": [
        "## 다른 방법"
      ],
      "metadata": {
        "id": "A-IiLVJKx5AK"
      }
    },
    {
      "cell_type": "code",
      "source": [
        "print(\"\"\" @@@   @@@\n",
        "@   @ @   @\n",
        "@    @    @\n",
        "@         @\n",
        " @       @\n",
        "  @     @\n",
        "   @   @\n",
        "    @ @\n",
        "     @\n",
        "\"\"\"*int(input()))"
      ],
      "metadata": {
        "colab": {
          "base_uri": "https://localhost:8080/"
        },
        "id": "sb5Kaqphx6yK",
        "outputId": "835c8893-d0b8-4941-9de6-fa68061bfdd5"
      },
      "execution_count": 17,
      "outputs": [
        {
          "output_type": "stream",
          "name": "stdout",
          "text": [
            "2\n",
            " @@@   @@@ \n",
            "@   @ @   @\n",
            "@    @    @\n",
            "@         @\n",
            " @       @ \n",
            "  @     @  \n",
            "   @   @   \n",
            "    @ @    \n",
            "     @     \n",
            " @@@   @@@ \n",
            "@   @ @   @\n",
            "@    @    @\n",
            "@         @\n",
            " @       @ \n",
            "  @     @  \n",
            "   @   @   \n",
            "    @ @    \n",
            "     @     \n",
            "\n"
          ]
        }
      ]
    }
  ]
}