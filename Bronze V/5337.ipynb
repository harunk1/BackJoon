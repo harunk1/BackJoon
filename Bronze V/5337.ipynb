{
  "nbformat": 4,
  "nbformat_minor": 0,
  "metadata": {
    "colab": {
      "provenance": [],
      "authorship_tag": "ABX9TyOAhagsywkeoAWISJlfGuuA",
      "include_colab_link": true
    },
    "kernelspec": {
      "name": "python3",
      "display_name": "Python 3"
    },
    "language_info": {
      "name": "python"
    }
  },
  "cells": [
    {
      "cell_type": "markdown",
      "metadata": {
        "id": "view-in-github",
        "colab_type": "text"
      },
      "source": [
        "<a href=\"https://colab.research.google.com/github/harunk1/BackJoon/blob/main/Bronze%20V/5337.ipynb\" target=\"_parent\"><img src=\"https://colab.research.google.com/assets/colab-badge.svg\" alt=\"Open In Colab\"/></a>"
      ]
    },
    {
      "cell_type": "markdown",
      "source": [
        "#웰컴"
      ],
      "metadata": {
        "id": "zqQ-facGG5rX"
      }
    },
    {
      "cell_type": "code",
      "source": [
        "print(\".  .   .\")\n",
        "print(\"|  | _ | _. _ ._ _  _\")\n",
        "print(\"|/\\|(/.|(_.(_)[ | )(/.\")"
      ],
      "metadata": {
        "id": "bWSopKHXRRxH",
        "colab": {
          "base_uri": "https://localhost:8080/"
        },
        "outputId": "25d4d8ce-3c16-46a9-ae9f-ce7e8057dd6f"
      },
      "execution_count": 4,
      "outputs": [
        {
          "output_type": "stream",
          "name": "stdout",
          "text": [
            ".  .   .\n",
            "|  | _ | _. _ ._ _  _\n",
            "|/\\|(/.|(_.(_)[ | )(/.\n"
          ]
        }
      ]
    }
  ]
}