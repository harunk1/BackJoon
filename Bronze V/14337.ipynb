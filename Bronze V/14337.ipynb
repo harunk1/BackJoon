{
  "nbformat": 4,
  "nbformat_minor": 0,
  "metadata": {
    "colab": {
      "provenance": [],
      "authorship_tag": "ABX9TyN2mgJC+7+mczPsJbjtbkie",
      "include_colab_link": true
    },
    "kernelspec": {
      "name": "python3",
      "display_name": "Python 3"
    },
    "language_info": {
      "name": "python"
    }
  },
  "cells": [
    {
      "cell_type": "markdown",
      "metadata": {
        "id": "view-in-github",
        "colab_type": "text"
      },
      "source": [
        "<a href=\"https://colab.research.google.com/github/harunk1/BackJoon/blob/main/Bronze%20V/14337.ipynb\" target=\"_parent\"><img src=\"https://colab.research.google.com/assets/colab-badge.svg\" alt=\"Open In Colab\"/></a>"
      ]
    },
    {
      "cell_type": "markdown",
      "source": [
        "# Helicopter\n",
        "## Visual Basic 언어 사용"
      ],
      "metadata": {
        "id": "zqQ-facGG5rX"
      }
    },
    {
      "cell_type": "code",
      "source": [
        "Module Main\n",
        " \n",
        "  Sub Main()\n",
        "    Console.WriteLine(\"      ===================\")\n",
        "    Console.WriteLine(\"          ____||___\")\n",
        "    Console.WriteLine(\"\\ /      /       []\\\")\n",
        "    Console.WriteLine(\" X=======           \\__\")\n",
        "    Console.WriteLine(\"/ \\      \\____________|\")\n",
        "    Console.WriteLine(\"            ||  ||\")\n",
        "    Console.WriteLine(\"         \\-----------/\")\n",
        "  \n",
        "  End Sub\n",
        " \n",
        "End Module"
      ],
      "metadata": {
        "id": "u2-imEFLrr2Q"
      },
      "execution_count": null,
      "outputs": []
    },
    {
      "cell_type": "code",
      "source": [
        "#파이썬\n",
        "print(\"      ===================\")\n",
        "print(\"          ____||___\")\n",
        "print(\"\\ /      /       []\\\\\")\n",
        "print(\" X=======           \\__\")\n",
        "print(\"/ \\      \\____________|\")\n",
        "print(\"            ||  ||\")\n",
        "print(\"         \\-----------/\")"
      ],
      "metadata": {
        "colab": {
          "base_uri": "https://localhost:8080/"
        },
        "id": "J7XuiCq2nrm6",
        "outputId": "4d752a42-1278-4168-dfa2-4610e06ae565"
      },
      "execution_count": 3,
      "outputs": [
        {
          "output_type": "stream",
          "name": "stdout",
          "text": [
            "      ===================\n",
            "          ____||___\n",
            "\\ /      /       []\\\n",
            " X=======           \\__\n",
            "/ \\      \\____________|\n",
            "            ||  ||\n",
            "         \\-----------/\n"
          ]
        }
      ]
    }
  ]
}