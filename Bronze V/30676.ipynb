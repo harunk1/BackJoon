{
  "nbformat": 4,
  "nbformat_minor": 0,
  "metadata": {
    "colab": {
      "provenance": [],
      "authorship_tag": "ABX9TyOaFMyRUKGrUPETUZQP0gkG",
      "include_colab_link": true
    },
    "kernelspec": {
      "name": "python3",
      "display_name": "Python 3"
    },
    "language_info": {
      "name": "python"
    }
  },
  "cells": [
    {
      "cell_type": "markdown",
      "metadata": {
        "id": "view-in-github",
        "colab_type": "text"
      },
      "source": [
        "<a href=\"https://colab.research.google.com/github/harunk1/BackJoon/blob/main/Bronze%20V/30676.ipynb\" target=\"_parent\"><img src=\"https://colab.research.google.com/assets/colab-badge.svg\" alt=\"Open In Colab\"/></a>"
      ]
    },
    {
      "cell_type": "markdown",
      "source": [
        "# 이 별은 무슨 색일까"
      ],
      "metadata": {
        "id": "YC0PS6efBoP4"
      }
    },
    {
      "cell_type": "code",
      "source": [
        "n=int(input())\n",
        "if 780>=n>=620:\n",
        "  print(\"Red\")\n",
        "elif 620>n>=590:\n",
        "  print(\"Orange\")\n",
        "elif 590>n>=570:\n",
        "  print(\"Yellow\")\n",
        "elif 570>n>=495:\n",
        "  print(\"Green\")\n",
        "elif 495>n>=450:\n",
        "  print(\"Blue\")\n",
        "elif 450>n>=425:\n",
        "  print(\"Indigo\")\n",
        "elif 425>n>=380:\n",
        "  print(\"Violet\")"
      ],
      "metadata": {
        "colab": {
          "base_uri": "https://localhost:8080/"
        },
        "id": "gSntba_TZcuZ",
        "outputId": "78709573-b93b-4b5c-abe9-90863317a2ea"
      },
      "execution_count": 1,
      "outputs": [
        {
          "output_type": "stream",
          "name": "stdout",
          "text": [
            "620\n",
            "Red\n"
          ]
        }
      ]
    },
    {
      "cell_type": "markdown",
      "source": [
        "## 다른방법"
      ],
      "metadata": {
        "id": "As2gebFy7W_x"
      }
    },
    {
      "cell_type": "code",
      "source": [
        "n=int(input())\n",
        "print('VIBGYORinlrereodueladlieeln eg nog to  we'[sum(i<n//5for i in b'TYbqu{')::7])"
      ],
      "metadata": {
        "colab": {
          "base_uri": "https://localhost:8080/"
        },
        "id": "RYlfLMRT7UGK",
        "outputId": "e831f133-65c8-43f9-fe5f-c3241bc3aea0"
      },
      "execution_count": 2,
      "outputs": [
        {
          "output_type": "stream",
          "name": "stdout",
          "text": [
            "620\n",
            "Red  \n"
          ]
        }
      ]
    }
  ]
}