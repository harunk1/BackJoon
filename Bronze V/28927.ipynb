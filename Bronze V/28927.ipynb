{
  "nbformat": 4,
  "nbformat_minor": 0,
  "metadata": {
    "colab": {
      "provenance": [],
      "authorship_tag": "ABX9TyPfc17HqySx00IsgMgoT79o",
      "include_colab_link": true
    },
    "kernelspec": {
      "name": "python3",
      "display_name": "Python 3"
    },
    "language_info": {
      "name": "python"
    }
  },
  "cells": [
    {
      "cell_type": "markdown",
      "metadata": {
        "id": "view-in-github",
        "colab_type": "text"
      },
      "source": [
        "<a href=\"https://colab.research.google.com/github/harunk1/BackJoon/blob/main/Bronze%20V/28927.ipynb\" target=\"_parent\"><img src=\"https://colab.research.google.com/assets/colab-badge.svg\" alt=\"Open In Colab\"/></a>"
      ]
    },
    {
      "cell_type": "markdown",
      "source": [
        "# Киноманы"
      ],
      "metadata": {
        "id": "YC0PS6efBoP4"
      }
    },
    {
      "cell_type": "code",
      "source": [
        "t1,e1,f1=map(int,input().split())\n",
        "t2,e2,f2=map(int,input().split())\n",
        "max=t1*3+e1*20+f1*120\n",
        "mel=t2*3+e2*20+f2*120\n",
        "if max>mel:\n",
        "  print(\"Max\")\n",
        "elif max<mel:\n",
        "  print(\"Mel\")\n",
        "elif max==mel:\n",
        "  print(\"Draw\")"
      ],
      "metadata": {
        "colab": {
          "base_uri": "https://localhost:8080/"
        },
        "id": "8_JPip39ZP8d",
        "outputId": "0aefdf10-4e3d-4b53-fc30-af179b0393cc"
      },
      "execution_count": 1,
      "outputs": [
        {
          "output_type": "stream",
          "name": "stdout",
          "text": [
            "15 1 3\n",
            "1 3 3\n",
            "Max\n"
          ]
        }
      ]
    }
  ]
}