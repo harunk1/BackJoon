{
  "nbformat": 4,
  "nbformat_minor": 0,
  "metadata": {
    "colab": {
      "provenance": [],
      "authorship_tag": "ABX9TyP7gB4bJ4fDXxOzb8SYMSC7",
      "include_colab_link": true
    },
    "kernelspec": {
      "name": "python3",
      "display_name": "Python 3"
    },
    "language_info": {
      "name": "python"
    }
  },
  "cells": [
    {
      "cell_type": "markdown",
      "metadata": {
        "id": "view-in-github",
        "colab_type": "text"
      },
      "source": [
        "<a href=\"https://colab.research.google.com/github/harunk1/BackJoon/blob/main/Bronze%20V/27433.ipynb\" target=\"_parent\"><img src=\"https://colab.research.google.com/assets/colab-badge.svg\" alt=\"Open In Colab\"/></a>"
      ]
    },
    {
      "cell_type": "markdown",
      "source": [
        "# 팩토리얼 2"
      ],
      "metadata": {
        "id": "zqQ-facGG5rX"
      }
    },
    {
      "cell_type": "code",
      "source": [
        "import math\n",
        "N= int(input())\n",
        "print(math.factorial(N))"
      ],
      "metadata": {
        "colab": {
          "base_uri": "https://localhost:8080/"
        },
        "id": "FOQeOaLmG44q",
        "outputId": "a32a2001-1a89-40f1-a5c1-fb74447915db"
      },
      "execution_count": 4,
      "outputs": [
        {
          "output_type": "stream",
          "name": "stdout",
          "text": [
            "10\n",
            "3628800\n"
          ]
        }
      ]
    },
    {
      "cell_type": "markdown",
      "source": [
        "##다른방법"
      ],
      "metadata": {
        "id": "Q6DTiA10KA1A"
      }
    },
    {
      "cell_type": "code",
      "source": [
        "a = int(input(\"팩토리얼을 구할 숫자를 입력하세요 : \"))\n",
        "result = 1\n",
        "for item in range(1, a+1, 1):\n",
        "    result *= item      #result = result * item\n",
        "print(result)"
      ],
      "metadata": {
        "colab": {
          "base_uri": "https://localhost:8080/"
        },
        "id": "7L-vPEKEJXwO",
        "outputId": "aa57a876-de8f-41be-c8bb-a391d0566596"
      },
      "execution_count": 2,
      "outputs": [
        {
          "output_type": "stream",
          "name": "stdout",
          "text": [
            "팩토리얼을 구할 숫자를 입력하세요 : 10\n",
            "3628800\n"
          ]
        }
      ]
    }
  ]
}