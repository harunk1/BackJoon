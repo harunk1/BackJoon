{
  "nbformat": 4,
  "nbformat_minor": 0,
  "metadata": {
    "colab": {
      "provenance": [],
      "authorship_tag": "ABX9TyOHVhKKQei2lUlTKLuC50/B",
      "include_colab_link": true
    },
    "kernelspec": {
      "name": "python3",
      "display_name": "Python 3"
    },
    "language_info": {
      "name": "python"
    }
  },
  "cells": [
    {
      "cell_type": "markdown",
      "metadata": {
        "id": "view-in-github",
        "colab_type": "text"
      },
      "source": [
        "<a href=\"https://colab.research.google.com/github/harunk1/BackJoon/blob/main/Bronze%20V/30214.ipynb\" target=\"_parent\"><img src=\"https://colab.research.google.com/assets/colab-badge.svg\" alt=\"Open In Colab\"/></a>"
      ]
    },
    {
      "cell_type": "markdown",
      "source": [
        "# An Easy-Peasy Problem"
      ],
      "metadata": {
        "id": "YC0PS6efBoP4"
      }
    },
    {
      "cell_type": "code",
      "source": [
        "s1,s2=map(int,input().split())\n",
        "a=s2/2\n",
        "if s1>=a:\n",
        "  print(\"E\")\n",
        "else:\n",
        "  print(\"H\")"
      ],
      "metadata": {
        "colab": {
          "base_uri": "https://localhost:8080/"
        },
        "id": "gSntba_TZcuZ",
        "outputId": "cded1b75-2d5b-47c8-cb4c-7e8ce11eeb4e"
      },
      "execution_count": 9,
      "outputs": [
        {
          "output_type": "stream",
          "name": "stdout",
          "text": [
            "6 13\n",
            "H\n"
          ]
        }
      ]
    }
  ]
}