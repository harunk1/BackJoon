{
  "nbformat": 4,
  "nbformat_minor": 0,
  "metadata": {
    "colab": {
      "provenance": [],
      "authorship_tag": "ABX9TyM58SEGddO9nbJRUNeovvDE",
      "include_colab_link": true
    },
    "kernelspec": {
      "name": "python3",
      "display_name": "Python 3"
    },
    "language_info": {
      "name": "python"
    }
  },
  "cells": [
    {
      "cell_type": "markdown",
      "metadata": {
        "id": "view-in-github",
        "colab_type": "text"
      },
      "source": [
        "<a href=\"https://colab.research.google.com/github/harunk1/BackJoon/blob/main/%EB%8B%A8%EA%B3%84%EB%B3%84%EB%A1%9C%20%ED%92%80%EA%B8%B0/%EB%AC%B8%EC%9E%90%EC%97%B4.ipynb\" target=\"_parent\"><img src=\"https://colab.research.google.com/assets/colab-badge.svg\" alt=\"Open In Colab\"/></a>"
      ]
    },
    {
      "cell_type": "markdown",
      "source": [
        "##아스키 코드"
      ],
      "metadata": {
        "id": "2ZCLdL7Mz_O0"
      }
    },
    {
      "cell_type": "code",
      "execution_count": 4,
      "metadata": {
        "colab": {
          "base_uri": "https://localhost:8080/"
        },
        "id": "9t6o3XCaz21z",
        "outputId": "60a72ab0-bb5d-4571-dd80-b03c6b74a51e"
      },
      "outputs": [
        {
          "output_type": "stream",
          "name": "stdout",
          "text": [
            "A\n",
            "65\n"
          ]
        }
      ],
      "source": [
        "i=input()\n",
        "print(ord(i))"
      ]
    },
    {
      "cell_type": "markdown",
      "source": [
        "##단어 길이 재기"
      ],
      "metadata": {
        "id": "UN3Esf850mwS"
      }
    },
    {
      "cell_type": "code",
      "source": [
        "N=input()\n",
        "print(len(N))"
      ],
      "metadata": {
        "colab": {
          "base_uri": "https://localhost:8080/"
        },
        "id": "JkPuXuP50G_0",
        "outputId": "46805867-da49-4a4d-80ed-792da558234a"
      },
      "execution_count": 5,
      "outputs": [
        {
          "output_type": "stream",
          "name": "stdout",
          "text": [
            "adfscvcvsd\n",
            "10\n"
          ]
        }
      ]
    },
    {
      "cell_type": "code",
      "source": [],
      "metadata": {
        "id": "xMS48ZJ50r8T"
      },
      "execution_count": null,
      "outputs": []
    }
  ]
}