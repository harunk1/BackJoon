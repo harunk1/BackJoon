{
  "nbformat": 4,
  "nbformat_minor": 0,
  "metadata": {
    "colab": {
      "provenance": [],
      "authorship_tag": "ABX9TyMSZ3ewiwouRNWooIluUOqz",
      "include_colab_link": true
    },
    "kernelspec": {
      "name": "python3",
      "display_name": "Python 3"
    },
    "language_info": {
      "name": "python"
    }
  },
  "cells": [
    {
      "cell_type": "markdown",
      "metadata": {
        "id": "view-in-github",
        "colab_type": "text"
      },
      "source": [
        "<a href=\"https://colab.research.google.com/github/harunk1/BackJoon/blob/main/%EB%8B%A8%EA%B3%84%EB%B3%84%EB%A1%9C%20%ED%92%80%EA%B8%B0/%EB%AC%B8%EC%9E%90%EC%97%B4.ipynb\" target=\"_parent\"><img src=\"https://colab.research.google.com/assets/colab-badge.svg\" alt=\"Open In Colab\"/></a>"
      ]
    },
    {
      "cell_type": "markdown",
      "source": [
        "##아스키 코드"
      ],
      "metadata": {
        "id": "2ZCLdL7Mz_O0"
      }
    },
    {
      "cell_type": "code",
      "execution_count": null,
      "metadata": {
        "colab": {
          "base_uri": "https://localhost:8080/"
        },
        "id": "9t6o3XCaz21z",
        "outputId": "60a72ab0-bb5d-4571-dd80-b03c6b74a51e"
      },
      "outputs": [
        {
          "output_type": "stream",
          "name": "stdout",
          "text": [
            "A\n",
            "65\n"
          ]
        }
      ],
      "source": [
        "i=input()\n",
        "print(ord(i))"
      ]
    },
    {
      "cell_type": "markdown",
      "source": [
        "##단어 길이 재기"
      ],
      "metadata": {
        "id": "UN3Esf850mwS"
      }
    },
    {
      "cell_type": "code",
      "source": [
        "N=input()\n",
        "print(len(N))"
      ],
      "metadata": {
        "colab": {
          "base_uri": "https://localhost:8080/"
        },
        "id": "JkPuXuP50G_0",
        "outputId": "46805867-da49-4a4d-80ed-792da558234a"
      },
      "execution_count": null,
      "outputs": [
        {
          "output_type": "stream",
          "name": "stdout",
          "text": [
            "adfscvcvsd\n",
            "10\n"
          ]
        }
      ]
    },
    {
      "cell_type": "markdown",
      "source": [
        "##문자열"
      ],
      "metadata": {
        "id": "68DKpMbpCUD1"
      }
    },
    {
      "cell_type": "code",
      "source": [
        "N=int(input())\n",
        "for i in range(N):\n",
        "  T=list(input())\n",
        "  print(T[0]+T[0-1])"
      ],
      "metadata": {
        "id": "xMS48ZJ50r8T",
        "colab": {
          "base_uri": "https://localhost:8080/"
        },
        "outputId": "1f0818a5-7a9d-49bd-ae54-168ee3c9a620"
      },
      "execution_count": null,
      "outputs": [
        {
          "output_type": "stream",
          "name": "stdout",
          "text": [
            "3\n",
            "ACDKJFOWIEGHE\n",
            "AE\n",
            "O\n",
            "OO\n",
            "AB\n",
            "AB\n"
          ]
        }
      ]
    },
    {
      "cell_type": "markdown",
      "source": [
        "##숫자의 합"
      ],
      "metadata": {
        "id": "nDwhsLr4-x28"
      }
    },
    {
      "cell_type": "code",
      "source": [
        "N=int(input())\n",
        "n=list(map(int,input()))\n",
        "print(sum(n))"
      ],
      "metadata": {
        "id": "U-bPTvqVD1Wb",
        "colab": {
          "base_uri": "https://localhost:8080/"
        },
        "outputId": "8d3d7363-2cfe-4dd9-cbc9-ce42aa63ff1b"
      },
      "execution_count": null,
      "outputs": [
        {
          "output_type": "stream",
          "name": "stdout",
          "text": [
            "5\n",
            "54321\n",
            "15\n"
          ]
        }
      ]
    },
    {
      "cell_type": "markdown",
      "source": [
        "###다른방법"
      ],
      "metadata": {
        "id": "4NJTre2uCnHE"
      }
    },
    {
      "cell_type": "code",
      "source": [
        "x = int(input())\n",
        "\n",
        "z = [0] * x\n",
        "\n",
        "y = list(input())\n",
        "\n",
        "for i in range(x): \n",
        "\n",
        "  z[i] = y[i]\n",
        "\n",
        "z_int = list(map(int,z))\n",
        "\n",
        "print(sum(z_int))"
      ],
      "metadata": {
        "colab": {
          "base_uri": "https://localhost:8080/"
        },
        "id": "UhbbUFrk_yB8",
        "outputId": "f2a24f00-0437-471e-e7da-5e2aabd4a759"
      },
      "execution_count": null,
      "outputs": [
        {
          "name": "stdout",
          "output_type": "stream",
          "text": [
            "5\n",
            "54321\n"
          ]
        },
        {
          "output_type": "execute_result",
          "data": {
            "text/plain": [
              "15"
            ]
          },
          "metadata": {},
          "execution_count": 25
        }
      ]
    },
    {
      "cell_type": "markdown",
      "source": [
        "##알파벳 찾기"
      ],
      "metadata": {
        "id": "JAs_BfP6o9sq"
      }
    },
    {
      "cell_type": "code",
      "source": [
        "S=input()\n",
        "for i in range(97,123):\n",
        "  for a in range(len(S)):\n",
        "    if S[a]==chr(i):\n",
        "      print(S.find(chr(i)), end=\" \")\n",
        "      break\n",
        "  if S.find(chr(i))==-1:\n",
        "    print(-1, end=\" \")"
      ],
      "metadata": {
        "colab": {
          "base_uri": "https://localhost:8080/"
        },
        "id": "sO1uQmRyo_aZ",
        "outputId": "04422135-34ba-4b06-d749-77c1b0754c26"
      },
      "execution_count": null,
      "outputs": [
        {
          "output_type": "stream",
          "name": "stdout",
          "text": [
            "baekjoon\n",
            "1 0 -1 -1 2 -1 -1 -1 -1 4 3 -1 -1 7 5 -1 -1 -1 -1 -1 -1 -1 -1 -1 -1 -1 "
          ]
        }
      ]
    },
    {
      "cell_type": "markdown",
      "source": [
        "###다른 방법"
      ],
      "metadata": {
        "id": "M6DdC9Cs71Qd"
      }
    },
    {
      "cell_type": "code",
      "source": [
        "S = input()\n",
        "arr = list(range(97, 123))\n",
        "\n",
        "for i in arr:\n",
        "    print(S.find(chr(i)), end=\" \")"
      ],
      "metadata": {
        "colab": {
          "base_uri": "https://localhost:8080/"
        },
        "id": "S5X4iRaG4CXu",
        "outputId": "9b783a97-1ed3-496c-ff90-31ebeb1bac44"
      },
      "execution_count": null,
      "outputs": [
        {
          "output_type": "stream",
          "name": "stdout",
          "text": [
            "baekjoon\n",
            "1 0 -1 -1 2 -1 -1 -1 -1 4 3 -1 -1 7 5 -1 -1 -1 -1 -1 -1 -1 -1 -1 -1 -1 "
          ]
        }
      ]
    },
    {
      "cell_type": "markdown",
      "source": [
        "##문자열 반복"
      ],
      "metadata": {
        "id": "jMwSHia5hY-F"
      }
    },
    {
      "cell_type": "code",
      "source": [
        "T=int(input())\n",
        "for _ in range(T):\n",
        "  R,S=map(str, input().split())\n",
        "  P=[]\n",
        "  for i in range(len(S)):\n",
        "    P.append(S[i]*int(R))\n",
        "  p=''.join(P)\n",
        "  print(p)"
      ],
      "metadata": {
        "colab": {
          "base_uri": "https://localhost:8080/"
        },
        "id": "P9FosR9aha4d",
        "outputId": "c4cb99e7-0e8a-4c4b-e899-8662798cd388"
      },
      "execution_count": null,
      "outputs": [
        {
          "output_type": "stream",
          "name": "stdout",
          "text": [
            "2\n",
            "3 ABC\n",
            "AAABBBCCC\n",
            "5 /HTP\n",
            "/////HHHHHTTTTTPPPPP\n"
          ]
        }
      ]
    },
    {
      "cell_type": "markdown",
      "source": [
        "##단어 공부"
      ],
      "metadata": {
        "id": "Pqu8M7-q9zXj"
      }
    },
    {
      "cell_type": "code",
      "source": [
        "S=input()\n",
        "N=S.lower()\n",
        "S=list(N)\n",
        "a=list(set(S))\n",
        "d=e=c=0\n",
        "for i in range(len(a)):\n",
        "  b=S.count(a[i])\n",
        "  if b>=d:\n",
        "    if b==d:\n",
        "      e=S.count(a[i])\n",
        "    d=b\n",
        "    c=a[i]\n",
        "if e==d:\n",
        " print(\"?\")\n",
        "else:\n",
        "  c=ord(c)\n",
        "  print(chr(c-32))"
      ],
      "metadata": {
        "colab": {
          "base_uri": "https://localhost:8080/"
        },
        "id": "3N-r3hiy91rw",
        "outputId": "bf7aafa7-29f7-464f-d1c6-b3b5e3868ddb"
      },
      "execution_count": null,
      "outputs": [
        {
          "output_type": "stream",
          "name": "stdout",
          "text": [
            "Mississipi\n",
            "?\n"
          ]
        }
      ]
    },
    {
      "cell_type": "markdown",
      "source": [
        "###다른 방법"
      ],
      "metadata": {
        "id": "WfctbrxkMHig"
      }
    },
    {
      "cell_type": "code",
      "source": [
        "words = input().upper()\n",
        "unique_words = list(set(words))  # 입력받은 문자열에서 중복값을 제거\n",
        "\n",
        "cnt_list = []\n",
        "for x in unique_words :\n",
        "    cnt = words.count(x)\n",
        "    cnt_list.append(cnt)  # count 숫자를 리스트에 append\n",
        "\n",
        "if cnt_list.count(max(cnt_list)) > 1 :  # count 숫자 최대값이 중복되면\n",
        "    print('?')\n",
        "else :\n",
        "    max_index = cnt_list.index(max(cnt_list))  # count 숫자 최대값 인덱스(위치)\n",
        "    print(unique_words[max_index])"
      ],
      "metadata": {
        "colab": {
          "base_uri": "https://localhost:8080/"
        },
        "id": "UGf5sOl-Ljlg",
        "outputId": "a1b28cb5-59b9-4217-d192-8e538b6a633d"
      },
      "execution_count": null,
      "outputs": [
        {
          "output_type": "stream",
          "name": "stdout",
          "text": [
            "Mississipi\n",
            "?\n"
          ]
        }
      ]
    },
    {
      "cell_type": "markdown",
      "source": [
        "##단어의 개수"
      ],
      "metadata": {
        "id": "HSTlTUurA5rJ"
      }
    },
    {
      "cell_type": "code",
      "source": [
        "S=input()\n",
        "a=S.split()\n",
        "print(len(a))"
      ],
      "metadata": {
        "colab": {
          "base_uri": "https://localhost:8080/"
        },
        "id": "vKK2XpU9A8VS",
        "outputId": "12e23fa0-ab35-4061-eda8-ff1ac8032772"
      },
      "execution_count": null,
      "outputs": [
        {
          "output_type": "stream",
          "name": "stdout",
          "text": [
            " The first character is a blank\n",
            "6\n"
          ]
        }
      ]
    },
    {
      "cell_type": "markdown",
      "source": [
        "##상수"
      ],
      "metadata": {
        "id": "AkRlLOFXQDin"
      }
    },
    {
      "cell_type": "code",
      "source": [
        "a, b= map(str,input().split())\n",
        "a=a[::-1]\n",
        "b=b[::-1]\n",
        "c=[a,b]\n",
        "print(max(c))"
      ],
      "metadata": {
        "colab": {
          "base_uri": "https://localhost:8080/"
        },
        "id": "aKO22g4-QFSn",
        "outputId": "6a1c8f38-79cb-4e48-9736-ca7adac73458"
      },
      "execution_count": null,
      "outputs": [
        {
          "output_type": "stream",
          "name": "stdout",
          "text": [
            "65 45\n",
            "56\n"
          ]
        }
      ]
    },
    {
      "cell_type": "markdown",
      "source": [
        "##문자와 문자열"
      ],
      "metadata": {
        "id": "fX29kwdqM0NQ"
      }
    },
    {
      "cell_type": "code",
      "source": [
        "S=list(input())\n",
        "i=int(input())\n",
        "print(S[i-1])"
      ],
      "metadata": {
        "id": "lhkwbKU7Q_j-",
        "colab": {
          "base_uri": "https://localhost:8080/"
        },
        "outputId": "6f3a2e57-3181-47a2-a2ef-e38ddf1c97ae"
      },
      "execution_count": 1,
      "outputs": [
        {
          "output_type": "stream",
          "name": "stdout",
          "text": [
            "Sprout\n",
            "3\n",
            "r\n"
          ]
        }
      ]
    }
  ]
}