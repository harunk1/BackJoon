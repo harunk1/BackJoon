{
  "nbformat": 4,
  "nbformat_minor": 0,
  "metadata": {
    "colab": {
      "provenance": [],
      "authorship_tag": "ABX9TyOx5gc3hw4zFFspYrmiCBWC",
      "include_colab_link": true
    },
    "kernelspec": {
      "name": "python3",
      "display_name": "Python 3"
    },
    "language_info": {
      "name": "python"
    }
  },
  "cells": [
    {
      "cell_type": "markdown",
      "metadata": {
        "id": "view-in-github",
        "colab_type": "text"
      },
      "source": [
        "<a href=\"https://colab.research.google.com/github/harunk1/BackJoon/blob/main/%EB%8B%A8%EA%B3%84%EB%B3%84%EB%A1%9C%20%ED%92%80%EA%B8%B0/%EC%8B%AC%ED%99%941.ipynb\" target=\"_parent\"><img src=\"https://colab.research.google.com/assets/colab-badge.svg\" alt=\"Open In Colab\"/></a>"
      ]
    },
    {
      "cell_type": "markdown",
      "source": [
        "##별찍기 - 7"
      ],
      "metadata": {
        "id": "4ZhahHLWV4l8"
      }
    },
    {
      "cell_type": "code",
      "execution_count": null,
      "metadata": {
        "colab": {
          "base_uri": "https://localhost:8080/"
        },
        "id": "Imctw4EkV0sl",
        "outputId": "9a908ec7-ef56-4e60-f69b-c51b8532e06d"
      },
      "outputs": [
        {
          "output_type": "stream",
          "name": "stdout",
          "text": [
            "5\n",
            "    *    \n",
            "   ***   \n",
            "  *****  \n",
            " ******* \n",
            "*********\n",
            " ******* \n",
            "  *****  \n",
            "   ***   \n",
            "    *    \n"
          ]
        }
      ],
      "source": [
        "##출력형식이 잘못됨 중앙 정렬이 아닌 별이 끝에 있어야함\n",
        "N=int(input())\n",
        "a=2*N-1\n",
        "l=1\n",
        "for i in range(a//2+1):\n",
        "  d=\"*\"*l\n",
        "  print(d.center(a))\n",
        "  l=l+2\n",
        "l=l-2\n",
        "for i in range(a//2):\n",
        "  l=l-2\n",
        "  d=\"*\"*l\n",
        "  print(d.center(a))"
      ]
    },
    {
      "cell_type": "markdown",
      "source": [
        "###다른방법"
      ],
      "metadata": {
        "id": "21PxxOf0h4lh"
      }
    },
    {
      "cell_type": "code",
      "source": [
        "n = int(input())\n",
        "for i in range(1, n):\n",
        "    print(' '*(n-i) + '*'*(2*i-1))\n",
        "for i in range(n, 0, -1):\n",
        "    print(' '*(n-i) + '*'*(2*i-1))"
      ],
      "metadata": {
        "id": "-smuyhy7ZTwT",
        "colab": {
          "base_uri": "https://localhost:8080/"
        },
        "outputId": "5c730494-ee95-4bd4-cb8c-0ef70164a764"
      },
      "execution_count": null,
      "outputs": [
        {
          "output_type": "stream",
          "name": "stdout",
          "text": [
            "5\n",
            "    *\n",
            "   ***\n",
            "  *****\n",
            " *******\n",
            "*********\n",
            " *******\n",
            "  *****\n",
            "   ***\n",
            "    *\n"
          ]
        }
      ]
    },
    {
      "cell_type": "markdown",
      "source": [
        "##바구니 순서 바꾸기"
      ],
      "metadata": {
        "id": "XLG-ajczh3E6"
      }
    },
    {
      "cell_type": "code",
      "source": [
        "N,M=map(int, input().split())\n",
        "B = [i+1 for i in range(N)]\n",
        "\n",
        "for _ in range(M):\n",
        "  i,j,k=map(int, input().split())\n",
        "  B[i-1:j] = B[k-1:j] + B[i-1:k-1]\n",
        "print(*B)"
      ],
      "metadata": {
        "id": "quw9lc94hwZZ",
        "colab": {
          "base_uri": "https://localhost:8080/"
        },
        "outputId": "4e39f36e-41c9-498d-f54e-2478808f3d99"
      },
      "execution_count": null,
      "outputs": [
        {
          "output_type": "stream",
          "name": "stdout",
          "text": [
            "10 5\n",
            "1 6 4\n",
            "3 9 8\n",
            "2 10 5\n",
            "1 3 3\n",
            "2 6 2\n",
            "1 4 6 2 3 7 10 5 8 9\n"
          ]
        }
      ]
    },
    {
      "cell_type": "markdown",
      "source": [
        "#팰린드롬인지 확인하기"
      ],
      "metadata": {
        "id": "nOJXqsg28k-m"
      }
    },
    {
      "cell_type": "code",
      "source": [
        "s=list(input())\n",
        "a = reversed(s)\n",
        "if s==list(a):\n",
        "  print(1)\n",
        "else:\n",
        "  print(0)"
      ],
      "metadata": {
        "colab": {
          "base_uri": "https://localhost:8080/"
        },
        "id": "ZmrPVuXb8nee",
        "outputId": "ed7c5bf8-acf1-4905-fdff-e9b646374eef"
      },
      "execution_count": null,
      "outputs": [
        {
          "output_type": "stream",
          "name": "stdout",
          "text": [
            "level\n",
            "1\n"
          ]
        }
      ]
    },
    {
      "cell_type": "markdown",
      "source": [
        "##평균은 넘겠지"
      ],
      "metadata": {
        "id": "Y1i6qu4FdVN1"
      }
    },
    {
      "cell_type": "code",
      "source": [
        "C=int(input())\n",
        "e=[]\n",
        "for _ in range(C):\n",
        "  N=list(map(int,input().split()))\n",
        "  a=(sum(N)-N[0])/N[0]\n",
        "  s=0\n",
        "  for i in range(1,N[0]+1):\n",
        "    if N[i]>a:\n",
        "      s+=1\n",
        "    d=s/N[0]*100\n",
        "  e.append(d)\n",
        "for i in range(C):\n",
        "  print(\"%.3f%%\" % e[i])"
      ],
      "metadata": {
        "colab": {
          "base_uri": "https://localhost:8080/"
        },
        "id": "Pu2SYAd4dX4P",
        "outputId": "2e598044-e5b9-4e49-d2b0-77dd0123f1f5"
      },
      "execution_count": null,
      "outputs": [
        {
          "output_type": "stream",
          "name": "stdout",
          "text": [
            "5\n",
            "5 50 50 70 80 100\n",
            "7 100 95 90 80 70 60 50\n",
            "3 70 90 80\n",
            "3 70 90 81\n",
            "9 100 99 98 97 96 95 94 93 91\n",
            "40.000%\n",
            "57.143%\n",
            "33.333%\n",
            "66.667%\n",
            "55.556%\n"
          ]
        }
      ]
    },
    {
      "cell_type": "markdown",
      "source": [
        "##크로아티아 알파벳"
      ],
      "metadata": {
        "id": "zTthFwsoHYoB"
      }
    },
    {
      "cell_type": "code",
      "source": [
        "cro=[\"c=\",\"c-\",\"dz=\",\"d-\",\"lj\",\"nj\",\"s=\",\"z=\"]\n",
        "ar=input()\n",
        "s=0\n",
        "for i in range(8):\n",
        "    ar=ar.replace(cro[i], '?')\n",
        "print(len(ar)) "
      ],
      "metadata": {
        "colab": {
          "base_uri": "https://localhost:8080/"
        },
        "id": "UBD9ozeYY-zE",
        "outputId": "7166394f-fc96-4252-e6b1-fa7948e23c92"
      },
      "execution_count": 81,
      "outputs": [
        {
          "output_type": "stream",
          "name": "stdout",
          "text": [
            "dz=ak\n",
            "3\n"
          ]
        }
      ]
    }
  ]
}