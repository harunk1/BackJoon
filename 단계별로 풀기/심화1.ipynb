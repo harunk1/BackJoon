{
  "nbformat": 4,
  "nbformat_minor": 0,
  "metadata": {
    "colab": {
      "provenance": [],
      "authorship_tag": "ABX9TyOU9jYFaPBMYse2H30EMF+T",
      "include_colab_link": true
    },
    "kernelspec": {
      "name": "python3",
      "display_name": "Python 3"
    },
    "language_info": {
      "name": "python"
    }
  },
  "cells": [
    {
      "cell_type": "markdown",
      "metadata": {
        "id": "view-in-github",
        "colab_type": "text"
      },
      "source": [
        "<a href=\"https://colab.research.google.com/github/harunk1/BackJoon/blob/main/%EB%8B%A8%EA%B3%84%EB%B3%84%EB%A1%9C%20%ED%92%80%EA%B8%B0/%EC%8B%AC%ED%99%941.ipynb\" target=\"_parent\"><img src=\"https://colab.research.google.com/assets/colab-badge.svg\" alt=\"Open In Colab\"/></a>"
      ]
    },
    {
      "cell_type": "markdown",
      "source": [
        "##별찍기 - 7"
      ],
      "metadata": {
        "id": "4ZhahHLWV4l8"
      }
    },
    {
      "cell_type": "code",
      "execution_count": 36,
      "metadata": {
        "colab": {
          "base_uri": "https://localhost:8080/"
        },
        "id": "Imctw4EkV0sl",
        "outputId": "9a908ec7-ef56-4e60-f69b-c51b8532e06d"
      },
      "outputs": [
        {
          "output_type": "stream",
          "name": "stdout",
          "text": [
            "5\n",
            "    *    \n",
            "   ***   \n",
            "  *****  \n",
            " ******* \n",
            "*********\n",
            " ******* \n",
            "  *****  \n",
            "   ***   \n",
            "    *    \n"
          ]
        }
      ],
      "source": [
        "##출력형식이 잘못됨 중앙 정렬이 아닌 별이 끝에 있어야함\n",
        "N=int(input())\n",
        "a=2*N-1\n",
        "l=1\n",
        "for i in range(a//2+1):\n",
        "  d=\"*\"*l\n",
        "  print(d.center(a))\n",
        "  l=l+2\n",
        "l=l-2\n",
        "for i in range(a//2):\n",
        "  l=l-2\n",
        "  d=\"*\"*l\n",
        "  print(d.center(a))"
      ]
    },
    {
      "cell_type": "code",
      "source": [
        "n = int(input())\n",
        "for i in range(1, n):\n",
        "    print(' '*(n-i) + '*'*(2*i-1))\n",
        "for i in range(n, 0, -1):\n",
        "    print(' '*(n-i) + '*'*(2*i-1))"
      ],
      "metadata": {
        "id": "-smuyhy7ZTwT",
        "colab": {
          "base_uri": "https://localhost:8080/"
        },
        "outputId": "5c730494-ee95-4bd4-cb8c-0ef70164a764"
      },
      "execution_count": 35,
      "outputs": [
        {
          "output_type": "stream",
          "name": "stdout",
          "text": [
            "5\n",
            "    *\n",
            "   ***\n",
            "  *****\n",
            " *******\n",
            "*********\n",
            " *******\n",
            "  *****\n",
            "   ***\n",
            "    *\n"
          ]
        }
      ]
    },
    {
      "cell_type": "code",
      "source": [],
      "metadata": {
        "id": "quw9lc94hwZZ"
      },
      "execution_count": null,
      "outputs": []
    }
  ]
}