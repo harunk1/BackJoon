{
  "nbformat": 4,
  "nbformat_minor": 0,
  "metadata": {
    "colab": {
      "provenance": [],
      "authorship_tag": "ABX9TyNT5Bo50iuaPl1S6yH9khmT",
      "include_colab_link": true
    },
    "kernelspec": {
      "name": "python3",
      "display_name": "Python 3"
    },
    "language_info": {
      "name": "python"
    }
  },
  "cells": [
    {
      "cell_type": "markdown",
      "metadata": {
        "id": "view-in-github",
        "colab_type": "text"
      },
      "source": [
        "<a href=\"https://colab.research.google.com/github/harunk1/BackJoon/blob/main/%EB%8B%A8%EA%B3%84%EB%B3%84%EB%A1%9C%20%ED%92%80%EA%B8%B0/%EC%9E%85%EC%B6%9C%EB%A0%A5%EA%B3%BC%20%EC%82%AC%EC%B9%99%EC%97%B0%EC%82%B0.ipynb\" target=\"_parent\"><img src=\"https://colab.research.google.com/assets/colab-badge.svg\" alt=\"Open In Colab\"/></a>"
      ]
    },
    {
      "cell_type": "markdown",
      "source": [
        "#Hello World!  출력하기"
      ],
      "metadata": {
        "id": "HE8lt1LjwXEg"
      }
    },
    {
      "cell_type": "code",
      "execution_count": null,
      "metadata": {
        "colab": {
          "base_uri": "https://localhost:8080/"
        },
        "id": "_dcPMATPv3B3",
        "outputId": "b182bd64-011d-4e04-c738-11505a9f08cc"
      },
      "outputs": [
        {
          "output_type": "stream",
          "name": "stdout",
          "text": [
            "Hellow world\n"
          ]
        }
      ],
      "source": [
        "print(\"Hello World!\")"
      ]
    },
    {
      "cell_type": "markdown",
      "source": [
        "#A+B 출력하기"
      ],
      "metadata": {
        "id": "jyC0QyyDwb75"
      }
    },
    {
      "cell_type": "code",
      "source": [
        "a, b = map(int, input().split())\n",
        "print(a+b)"
      ],
      "metadata": {
        "colab": {
          "base_uri": "https://localhost:8080/"
        },
        "id": "0x3NTDitv_Ri",
        "outputId": "1530cd72-5da0-4087-b828-da51f21f55fe"
      },
      "execution_count": null,
      "outputs": [
        {
          "output_type": "stream",
          "name": "stdout",
          "text": [
            "1 2\n",
            "3\n"
          ]
        }
      ]
    },
    {
      "cell_type": "markdown",
      "source": [
        "#A-B 출력하기"
      ],
      "metadata": {
        "id": "eOXJkdrawqNn"
      }
    },
    {
      "cell_type": "code",
      "source": [
        "a, b = map(int, input().split())\n",
        "print(a-b)"
      ],
      "metadata": {
        "colab": {
          "base_uri": "https://localhost:8080/"
        },
        "id": "7uZMPSOLwmDw",
        "outputId": "28e51287-cdf5-46c2-e91f-73edad63eec7"
      },
      "execution_count": null,
      "outputs": [
        {
          "output_type": "stream",
          "name": "stdout",
          "text": [
            "1 2\n",
            "-1\n"
          ]
        }
      ]
    },
    {
      "cell_type": "markdown",
      "source": [
        "#A*B 출력하기"
      ],
      "metadata": {
        "id": "mUDQSyz-xAQA"
      }
    },
    {
      "cell_type": "code",
      "source": [
        "a, b = map(int, input().split())\n",
        "print(a*b)"
      ],
      "metadata": {
        "colab": {
          "base_uri": "https://localhost:8080/"
        },
        "id": "5WVKxcHdwyAH",
        "outputId": "1bbe1aa5-58a6-4db8-8ee4-332da0f27861"
      },
      "execution_count": null,
      "outputs": [
        {
          "output_type": "stream",
          "name": "stdout",
          "text": [
            "5 3\n",
            "15\n"
          ]
        }
      ]
    },
    {
      "cell_type": "markdown",
      "source": [
        "#A/B 출력하기"
      ],
      "metadata": {
        "id": "vMinbqF_xLpZ"
      }
    },
    {
      "cell_type": "code",
      "source": [
        "a, b = map(float, input().split())\n",
        "print(a/b)"
      ],
      "metadata": {
        "colab": {
          "base_uri": "https://localhost:8080/"
        },
        "id": "4D5zsPQrw6o0",
        "outputId": "f488e0fc-01a9-44f9-9a82-bb8cd7ab1736"
      },
      "execution_count": null,
      "outputs": [
        {
          "output_type": "stream",
          "name": "stdout",
          "text": [
            "4 5\n",
            "0.8\n"
          ]
        }
      ]
    },
    {
      "cell_type": "markdown",
      "source": [
        "#사칙연산"
      ],
      "metadata": {
        "id": "wuytS2cg2gHe"
      }
    },
    {
      "cell_type": "code",
      "source": [
        "a, b = map(int, input().split())\n",
        "print(a+b)\n",
        "print(a-b)\n",
        "print(a*b)\n",
        "print(a//b) # /하나면 소수점까지 나오고 //두개면 소수점 생략\n",
        "print(a%b)"
      ],
      "metadata": {
        "id": "nUJCQe19xPvd",
        "colab": {
          "base_uri": "https://localhost:8080/"
        },
        "outputId": "4702e32b-1f53-4dbf-8a42-defb6ecb44cc"
      },
      "execution_count": null,
      "outputs": [
        {
          "output_type": "stream",
          "name": "stdout",
          "text": [
            "7 3\n",
            "10\n",
            "4\n",
            "21\n",
            "2\n",
            "1\n"
          ]
        }
      ]
    },
    {
      "cell_type": "markdown",
      "source": [
        "#??!"
      ],
      "metadata": {
        "id": "IbCBvYP82fLf"
      }
    },
    {
      "cell_type": "code",
      "source": [
        "a= input()\n",
        "print(a+\"??!\")"
      ],
      "metadata": {
        "colab": {
          "base_uri": "https://localhost:8080/"
        },
        "id": "Zm7XVuRh0du8",
        "outputId": "c2b3b144-d899-4b89-ccd8-5de4c5528afd"
      },
      "execution_count": null,
      "outputs": [
        {
          "output_type": "stream",
          "name": "stdout",
          "text": [
            "f\n",
            "f??!\n"
          ]
        }
      ]
    },
    {
      "cell_type": "markdown",
      "source": [
        "#1998년생인 내가 태국에서는 2541년생?!"
      ],
      "metadata": {
        "id": "DqfgxFP9c2A9"
      }
    },
    {
      "cell_type": "code",
      "source": [
        "a = int(input())\n",
        "b=543\n",
        "print(a-b)\n"
      ],
      "metadata": {
        "id": "NWJ4TlDv2vv9",
        "colab": {
          "base_uri": "https://localhost:8080/"
        },
        "outputId": "f9c0f371-53c3-4ce6-f735-0c59a972c2d9"
      },
      "execution_count": null,
      "outputs": [
        {
          "output_type": "stream",
          "name": "stdout",
          "text": [
            "2541\n",
            "1998\n"
          ]
        }
      ]
    },
    {
      "cell_type": "markdown",
      "source": [
        "#킹, 퀸, 룩, 비숍, 나이트, 폰"
      ],
      "metadata": {
        "id": "cHgpANb9ghtU"
      }
    },
    {
      "cell_type": "code",
      "source": [
        "a = [1,1,2,2,2,8]\n",
        "b = list(map(int, input().split()))\n",
        "for i in range(0, 6):\n",
        "  print(a[i]-b[i],end=' ') # end=\" \"옵션의 경우 print 문을 이용해 출력을 완료한 뒤의 내용을 수정할 수 있습니다. 기본 값으로는 개행(\\n)이 들어가 있으며 이를 사용해 개행을 없애거나 원하는 문자를 입력할 수 있습니다."
      ],
      "metadata": {
        "colab": {
          "base_uri": "https://localhost:8080/"
        },
        "id": "KVXrlAaUcH1s",
        "outputId": "4a19d40c-bf37-469a-ba1c-337eba517dde"
      },
      "execution_count": null,
      "outputs": [
        {
          "output_type": "stream",
          "name": "stdout",
          "text": [
            "1 2 3 4 5 6\n",
            "0 -1 -1 -2 -3 2 "
          ]
        }
      ]
    },
    {
      "cell_type": "markdown",
      "source": [
        "#나머지"
      ],
      "metadata": {
        "id": "RKQ3Vl5K1B33"
      }
    },
    {
      "cell_type": "code",
      "source": [
        "a,b,c =map(int, input().split())\n",
        "print((a+b)%c, ((a%c)+(b%c))%c, (a*b)%c, ((a%c)*(b%c))%c , sep='\\n')"
      ],
      "metadata": {
        "colab": {
          "base_uri": "https://localhost:8080/"
        },
        "id": "5WbGVORqyVLE",
        "outputId": "da5d33dc-9d5c-489b-9682-7d1ab00d68a7"
      },
      "execution_count": null,
      "outputs": [
        {
          "output_type": "stream",
          "name": "stdout",
          "text": [
            "8 5 4 \n",
            "1\n",
            "1\n",
            "0\n",
            "0\n"
          ]
        }
      ]
    },
    {
      "cell_type": "markdown",
      "source": [
        "#곱셈"
      ],
      "metadata": {
        "id": "eSvYXG5g4Q39"
      }
    },
    {
      "cell_type": "code",
      "source": [
        "a = int(input())\n",
        "b = input()\n",
        "print(a*int(b[2]),a*int(b[1]),a*int(b[0]),a*int(b))"
      ],
      "metadata": {
        "colab": {
          "base_uri": "https://localhost:8080/"
        },
        "id": "xvGp6zVo4PCj",
        "outputId": "1d9e1d06-4529-4bac-8dae-4b060b0ae772"
      },
      "execution_count": null,
      "outputs": [
        {
          "output_type": "stream",
          "name": "stdout",
          "text": [
            "472\n",
            "385\n",
            "2360 3776 1416 181720\n"
          ]
        }
      ]
    },
    {
      "cell_type": "markdown",
      "source": [
        "##꼬마 정민"
      ],
      "metadata": {
        "id": "yINIjAFVm7CX"
      }
    },
    {
      "cell_type": "code",
      "source": [
        "a,b,c=map(int, input().split())\n",
        "print(a+b+c)"
      ],
      "metadata": {
        "id": "_VqroZA8m86v",
        "outputId": "27746119-f258-4674-80c0-634027509ea4",
        "colab": {
          "base_uri": "https://localhost:8080/"
        }
      },
      "execution_count": 3,
      "outputs": [
        {
          "output_type": "stream",
          "name": "stdout",
          "text": [
            "7 77 7777\n",
            "7861\n"
          ]
        }
      ]
    },
    {
      "cell_type": "markdown",
      "source": [
        "#고양이"
      ],
      "metadata": {
        "id": "g23sZlw1PfDA"
      }
    },
    {
      "cell_type": "code",
      "source": [
        "print(\"\\\\    /\\\\\")\n",
        "print(\" )  ( ')\")\n",
        "print(\"(  /  )\")\n",
        "print(\" \\\\(__)|\")"
      ],
      "metadata": {
        "id": "DzV5AL9u-xKe",
        "colab": {
          "base_uri": "https://localhost:8080/"
        },
        "outputId": "e2bcfce8-0640-4397-f269-ed82e173a57b"
      },
      "execution_count": null,
      "outputs": [
        {
          "output_type": "stream",
          "name": "stdout",
          "text": [
            "\\    /\\\n",
            " )  ( ')\n",
            "(  /  )\n",
            " \\(__)|\n"
          ]
        }
      ]
    },
    {
      "cell_type": "markdown",
      "source": [
        "#개"
      ],
      "metadata": {
        "id": "wanXHk2FQhpf"
      }
    },
    {
      "cell_type": "code",
      "source": [
        "print(\"|\\\\_/|\")\n",
        "print(\"|q p|   /}\")\n",
        "print('( 0 )\"\"\"\\\\')\n",
        "print('|\"^\"`    |')\n",
        "print(\"||_/=\\\\\\__|\")"
      ],
      "metadata": {
        "colab": {
          "base_uri": "https://localhost:8080/"
        },
        "id": "dtkTmyCkPg33",
        "outputId": "34b718be-ce6c-403c-87b6-0c9c684c1174"
      },
      "execution_count": null,
      "outputs": [
        {
          "output_type": "stream",
          "name": "stdout",
          "text": [
            "|\\_/|\n",
            "|q p|   /}\n",
            "( 0 )\"\"\"\\\n",
            "|\"^\"`    |\n",
            "||_/=\\\\__|\n"
          ]
        }
      ]
    },
    {
      "cell_type": "markdown",
      "source": [
        "#새싹"
      ],
      "metadata": {
        "id": "X1jfZMdXSxZt"
      }
    },
    {
      "cell_type": "code",
      "source": [
        "print(\"         ,r'\\\"7\")\n",
        "print(\"r`-_   ,'  ,/\")\n",
        "print(\" \\\\. \\\". L_r'\")\n",
        "print(\"   `~\\\\/\")\n",
        "print(\"      |\")\n",
        "print(\"      |\")"
      ],
      "metadata": {
        "colab": {
          "base_uri": "https://localhost:8080/"
        },
        "id": "ATtE9YIAShIC",
        "outputId": "2180d231-e966-4780-b68f-3fccd97c7f61"
      },
      "execution_count": null,
      "outputs": [
        {
          "output_type": "stream",
          "name": "stdout",
          "text": [
            "         ,r'\"7\n",
            "r`-_   ,'  ,/\n",
            " \\. \". L_r'\n",
            "   `~\\/\n",
            "      |\n",
            "      |\n"
          ]
        }
      ]
    }
  ]
}